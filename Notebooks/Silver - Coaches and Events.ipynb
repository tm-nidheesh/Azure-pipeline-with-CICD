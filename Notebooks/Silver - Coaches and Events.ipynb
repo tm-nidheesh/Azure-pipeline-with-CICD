{
 "cells": [
  {
   "cell_type": "markdown",
   "metadata": {
    "application/vnd.databricks.v1+cell": {
     "cellMetadata": {},
     "inputWidgets": {},
     "nuid": "9bebc6ad-4098-4307-911e-58134987b380",
     "showTitle": false,
     "tableResultSettingsMap": {},
     "title": ""
    }
   },
   "source": [
    "## Dynamic Data Reading"
   ]
  },
  {
   "cell_type": "code",
   "execution_count": 0,
   "metadata": {
    "application/vnd.databricks.v1+cell": {
     "cellMetadata": {
      "byteLimit": 2048000,
      "rowLimit": 10000
     },
     "inputWidgets": {},
     "nuid": "c7b6e2e2-530b-43e2-95c0-315a674b5a66",
     "showTitle": false,
     "tableResultSettingsMap": {},
     "title": ""
    }
   },
   "outputs": [],
   "source": [
    "df_events = spark.read.format(\"parquet\")\\\n",
    "    .load(\"abfss://bronze@storageaccolympic.dfs.core.windows.net/events\")"
   ]
  },
  {
   "cell_type": "code",
   "execution_count": 0,
   "metadata": {
    "application/vnd.databricks.v1+cell": {
     "cellMetadata": {
      "byteLimit": 2048000,
      "rowLimit": 10000
     },
     "inputWidgets": {},
     "nuid": "29705904-1c2f-4c37-8dfd-1ca1fde5f0ec",
     "showTitle": false,
     "tableResultSettingsMap": {},
     "title": ""
    }
   },
   "outputs": [
    {
     "output_type": "display_data",
     "data": {
      "text/html": [
       "<style scoped>\n",
       "  .table-result-container {\n",
       "    max-height: 300px;\n",
       "    overflow: auto;\n",
       "  }\n",
       "  table, th, td {\n",
       "    border: 1px solid black;\n",
       "    border-collapse: collapse;\n",
       "  }\n",
       "  th, td {\n",
       "    padding: 5px;\n",
       "  }\n",
       "  th {\n",
       "    text-align: left;\n",
       "  }\n",
       "</style><div class='table-result-container'><table class='table-result'><thead style='background-color: white'><tr><th>event</th><th>tag</th><th>sport</th><th>sport_code</th><th>sport_url</th></tr></thead><tbody><tr><td>Men's Individual</td><td>archery</td><td>Archery</td><td>ARC</td><td>https://olympics.com/en/paris-2024/sports/archery</td></tr><tr><td>Women's Individual</td><td>archery</td><td>Archery</td><td>ARC</td><td>https://olympics.com/en/paris-2024/sports/archery</td></tr><tr><td>Men's Team</td><td>archery</td><td>Archery</td><td>ARC</td><td>https://olympics.com/en/paris-2024/sports/archery</td></tr><tr><td>Women's Team</td><td>archery</td><td>Archery</td><td>ARC</td><td>https://olympics.com/en/paris-2024/sports/archery</td></tr><tr><td>Mixed Team</td><td>archery</td><td>Archery</td><td>ARC</td><td>https://olympics.com/en/paris-2024/sports/archery</td></tr><tr><td>Men's Team</td><td>artistic-gymnastics</td><td>Artistic Gymnastics</td><td>GAR</td><td>https://olympics.com/en/paris-2024/sports/artistic-gymnastics</td></tr><tr><td>Men's All-Around</td><td>artistic-gymnastics</td><td>Artistic Gymnastics</td><td>GAR</td><td>https://olympics.com/en/paris-2024/sports/artistic-gymnastics</td></tr><tr><td>Men's Floor Exercise</td><td>artistic-gymnastics</td><td>Artistic Gymnastics</td><td>GAR</td><td>https://olympics.com/en/paris-2024/sports/artistic-gymnastics</td></tr><tr><td>Men's Pommel Horse</td><td>artistic-gymnastics</td><td>Artistic Gymnastics</td><td>GAR</td><td>https://olympics.com/en/paris-2024/sports/artistic-gymnastics</td></tr><tr><td>Men's Rings</td><td>artistic-gymnastics</td><td>Artistic Gymnastics</td><td>GAR</td><td>https://olympics.com/en/paris-2024/sports/artistic-gymnastics</td></tr><tr><td>Men's Vault</td><td>artistic-gymnastics</td><td>Artistic Gymnastics</td><td>GAR</td><td>https://olympics.com/en/paris-2024/sports/artistic-gymnastics</td></tr><tr><td>Men's Parallel Bars</td><td>artistic-gymnastics</td><td>Artistic Gymnastics</td><td>GAR</td><td>https://olympics.com/en/paris-2024/sports/artistic-gymnastics</td></tr><tr><td>Men's Horizontal Bar</td><td>artistic-gymnastics</td><td>Artistic Gymnastics</td><td>GAR</td><td>https://olympics.com/en/paris-2024/sports/artistic-gymnastics</td></tr><tr><td>Women's Team</td><td>artistic-gymnastics</td><td>Artistic Gymnastics</td><td>GAR</td><td>https://olympics.com/en/paris-2024/sports/artistic-gymnastics</td></tr><tr><td>Women's All-Around</td><td>artistic-gymnastics</td><td>Artistic Gymnastics</td><td>GAR</td><td>https://olympics.com/en/paris-2024/sports/artistic-gymnastics</td></tr><tr><td>Women's Vault</td><td>artistic-gymnastics</td><td>Artistic Gymnastics</td><td>GAR</td><td>https://olympics.com/en/paris-2024/sports/artistic-gymnastics</td></tr><tr><td>Women's Uneven Bars</td><td>artistic-gymnastics</td><td>Artistic Gymnastics</td><td>GAR</td><td>https://olympics.com/en/paris-2024/sports/artistic-gymnastics</td></tr><tr><td>Women's Balance Beam</td><td>artistic-gymnastics</td><td>Artistic Gymnastics</td><td>GAR</td><td>https://olympics.com/en/paris-2024/sports/artistic-gymnastics</td></tr><tr><td>Women's Floor Exercise</td><td>artistic-gymnastics</td><td>Artistic Gymnastics</td><td>GAR</td><td>https://olympics.com/en/paris-2024/sports/artistic-gymnastics</td></tr><tr><td>Duet</td><td>artistic-swimming</td><td>Artistic Swimming</td><td>SWA</td><td>https://olympics.com/en/paris-2024/sports/artistic-swimming</td></tr><tr><td>Team</td><td>artistic-swimming</td><td>Artistic Swimming</td><td>SWA</td><td>https://olympics.com/en/paris-2024/sports/artistic-swimming</td></tr><tr><td>Men's 100m</td><td>athletics</td><td>Athletics</td><td>ATH</td><td>https://olympics.com/en/paris-2024/sports/athletics</td></tr><tr><td>Men's 200m</td><td>athletics</td><td>Athletics</td><td>ATH</td><td>https://olympics.com/en/paris-2024/sports/athletics</td></tr><tr><td>Men's 400m</td><td>athletics</td><td>Athletics</td><td>ATH</td><td>https://olympics.com/en/paris-2024/sports/athletics</td></tr><tr><td>Men's 800m</td><td>athletics</td><td>Athletics</td><td>ATH</td><td>https://olympics.com/en/paris-2024/sports/athletics</td></tr><tr><td>Men's 1500m</td><td>athletics</td><td>Athletics</td><td>ATH</td><td>https://olympics.com/en/paris-2024/sports/athletics</td></tr><tr><td>Men's 5000m</td><td>athletics</td><td>Athletics</td><td>ATH</td><td>https://olympics.com/en/paris-2024/sports/athletics</td></tr><tr><td>Men's 10,000m</td><td>athletics</td><td>Athletics</td><td>ATH</td><td>https://olympics.com/en/paris-2024/sports/athletics</td></tr><tr><td>Men's Marathon</td><td>athletics</td><td>Athletics</td><td>ATH</td><td>https://olympics.com/en/paris-2024/sports/athletics</td></tr><tr><td>Men's 3000m Steeplechase</td><td>athletics</td><td>Athletics</td><td>ATH</td><td>https://olympics.com/en/paris-2024/sports/athletics</td></tr><tr><td>Men's 110m Hurdles</td><td>athletics</td><td>Athletics</td><td>ATH</td><td>https://olympics.com/en/paris-2024/sports/athletics</td></tr><tr><td>Men's 400m Hurdles</td><td>athletics</td><td>Athletics</td><td>ATH</td><td>https://olympics.com/en/paris-2024/sports/athletics</td></tr><tr><td>Men's High Jump</td><td>athletics</td><td>Athletics</td><td>ATH</td><td>https://olympics.com/en/paris-2024/sports/athletics</td></tr><tr><td>Men's Pole Vault</td><td>athletics</td><td>Athletics</td><td>ATH</td><td>https://olympics.com/en/paris-2024/sports/athletics</td></tr><tr><td>Men's Long Jump</td><td>athletics</td><td>Athletics</td><td>ATH</td><td>https://olympics.com/en/paris-2024/sports/athletics</td></tr><tr><td>Men's Triple Jump</td><td>athletics</td><td>Athletics</td><td>ATH</td><td>https://olympics.com/en/paris-2024/sports/athletics</td></tr><tr><td>Men's Shot Put</td><td>athletics</td><td>Athletics</td><td>ATH</td><td>https://olympics.com/en/paris-2024/sports/athletics</td></tr><tr><td>Men's Discus Throw</td><td>athletics</td><td>Athletics</td><td>ATH</td><td>https://olympics.com/en/paris-2024/sports/athletics</td></tr><tr><td>Men's Hammer Throw</td><td>athletics</td><td>Athletics</td><td>ATH</td><td>https://olympics.com/en/paris-2024/sports/athletics</td></tr><tr><td>Men's Javelin Throw</td><td>athletics</td><td>Athletics</td><td>ATH</td><td>https://olympics.com/en/paris-2024/sports/athletics</td></tr><tr><td>Men's Decathlon</td><td>athletics</td><td>Athletics</td><td>ATH</td><td>https://olympics.com/en/paris-2024/sports/athletics</td></tr><tr><td>Men's 20km Race Walk</td><td>athletics</td><td>Athletics</td><td>ATH</td><td>https://olympics.com/en/paris-2024/sports/athletics</td></tr><tr><td>Men's 4 x 100m Relay</td><td>athletics</td><td>Athletics</td><td>ATH</td><td>https://olympics.com/en/paris-2024/sports/athletics</td></tr><tr><td>Men's 4 x 400m Relay</td><td>athletics</td><td>Athletics</td><td>ATH</td><td>https://olympics.com/en/paris-2024/sports/athletics</td></tr><tr><td>Women's 100m</td><td>athletics</td><td>Athletics</td><td>ATH</td><td>https://olympics.com/en/paris-2024/sports/athletics</td></tr><tr><td>Women's 200m</td><td>athletics</td><td>Athletics</td><td>ATH</td><td>https://olympics.com/en/paris-2024/sports/athletics</td></tr><tr><td>Women's 400m</td><td>athletics</td><td>Athletics</td><td>ATH</td><td>https://olympics.com/en/paris-2024/sports/athletics</td></tr><tr><td>Women's 800m</td><td>athletics</td><td>Athletics</td><td>ATH</td><td>https://olympics.com/en/paris-2024/sports/athletics</td></tr><tr><td>Women's 1500m</td><td>athletics</td><td>Athletics</td><td>ATH</td><td>https://olympics.com/en/paris-2024/sports/athletics</td></tr><tr><td>Women's 5000m</td><td>athletics</td><td>Athletics</td><td>ATH</td><td>https://olympics.com/en/paris-2024/sports/athletics</td></tr><tr><td>Women's 10,000m</td><td>athletics</td><td>Athletics</td><td>ATH</td><td>https://olympics.com/en/paris-2024/sports/athletics</td></tr><tr><td>Women's Marathon</td><td>athletics</td><td>Athletics</td><td>ATH</td><td>https://olympics.com/en/paris-2024/sports/athletics</td></tr><tr><td>Women's 3000m Steeplechase</td><td>athletics</td><td>Athletics</td><td>ATH</td><td>https://olympics.com/en/paris-2024/sports/athletics</td></tr><tr><td>Women's 100m Hurdles</td><td>athletics</td><td>Athletics</td><td>ATH</td><td>https://olympics.com/en/paris-2024/sports/athletics</td></tr><tr><td>Women's 400m Hurdles</td><td>athletics</td><td>Athletics</td><td>ATH</td><td>https://olympics.com/en/paris-2024/sports/athletics</td></tr><tr><td>Women's High Jump</td><td>athletics</td><td>Athletics</td><td>ATH</td><td>https://olympics.com/en/paris-2024/sports/athletics</td></tr><tr><td>Women's Pole Vault</td><td>athletics</td><td>Athletics</td><td>ATH</td><td>https://olympics.com/en/paris-2024/sports/athletics</td></tr><tr><td>Women's Long Jump</td><td>athletics</td><td>Athletics</td><td>ATH</td><td>https://olympics.com/en/paris-2024/sports/athletics</td></tr><tr><td>Women's Triple Jump</td><td>athletics</td><td>Athletics</td><td>ATH</td><td>https://olympics.com/en/paris-2024/sports/athletics</td></tr><tr><td>Women's Shot Put</td><td>athletics</td><td>Athletics</td><td>ATH</td><td>https://olympics.com/en/paris-2024/sports/athletics</td></tr><tr><td>Women's Discus Throw</td><td>athletics</td><td>Athletics</td><td>ATH</td><td>https://olympics.com/en/paris-2024/sports/athletics</td></tr><tr><td>Women's Hammer Throw</td><td>athletics</td><td>Athletics</td><td>ATH</td><td>https://olympics.com/en/paris-2024/sports/athletics</td></tr><tr><td>Women's Javelin Throw</td><td>athletics</td><td>Athletics</td><td>ATH</td><td>https://olympics.com/en/paris-2024/sports/athletics</td></tr><tr><td>Women's Heptathlon</td><td>athletics</td><td>Athletics</td><td>ATH</td><td>https://olympics.com/en/paris-2024/sports/athletics</td></tr><tr><td>Women's 20km Race Walk</td><td>athletics</td><td>Athletics</td><td>ATH</td><td>https://olympics.com/en/paris-2024/sports/athletics</td></tr><tr><td>Women's 4 x 100m Relay</td><td>athletics</td><td>Athletics</td><td>ATH</td><td>https://olympics.com/en/paris-2024/sports/athletics</td></tr><tr><td>Women's 4 x 400m Relay</td><td>athletics</td><td>Athletics</td><td>ATH</td><td>https://olympics.com/en/paris-2024/sports/athletics</td></tr><tr><td>4 x 400m Relay Mixed</td><td>athletics</td><td>Athletics</td><td>ATH</td><td>https://olympics.com/en/paris-2024/sports/athletics</td></tr><tr><td>Marathon Race Walk Relay Mixed</td><td>athletics</td><td>Athletics</td><td>ATH</td><td>https://olympics.com/en/paris-2024/sports/athletics</td></tr><tr><td>Men's Singles</td><td>badminton</td><td>Badminton</td><td>BDM</td><td>https://olympics.com/en/paris-2024/sports/badminton</td></tr><tr><td>Women's Singles</td><td>badminton</td><td>Badminton</td><td>BDM</td><td>https://olympics.com/en/paris-2024/sports/badminton</td></tr><tr><td>Men's Doubles</td><td>badminton</td><td>Badminton</td><td>BDM</td><td>https://olympics.com/en/paris-2024/sports/badminton</td></tr><tr><td>Women's Doubles</td><td>badminton</td><td>Badminton</td><td>BDM</td><td>https://olympics.com/en/paris-2024/sports/badminton</td></tr><tr><td>Mixed Doubles</td><td>badminton</td><td>Badminton</td><td>BDM</td><td>https://olympics.com/en/paris-2024/sports/badminton</td></tr><tr><td>Men</td><td>basketball</td><td>Basketball</td><td>BKB</td><td>https://olympics.com/en/paris-2024/sports/basketball</td></tr><tr><td>Women</td><td>basketball</td><td>Basketball</td><td>BKB</td><td>https://olympics.com/en/paris-2024/sports/basketball</td></tr><tr><td>Men</td><td>3x3-basketball</td><td>3x3 Basketball</td><td>BK3</td><td>https://olympics.com/en/paris-2024/sports/3x3-basketball</td></tr><tr><td>Women</td><td>3x3-basketball</td><td>3x3 Basketball</td><td>BK3</td><td>https://olympics.com/en/paris-2024/sports/3x3-basketball</td></tr><tr><td>Men</td><td>beach-volleyball</td><td>Beach Volleyball</td><td>VBV</td><td>https://olympics.com/en/paris-2024/sports/beach-volleyball</td></tr><tr><td>Women</td><td>beach-volleyball</td><td>Beach Volleyball</td><td>VBV</td><td>https://olympics.com/en/paris-2024/sports/beach-volleyball</td></tr><tr><td>Men's 51kg</td><td>boxing</td><td>Boxing</td><td>BOX</td><td>https://olympics.com/en/paris-2024/sports/boxing</td></tr><tr><td>Men's 57kg</td><td>boxing</td><td>Boxing</td><td>BOX</td><td>https://olympics.com/en/paris-2024/sports/boxing</td></tr><tr><td>Men's 63.5kg</td><td>boxing</td><td>Boxing</td><td>BOX</td><td>https://olympics.com/en/paris-2024/sports/boxing</td></tr><tr><td>Men's 71kg</td><td>boxing</td><td>Boxing</td><td>BOX</td><td>https://olympics.com/en/paris-2024/sports/boxing</td></tr><tr><td>Men's 80kg</td><td>boxing</td><td>Boxing</td><td>BOX</td><td>https://olympics.com/en/paris-2024/sports/boxing</td></tr><tr><td>Men's 92kg</td><td>boxing</td><td>Boxing</td><td>BOX</td><td>https://olympics.com/en/paris-2024/sports/boxing</td></tr><tr><td>Men's +92kg</td><td>boxing</td><td>Boxing</td><td>BOX</td><td>https://olympics.com/en/paris-2024/sports/boxing</td></tr><tr><td>Women's 50kg</td><td>boxing</td><td>Boxing</td><td>BOX</td><td>https://olympics.com/en/paris-2024/sports/boxing</td></tr><tr><td>Women's 54kg</td><td>boxing</td><td>Boxing</td><td>BOX</td><td>https://olympics.com/en/paris-2024/sports/boxing</td></tr><tr><td>Women's 57kg</td><td>boxing</td><td>Boxing</td><td>BOX</td><td>https://olympics.com/en/paris-2024/sports/boxing</td></tr><tr><td>Women's 60kg</td><td>boxing</td><td>Boxing</td><td>BOX</td><td>https://olympics.com/en/paris-2024/sports/boxing</td></tr><tr><td>Women's 66kg</td><td>boxing</td><td>Boxing</td><td>BOX</td><td>https://olympics.com/en/paris-2024/sports/boxing</td></tr><tr><td>Women's 75kg</td><td>boxing</td><td>Boxing</td><td>BOX</td><td>https://olympics.com/en/paris-2024/sports/boxing</td></tr><tr><td>B-Boys</td><td>breaking</td><td>Breaking</td><td>BKG</td><td>https://olympics.com/en/paris-2024/sports/breaking</td></tr><tr><td>B-Girls</td><td>breaking</td><td>Breaking</td><td>BKG</td><td>https://olympics.com/en/paris-2024/sports/breaking</td></tr><tr><td>Men's Kayak Single</td><td>canoe-kayak-slalom</td><td>Canoe Slalom</td><td>CSL</td><td>https://olympics.com/en/paris-2024/sports/canoe-kayak-slalom</td></tr><tr><td>Women's Kayak Single</td><td>canoe-kayak-slalom</td><td>Canoe Slalom</td><td>CSL</td><td>https://olympics.com/en/paris-2024/sports/canoe-kayak-slalom</td></tr><tr><td>Men's Canoe Single</td><td>canoe-kayak-slalom</td><td>Canoe Slalom</td><td>CSL</td><td>https://olympics.com/en/paris-2024/sports/canoe-kayak-slalom</td></tr><tr><td>Women's Canoe Single</td><td>canoe-kayak-slalom</td><td>Canoe Slalom</td><td>CSL</td><td>https://olympics.com/en/paris-2024/sports/canoe-kayak-slalom</td></tr><tr><td>Men's Kayak Cross</td><td>canoe-kayak-slalom</td><td>Canoe Slalom</td><td>CSL</td><td>https://olympics.com/en/paris-2024/sports/canoe-kayak-slalom</td></tr><tr><td>Women's Kayak Cross</td><td>canoe-kayak-slalom</td><td>Canoe Slalom</td><td>CSL</td><td>https://olympics.com/en/paris-2024/sports/canoe-kayak-slalom</td></tr><tr><td>Men's Kayak Single 1000m</td><td>canoe-kayak-flatwater</td><td>Canoe Sprint</td><td>CSP</td><td>https://olympics.com/en/paris-2024/sports/canoe-kayak-flatwater</td></tr><tr><td>Men's Kayak Double 500m</td><td>canoe-kayak-flatwater</td><td>Canoe Sprint</td><td>CSP</td><td>https://olympics.com/en/paris-2024/sports/canoe-kayak-flatwater</td></tr><tr><td>Men's Kayak Four 500m</td><td>canoe-kayak-flatwater</td><td>Canoe Sprint</td><td>CSP</td><td>https://olympics.com/en/paris-2024/sports/canoe-kayak-flatwater</td></tr><tr><td>Men's Canoe Single 1000m</td><td>canoe-kayak-flatwater</td><td>Canoe Sprint</td><td>CSP</td><td>https://olympics.com/en/paris-2024/sports/canoe-kayak-flatwater</td></tr><tr><td>Men's Canoe Double 500m</td><td>canoe-kayak-flatwater</td><td>Canoe Sprint</td><td>CSP</td><td>https://olympics.com/en/paris-2024/sports/canoe-kayak-flatwater</td></tr><tr><td>Women's Kayak Single 500m</td><td>canoe-kayak-flatwater</td><td>Canoe Sprint</td><td>CSP</td><td>https://olympics.com/en/paris-2024/sports/canoe-kayak-flatwater</td></tr><tr><td>Women's Kayak Double 500m</td><td>canoe-kayak-flatwater</td><td>Canoe Sprint</td><td>CSP</td><td>https://olympics.com/en/paris-2024/sports/canoe-kayak-flatwater</td></tr><tr><td>Women's Kayak Four 500m</td><td>canoe-kayak-flatwater</td><td>Canoe Sprint</td><td>CSP</td><td>https://olympics.com/en/paris-2024/sports/canoe-kayak-flatwater</td></tr><tr><td>Women's Canoe Single 200m</td><td>canoe-kayak-flatwater</td><td>Canoe Sprint</td><td>CSP</td><td>https://olympics.com/en/paris-2024/sports/canoe-kayak-flatwater</td></tr><tr><td>Women's Canoe Double 500m</td><td>canoe-kayak-flatwater</td><td>Canoe Sprint</td><td>CSP</td><td>https://olympics.com/en/paris-2024/sports/canoe-kayak-flatwater</td></tr><tr><td>Women's Park</td><td>cycling-bmx-freestyle</td><td>Cycling BMX Freestyle</td><td>BMF</td><td>https://olympics.com/en/paris-2024/sports/cycling-bmx-freestyle</td></tr><tr><td>Men's Park</td><td>cycling-bmx-freestyle</td><td>Cycling BMX Freestyle</td><td>BMF</td><td>https://olympics.com/en/paris-2024/sports/cycling-bmx-freestyle</td></tr><tr><td>Women</td><td>cycling-bmx-racing</td><td>Cycling BMX Racing</td><td>BMX</td><td>https://olympics.com/en/paris-2024/sports/cycling-bmx-racing</td></tr><tr><td>Men</td><td>cycling-bmx-racing</td><td>Cycling BMX Racing</td><td>BMX</td><td>https://olympics.com/en/paris-2024/sports/cycling-bmx-racing</td></tr><tr><td>Men's Cross-country</td><td>cycling-mountain-bike</td><td>Cycling Mountain Bike</td><td>MTB</td><td>https://olympics.com/en/paris-2024/sports/cycling-mountain-bike</td></tr><tr><td>Women's Cross-country</td><td>cycling-mountain-bike</td><td>Cycling Mountain Bike</td><td>MTB</td><td>https://olympics.com/en/paris-2024/sports/cycling-mountain-bike</td></tr><tr><td>Men's Road Race</td><td>cycling-road</td><td>Cycling Road</td><td>CRD</td><td>https://olympics.com/en/paris-2024/sports/cycling-road</td></tr><tr><td>Women's Road Race</td><td>cycling-road</td><td>Cycling Road</td><td>CRD</td><td>https://olympics.com/en/paris-2024/sports/cycling-road</td></tr><tr><td>Men's Individual Time Trial</td><td>cycling-road</td><td>Cycling Road</td><td>CRD</td><td>https://olympics.com/en/paris-2024/sports/cycling-road</td></tr><tr><td>Women's Individual Time Trial</td><td>cycling-road</td><td>Cycling Road</td><td>CRD</td><td>https://olympics.com/en/paris-2024/sports/cycling-road</td></tr><tr><td>Men's Team Sprint</td><td>cycling-track</td><td>Cycling Track</td><td>CTR</td><td>https://olympics.com/en/paris-2024/sports/cycling-track</td></tr><tr><td>Men's Sprint</td><td>cycling-track</td><td>Cycling Track</td><td>CTR</td><td>https://olympics.com/en/paris-2024/sports/cycling-track</td></tr><tr><td>Men's Keirin</td><td>cycling-track</td><td>Cycling Track</td><td>CTR</td><td>https://olympics.com/en/paris-2024/sports/cycling-track</td></tr><tr><td>Men's Team Pursuit</td><td>cycling-track</td><td>Cycling Track</td><td>CTR</td><td>https://olympics.com/en/paris-2024/sports/cycling-track</td></tr><tr><td>Men's Omnium</td><td>cycling-track</td><td>Cycling Track</td><td>CTR</td><td>https://olympics.com/en/paris-2024/sports/cycling-track</td></tr><tr><td>Men's Madison</td><td>cycling-track</td><td>Cycling Track</td><td>CTR</td><td>https://olympics.com/en/paris-2024/sports/cycling-track</td></tr><tr><td>Women's Team Sprint</td><td>cycling-track</td><td>Cycling Track</td><td>CTR</td><td>https://olympics.com/en/paris-2024/sports/cycling-track</td></tr><tr><td>Women's Sprint</td><td>cycling-track</td><td>Cycling Track</td><td>CTR</td><td>https://olympics.com/en/paris-2024/sports/cycling-track</td></tr><tr><td>Women's Keirin</td><td>cycling-track</td><td>Cycling Track</td><td>CTR</td><td>https://olympics.com/en/paris-2024/sports/cycling-track</td></tr><tr><td>Women's Team Pursuit</td><td>cycling-track</td><td>Cycling Track</td><td>CTR</td><td>https://olympics.com/en/paris-2024/sports/cycling-track</td></tr><tr><td>Women's Omnium</td><td>cycling-track</td><td>Cycling Track</td><td>CTR</td><td>https://olympics.com/en/paris-2024/sports/cycling-track</td></tr><tr><td>Women's Madison</td><td>cycling-track</td><td>Cycling Track</td><td>CTR</td><td>https://olympics.com/en/paris-2024/sports/cycling-track</td></tr><tr><td>Women's 3m Springboard</td><td>diving</td><td>Diving</td><td>DIV</td><td>https://olympics.com/en/paris-2024/sports/diving</td></tr><tr><td>Women's 10m Platform</td><td>diving</td><td>Diving</td><td>DIV</td><td>https://olympics.com/en/paris-2024/sports/diving</td></tr><tr><td>Women's Synchronised 3m Springboard</td><td>diving</td><td>Diving</td><td>DIV</td><td>https://olympics.com/en/paris-2024/sports/diving</td></tr><tr><td>Women's Synchronised 10m Platform</td><td>diving</td><td>Diving</td><td>DIV</td><td>https://olympics.com/en/paris-2024/sports/diving</td></tr><tr><td>Men's 3m Springboard</td><td>diving</td><td>Diving</td><td>DIV</td><td>https://olympics.com/en/paris-2024/sports/diving</td></tr><tr><td>Men's 10m Platform</td><td>diving</td><td>Diving</td><td>DIV</td><td>https://olympics.com/en/paris-2024/sports/diving</td></tr><tr><td>Men's Synchronised 3m Springboard</td><td>diving</td><td>Diving</td><td>DIV</td><td>https://olympics.com/en/paris-2024/sports/diving</td></tr><tr><td>Men's Synchronised 10m Platform</td><td>diving</td><td>Diving</td><td>DIV</td><td>https://olympics.com/en/paris-2024/sports/diving</td></tr><tr><td>Eventing Team</td><td>equestrian</td><td>Equestrian</td><td>EQU</td><td>https://olympics.com/en/paris-2024/sports/equestrian</td></tr><tr><td>Eventing Individual</td><td>equestrian</td><td>Equestrian</td><td>EQU</td><td>https://olympics.com/en/paris-2024/sports/equestrian</td></tr><tr><td>Dressage Team</td><td>equestrian</td><td>Equestrian</td><td>EQU</td><td>https://olympics.com/en/paris-2024/sports/equestrian</td></tr><tr><td>Dressage Individual</td><td>equestrian</td><td>Equestrian</td><td>EQU</td><td>https://olympics.com/en/paris-2024/sports/equestrian</td></tr><tr><td>Jumping Team</td><td>equestrian</td><td>Equestrian</td><td>EQU</td><td>https://olympics.com/en/paris-2024/sports/equestrian</td></tr><tr><td>Jumping Individual</td><td>equestrian</td><td>Equestrian</td><td>EQU</td><td>https://olympics.com/en/paris-2024/sports/equestrian</td></tr><tr><td>Women's Épée Individual</td><td>fencing</td><td>Fencing</td><td>FEN</td><td>https://olympics.com/en/paris-2024/sports/fencing</td></tr><tr><td>Women's Foil Individual</td><td>fencing</td><td>Fencing</td><td>FEN</td><td>https://olympics.com/en/paris-2024/sports/fencing</td></tr><tr><td>Women's Sabre Individual</td><td>fencing</td><td>Fencing</td><td>FEN</td><td>https://olympics.com/en/paris-2024/sports/fencing</td></tr><tr><td>Men's Épée Individual</td><td>fencing</td><td>Fencing</td><td>FEN</td><td>https://olympics.com/en/paris-2024/sports/fencing</td></tr><tr><td>Men's Foil Individual</td><td>fencing</td><td>Fencing</td><td>FEN</td><td>https://olympics.com/en/paris-2024/sports/fencing</td></tr><tr><td>Men's Sabre Individual</td><td>fencing</td><td>Fencing</td><td>FEN</td><td>https://olympics.com/en/paris-2024/sports/fencing</td></tr><tr><td>Women's Épée Team</td><td>fencing</td><td>Fencing</td><td>FEN</td><td>https://olympics.com/en/paris-2024/sports/fencing</td></tr><tr><td>Women's Foil Team</td><td>fencing</td><td>Fencing</td><td>FEN</td><td>https://olympics.com/en/paris-2024/sports/fencing</td></tr><tr><td>Women's Sabre Team</td><td>fencing</td><td>Fencing</td><td>FEN</td><td>https://olympics.com/en/paris-2024/sports/fencing</td></tr><tr><td>Men's Épée Team</td><td>fencing</td><td>Fencing</td><td>FEN</td><td>https://olympics.com/en/paris-2024/sports/fencing</td></tr><tr><td>Men's Foil Team</td><td>fencing</td><td>Fencing</td><td>FEN</td><td>https://olympics.com/en/paris-2024/sports/fencing</td></tr><tr><td>Men's Sabre Team</td><td>fencing</td><td>Fencing</td><td>FEN</td><td>https://olympics.com/en/paris-2024/sports/fencing</td></tr><tr><td>Men</td><td>football</td><td>Football</td><td>FBL</td><td>https://olympics.com/en/paris-2024/sports/football</td></tr><tr><td>Women</td><td>football</td><td>Football</td><td>FBL</td><td>https://olympics.com/en/paris-2024/sports/football</td></tr><tr><td>Men's Individual Stroke Play</td><td>golf</td><td>Golf</td><td>GLF</td><td>https://olympics.com/en/paris-2024/sports/golf</td></tr><tr><td>Women's Individual Stroke Play</td><td>golf</td><td>Golf</td><td>GLF</td><td>https://olympics.com/en/paris-2024/sports/golf</td></tr><tr><td>Men</td><td>handball</td><td>Handball</td><td>HBL</td><td>https://olympics.com/en/paris-2024/sports/handball</td></tr><tr><td>Women</td><td>handball</td><td>Handball</td><td>HBL</td><td>https://olympics.com/en/paris-2024/sports/handball</td></tr><tr><td>Men</td><td>hockey</td><td>Hockey</td><td>HOC</td><td>https://olympics.com/en/paris-2024/sports/hockey</td></tr><tr><td>Women</td><td>hockey</td><td>Hockey</td><td>HOC</td><td>https://olympics.com/en/paris-2024/sports/hockey</td></tr><tr><td>Women -48 kg</td><td>judo</td><td>Judo</td><td>JUD</td><td>https://olympics.com/en/paris-2024/sports/judo</td></tr><tr><td>Women -52 kg</td><td>judo</td><td>Judo</td><td>JUD</td><td>https://olympics.com/en/paris-2024/sports/judo</td></tr><tr><td>Women -57 kg</td><td>judo</td><td>Judo</td><td>JUD</td><td>https://olympics.com/en/paris-2024/sports/judo</td></tr><tr><td>Women -63 kg</td><td>judo</td><td>Judo</td><td>JUD</td><td>https://olympics.com/en/paris-2024/sports/judo</td></tr><tr><td>Women -70 kg</td><td>judo</td><td>Judo</td><td>JUD</td><td>https://olympics.com/en/paris-2024/sports/judo</td></tr><tr><td>Women -78 kg</td><td>judo</td><td>Judo</td><td>JUD</td><td>https://olympics.com/en/paris-2024/sports/judo</td></tr><tr><td>Women +78 kg</td><td>judo</td><td>Judo</td><td>JUD</td><td>https://olympics.com/en/paris-2024/sports/judo</td></tr><tr><td>Men -60 kg</td><td>judo</td><td>Judo</td><td>JUD</td><td>https://olympics.com/en/paris-2024/sports/judo</td></tr><tr><td>Men -66 kg</td><td>judo</td><td>Judo</td><td>JUD</td><td>https://olympics.com/en/paris-2024/sports/judo</td></tr><tr><td>Men -73 kg</td><td>judo</td><td>Judo</td><td>JUD</td><td>https://olympics.com/en/paris-2024/sports/judo</td></tr><tr><td>Men -81 kg</td><td>judo</td><td>Judo</td><td>JUD</td><td>https://olympics.com/en/paris-2024/sports/judo</td></tr><tr><td>Men -90 kg</td><td>judo</td><td>Judo</td><td>JUD</td><td>https://olympics.com/en/paris-2024/sports/judo</td></tr><tr><td>Men -100 kg</td><td>judo</td><td>Judo</td><td>JUD</td><td>https://olympics.com/en/paris-2024/sports/judo</td></tr><tr><td>Men +100 kg</td><td>judo</td><td>Judo</td><td>JUD</td><td>https://olympics.com/en/paris-2024/sports/judo</td></tr><tr><td>Mixed Team</td><td>judo</td><td>Judo</td><td>JUD</td><td>https://olympics.com/en/paris-2024/sports/judo</td></tr><tr><td>Women's 10km</td><td>marathon-swimming</td><td>Marathon Swimming</td><td>OWS</td><td>https://olympics.com/en/paris-2024/sports/marathon-swimming</td></tr><tr><td>Men's 10km</td><td>marathon-swimming</td><td>Marathon Swimming</td><td>OWS</td><td>https://olympics.com/en/paris-2024/sports/marathon-swimming</td></tr><tr><td>Women's Individual</td><td>modern-pentathlon</td><td>Modern Pentathlon</td><td>MPN</td><td>https://olympics.com/en/paris-2024/sports/modern-pentathlon</td></tr><tr><td>Men's Individual</td><td>modern-pentathlon</td><td>Modern Pentathlon</td><td>MPN</td><td>https://olympics.com/en/paris-2024/sports/modern-pentathlon</td></tr><tr><td>Individual All-Around</td><td>rhythmic-gymnastics</td><td>Rhythmic Gymnastics</td><td>GRY</td><td>https://olympics.com/en/paris-2024/sports/rhythmic-gymnastics</td></tr><tr><td>Group All-Around</td><td>rhythmic-gymnastics</td><td>Rhythmic Gymnastics</td><td>GRY</td><td>https://olympics.com/en/paris-2024/sports/rhythmic-gymnastics</td></tr><tr><td>Women's Pair</td><td>rowing</td><td>Rowing</td><td>ROW</td><td>https://olympics.com/en/paris-2024/sports/rowing</td></tr><tr><td>Men's Pair</td><td>rowing</td><td>Rowing</td><td>ROW</td><td>https://olympics.com/en/paris-2024/sports/rowing</td></tr><tr><td>Women's Double Sculls</td><td>rowing</td><td>Rowing</td><td>ROW</td><td>https://olympics.com/en/paris-2024/sports/rowing</td></tr><tr><td>Men's Double Sculls</td><td>rowing</td><td>Rowing</td><td>ROW</td><td>https://olympics.com/en/paris-2024/sports/rowing</td></tr><tr><td>Women's Four</td><td>rowing</td><td>Rowing</td><td>ROW</td><td>https://olympics.com/en/paris-2024/sports/rowing</td></tr><tr><td>Men's Four</td><td>rowing</td><td>Rowing</td><td>ROW</td><td>https://olympics.com/en/paris-2024/sports/rowing</td></tr><tr><td>Women's Single Sculls</td><td>rowing</td><td>Rowing</td><td>ROW</td><td>https://olympics.com/en/paris-2024/sports/rowing</td></tr><tr><td>Men's Single Sculls</td><td>rowing</td><td>Rowing</td><td>ROW</td><td>https://olympics.com/en/paris-2024/sports/rowing</td></tr><tr><td>Lightweight Women's Double Sculls</td><td>rowing</td><td>Rowing</td><td>ROW</td><td>https://olympics.com/en/paris-2024/sports/rowing</td></tr><tr><td>Lightweight Men's Double Sculls</td><td>rowing</td><td>Rowing</td><td>ROW</td><td>https://olympics.com/en/paris-2024/sports/rowing</td></tr><tr><td>Women's Quadruple Sculls</td><td>rowing</td><td>Rowing</td><td>ROW</td><td>https://olympics.com/en/paris-2024/sports/rowing</td></tr><tr><td>Men's Quadruple Sculls</td><td>rowing</td><td>Rowing</td><td>ROW</td><td>https://olympics.com/en/paris-2024/sports/rowing</td></tr><tr><td>Women's Eight</td><td>rowing</td><td>Rowing</td><td>ROW</td><td>https://olympics.com/en/paris-2024/sports/rowing</td></tr><tr><td>Men's Eight</td><td>rowing</td><td>Rowing</td><td>ROW</td><td>https://olympics.com/en/paris-2024/sports/rowing</td></tr><tr><td>Men</td><td>rugby-sevens</td><td>Rugby Sevens</td><td>RU7</td><td>https://olympics.com/en/paris-2024/sports/rugby-sevens</td></tr><tr><td>Women</td><td>rugby-sevens</td><td>Rugby Sevens</td><td>RU7</td><td>https://olympics.com/en/paris-2024/sports/rugby-sevens</td></tr><tr><td>Men's Windsurfing</td><td>sailing</td><td>Sailing</td><td>SAL</td><td>https://olympics.com/en/paris-2024/sports/sailing</td></tr><tr><td>Men's Kite</td><td>sailing</td><td>Sailing</td><td>SAL</td><td>https://olympics.com/en/paris-2024/sports/sailing</td></tr><tr><td>Men's Dinghy</td><td>sailing</td><td>Sailing</td><td>SAL</td><td>https://olympics.com/en/paris-2024/sports/sailing</td></tr><tr><td>Men's Skiff</td><td>sailing</td><td>Sailing</td><td>SAL</td><td>https://olympics.com/en/paris-2024/sports/sailing</td></tr><tr><td>Women's Windsurfing</td><td>sailing</td><td>Sailing</td><td>SAL</td><td>https://olympics.com/en/paris-2024/sports/sailing</td></tr><tr><td>Women's Kite</td><td>sailing</td><td>Sailing</td><td>SAL</td><td>https://olympics.com/en/paris-2024/sports/sailing</td></tr><tr><td>Women's Dinghy</td><td>sailing</td><td>Sailing</td><td>SAL</td><td>https://olympics.com/en/paris-2024/sports/sailing</td></tr><tr><td>Women's Skiff</td><td>sailing</td><td>Sailing</td><td>SAL</td><td>https://olympics.com/en/paris-2024/sports/sailing</td></tr><tr><td>Mixed Dinghy</td><td>sailing</td><td>Sailing</td><td>SAL</td><td>https://olympics.com/en/paris-2024/sports/sailing</td></tr><tr><td>Mixed Multihull</td><td>sailing</td><td>Sailing</td><td>SAL</td><td>https://olympics.com/en/paris-2024/sports/sailing</td></tr><tr><td>10m Air Rifle Men</td><td>shooting</td><td>Shooting</td><td>SHO</td><td>https://olympics.com/en/paris-2024/sports/shooting</td></tr><tr><td>50m Rifle 3 Positions Men</td><td>shooting</td><td>Shooting</td><td>SHO</td><td>https://olympics.com/en/paris-2024/sports/shooting</td></tr><tr><td>10m Air Pistol Men</td><td>shooting</td><td>Shooting</td><td>SHO</td><td>https://olympics.com/en/paris-2024/sports/shooting</td></tr><tr><td>25m Rapid Fire Pistol Men</td><td>shooting</td><td>Shooting</td><td>SHO</td><td>https://olympics.com/en/paris-2024/sports/shooting</td></tr><tr><td>Trap Men</td><td>shooting</td><td>Shooting</td><td>SHO</td><td>https://olympics.com/en/paris-2024/sports/shooting</td></tr><tr><td>Skeet Men</td><td>shooting</td><td>Shooting</td><td>SHO</td><td>https://olympics.com/en/paris-2024/sports/shooting</td></tr><tr><td>10m Air Rifle Women</td><td>shooting</td><td>Shooting</td><td>SHO</td><td>https://olympics.com/en/paris-2024/sports/shooting</td></tr><tr><td>50m Rifle 3 Positions Women</td><td>shooting</td><td>Shooting</td><td>SHO</td><td>https://olympics.com/en/paris-2024/sports/shooting</td></tr><tr><td>10m Air Pistol Women</td><td>shooting</td><td>Shooting</td><td>SHO</td><td>https://olympics.com/en/paris-2024/sports/shooting</td></tr><tr><td>25m Pistol Women</td><td>shooting</td><td>Shooting</td><td>SHO</td><td>https://olympics.com/en/paris-2024/sports/shooting</td></tr><tr><td>Trap Women</td><td>shooting</td><td>Shooting</td><td>SHO</td><td>https://olympics.com/en/paris-2024/sports/shooting</td></tr><tr><td>Skeet Women</td><td>shooting</td><td>Shooting</td><td>SHO</td><td>https://olympics.com/en/paris-2024/sports/shooting</td></tr><tr><td>10m Air Rifle Mixed Team</td><td>shooting</td><td>Shooting</td><td>SHO</td><td>https://olympics.com/en/paris-2024/sports/shooting</td></tr><tr><td>10m Air Pistol Mixed Team</td><td>shooting</td><td>Shooting</td><td>SHO</td><td>https://olympics.com/en/paris-2024/sports/shooting</td></tr><tr><td>Skeet Mixed Team</td><td>shooting</td><td>Shooting</td><td>SHO</td><td>https://olympics.com/en/paris-2024/sports/shooting</td></tr><tr><td>Women's Street</td><td>skateboarding</td><td>Skateboarding</td><td>SKB</td><td>https://olympics.com/en/paris-2024/sports/skateboarding</td></tr><tr><td>Men's Street</td><td>skateboarding</td><td>Skateboarding</td><td>SKB</td><td>https://olympics.com/en/paris-2024/sports/skateboarding</td></tr><tr><td>Women's Park</td><td>skateboarding</td><td>Skateboarding</td><td>SKB</td><td>https://olympics.com/en/paris-2024/sports/skateboarding</td></tr><tr><td>Men's Park</td><td>skateboarding</td><td>Skateboarding</td><td>SKB</td><td>https://olympics.com/en/paris-2024/sports/skateboarding</td></tr><tr><td>Women's Boulder & Lead</td><td>sport-climbing</td><td>Sport Climbing</td><td>CLB</td><td>https://olympics.com/en/paris-2024/sports/sport-climbing</td></tr><tr><td>Women's Speed</td><td>sport-climbing</td><td>Sport Climbing</td><td>CLB</td><td>https://olympics.com/en/paris-2024/sports/sport-climbing</td></tr><tr><td>Men's Boulder & Lead</td><td>sport-climbing</td><td>Sport Climbing</td><td>CLB</td><td>https://olympics.com/en/paris-2024/sports/sport-climbing</td></tr><tr><td>Men's Speed</td><td>sport-climbing</td><td>Sport Climbing</td><td>CLB</td><td>https://olympics.com/en/paris-2024/sports/sport-climbing</td></tr><tr><td>Men</td><td>surfing</td><td>Surfing</td><td>SRF</td><td>https://olympics.com/en/paris-2024/sports/surfing</td></tr><tr><td>Women</td><td>surfing</td><td>Surfing</td><td>SRF</td><td>https://olympics.com/en/paris-2024/sports/surfing</td></tr><tr><td>Women's 50m Freestyle</td><td>swimming</td><td>Swimming</td><td>SWM</td><td>https://olympics.com/en/paris-2024/sports/swimming</td></tr><tr><td>Women's 100m Freestyle</td><td>swimming</td><td>Swimming</td><td>SWM</td><td>https://olympics.com/en/paris-2024/sports/swimming</td></tr><tr><td>Women's 200m Freestyle</td><td>swimming</td><td>Swimming</td><td>SWM</td><td>https://olympics.com/en/paris-2024/sports/swimming</td></tr><tr><td>Women's 400m Freestyle</td><td>swimming</td><td>Swimming</td><td>SWM</td><td>https://olympics.com/en/paris-2024/sports/swimming</td></tr><tr><td>Women's 800m Freestyle</td><td>swimming</td><td>Swimming</td><td>SWM</td><td>https://olympics.com/en/paris-2024/sports/swimming</td></tr><tr><td>Women's 1500m Freestyle</td><td>swimming</td><td>Swimming</td><td>SWM</td><td>https://olympics.com/en/paris-2024/sports/swimming</td></tr><tr><td>Women's 100m Backstroke</td><td>swimming</td><td>Swimming</td><td>SWM</td><td>https://olympics.com/en/paris-2024/sports/swimming</td></tr><tr><td>Women's 200m Backstroke</td><td>swimming</td><td>Swimming</td><td>SWM</td><td>https://olympics.com/en/paris-2024/sports/swimming</td></tr><tr><td>Women's 100m Breaststroke</td><td>swimming</td><td>Swimming</td><td>SWM</td><td>https://olympics.com/en/paris-2024/sports/swimming</td></tr><tr><td>Women's 200m Breaststroke</td><td>swimming</td><td>Swimming</td><td>SWM</td><td>https://olympics.com/en/paris-2024/sports/swimming</td></tr><tr><td>Women's 100m Butterfly</td><td>swimming</td><td>Swimming</td><td>SWM</td><td>https://olympics.com/en/paris-2024/sports/swimming</td></tr><tr><td>Women's 200m Butterfly</td><td>swimming</td><td>Swimming</td><td>SWM</td><td>https://olympics.com/en/paris-2024/sports/swimming</td></tr><tr><td>Women's 200m Individual Medley</td><td>swimming</td><td>Swimming</td><td>SWM</td><td>https://olympics.com/en/paris-2024/sports/swimming</td></tr><tr><td>Women's 400m Individual Medley</td><td>swimming</td><td>Swimming</td><td>SWM</td><td>https://olympics.com/en/paris-2024/sports/swimming</td></tr><tr><td>Women's 4 x 100m Freestyle Relay</td><td>swimming</td><td>Swimming</td><td>SWM</td><td>https://olympics.com/en/paris-2024/sports/swimming</td></tr><tr><td>Women's 4 x 200m Freestyle Relay</td><td>swimming</td><td>Swimming</td><td>SWM</td><td>https://olympics.com/en/paris-2024/sports/swimming</td></tr><tr><td>Women's 4 x 100m Medley Relay</td><td>swimming</td><td>Swimming</td><td>SWM</td><td>https://olympics.com/en/paris-2024/sports/swimming</td></tr><tr><td>Men's 50m Freestyle</td><td>swimming</td><td>Swimming</td><td>SWM</td><td>https://olympics.com/en/paris-2024/sports/swimming</td></tr><tr><td>Men's 100m Freestyle</td><td>swimming</td><td>Swimming</td><td>SWM</td><td>https://olympics.com/en/paris-2024/sports/swimming</td></tr><tr><td>Men's 200m Freestyle</td><td>swimming</td><td>Swimming</td><td>SWM</td><td>https://olympics.com/en/paris-2024/sports/swimming</td></tr><tr><td>Men's 400m Freestyle</td><td>swimming</td><td>Swimming</td><td>SWM</td><td>https://olympics.com/en/paris-2024/sports/swimming</td></tr><tr><td>Men's 800m Freestyle</td><td>swimming</td><td>Swimming</td><td>SWM</td><td>https://olympics.com/en/paris-2024/sports/swimming</td></tr><tr><td>Men's 1500m Freestyle</td><td>swimming</td><td>Swimming</td><td>SWM</td><td>https://olympics.com/en/paris-2024/sports/swimming</td></tr><tr><td>Men's 100m Backstroke</td><td>swimming</td><td>Swimming</td><td>SWM</td><td>https://olympics.com/en/paris-2024/sports/swimming</td></tr><tr><td>Men's 200m Backstroke</td><td>swimming</td><td>Swimming</td><td>SWM</td><td>https://olympics.com/en/paris-2024/sports/swimming</td></tr><tr><td>Men's 100m Breaststroke</td><td>swimming</td><td>Swimming</td><td>SWM</td><td>https://olympics.com/en/paris-2024/sports/swimming</td></tr><tr><td>Men's 200m Breaststroke</td><td>swimming</td><td>Swimming</td><td>SWM</td><td>https://olympics.com/en/paris-2024/sports/swimming</td></tr><tr><td>Men's 100m Butterfly</td><td>swimming</td><td>Swimming</td><td>SWM</td><td>https://olympics.com/en/paris-2024/sports/swimming</td></tr><tr><td>Men's 200m Butterfly</td><td>swimming</td><td>Swimming</td><td>SWM</td><td>https://olympics.com/en/paris-2024/sports/swimming</td></tr><tr><td>Men's 200m Individual Medley</td><td>swimming</td><td>Swimming</td><td>SWM</td><td>https://olympics.com/en/paris-2024/sports/swimming</td></tr><tr><td>Men's 400m Individual Medley</td><td>swimming</td><td>Swimming</td><td>SWM</td><td>https://olympics.com/en/paris-2024/sports/swimming</td></tr><tr><td>Men's 4 x 100m Freestyle Relay</td><td>swimming</td><td>Swimming</td><td>SWM</td><td>https://olympics.com/en/paris-2024/sports/swimming</td></tr><tr><td>Men's 4 x 200m Freestyle Relay</td><td>swimming</td><td>Swimming</td><td>SWM</td><td>https://olympics.com/en/paris-2024/sports/swimming</td></tr><tr><td>Men's 4 x 100m Medley Relay</td><td>swimming</td><td>Swimming</td><td>SWM</td><td>https://olympics.com/en/paris-2024/sports/swimming</td></tr><tr><td>Mixed 4 x 100m Medley Relay</td><td>swimming</td><td>Swimming</td><td>SWM</td><td>https://olympics.com/en/paris-2024/sports/swimming</td></tr><tr><td>Men's Singles</td><td>table-tennis</td><td>Table Tennis</td><td>TTE</td><td>https://olympics.com/en/paris-2024/sports/table-tennis</td></tr><tr><td>Women's Singles</td><td>table-tennis</td><td>Table Tennis</td><td>TTE</td><td>https://olympics.com/en/paris-2024/sports/table-tennis</td></tr><tr><td>Mixed Doubles</td><td>table-tennis</td><td>Table Tennis</td><td>TTE</td><td>https://olympics.com/en/paris-2024/sports/table-tennis</td></tr><tr><td>Men's Team</td><td>table-tennis</td><td>Table Tennis</td><td>TTE</td><td>https://olympics.com/en/paris-2024/sports/table-tennis</td></tr><tr><td>Women's Team</td><td>table-tennis</td><td>Table Tennis</td><td>TTE</td><td>https://olympics.com/en/paris-2024/sports/table-tennis</td></tr><tr><td>Men -58kg</td><td>taekwondo</td><td>Taekwondo</td><td>TKW</td><td>https://olympics.com/en/paris-2024/sports/taekwondo</td></tr><tr><td>Men -68kg</td><td>taekwondo</td><td>Taekwondo</td><td>TKW</td><td>https://olympics.com/en/paris-2024/sports/taekwondo</td></tr><tr><td>Men -80kg</td><td>taekwondo</td><td>Taekwondo</td><td>TKW</td><td>https://olympics.com/en/paris-2024/sports/taekwondo</td></tr><tr><td>Men +80kg</td><td>taekwondo</td><td>Taekwondo</td><td>TKW</td><td>https://olympics.com/en/paris-2024/sports/taekwondo</td></tr><tr><td>Women -49kg</td><td>taekwondo</td><td>Taekwondo</td><td>TKW</td><td>https://olympics.com/en/paris-2024/sports/taekwondo</td></tr><tr><td>Women -57kg</td><td>taekwondo</td><td>Taekwondo</td><td>TKW</td><td>https://olympics.com/en/paris-2024/sports/taekwondo</td></tr><tr><td>Women -67kg</td><td>taekwondo</td><td>Taekwondo</td><td>TKW</td><td>https://olympics.com/en/paris-2024/sports/taekwondo</td></tr><tr><td>Women +67kg</td><td>taekwondo</td><td>Taekwondo</td><td>TKW</td><td>https://olympics.com/en/paris-2024/sports/taekwondo</td></tr><tr><td>Men's Singles</td><td>tennis</td><td>Tennis</td><td>TEN</td><td>https://olympics.com/en/paris-2024/sports/tennis</td></tr><tr><td>Women's Singles</td><td>tennis</td><td>Tennis</td><td>TEN</td><td>https://olympics.com/en/paris-2024/sports/tennis</td></tr><tr><td>Men's Doubles</td><td>tennis</td><td>Tennis</td><td>TEN</td><td>https://olympics.com/en/paris-2024/sports/tennis</td></tr><tr><td>Women's Doubles</td><td>tennis</td><td>Tennis</td><td>TEN</td><td>https://olympics.com/en/paris-2024/sports/tennis</td></tr><tr><td>Mixed Doubles</td><td>tennis</td><td>Tennis</td><td>TEN</td><td>https://olympics.com/en/paris-2024/sports/tennis</td></tr><tr><td>Men</td><td>trampoline-gymnastics</td><td>Trampoline Gymnastics</td><td>GTR</td><td>https://olympics.com/en/paris-2024/sports/trampoline-gymnastics</td></tr><tr><td>Women</td><td>trampoline-gymnastics</td><td>Trampoline Gymnastics</td><td>GTR</td><td>https://olympics.com/en/paris-2024/sports/trampoline-gymnastics</td></tr><tr><td>Women's Individual</td><td>triathlon</td><td>Triathlon</td><td>TRI</td><td>https://olympics.com/en/paris-2024/sports/triathlon</td></tr><tr><td>Men's Individual</td><td>triathlon</td><td>Triathlon</td><td>TRI</td><td>https://olympics.com/en/paris-2024/sports/triathlon</td></tr><tr><td>Mixed Relay</td><td>triathlon</td><td>Triathlon</td><td>TRI</td><td>https://olympics.com/en/paris-2024/sports/triathlon</td></tr><tr><td>Men</td><td>volleyball</td><td>Volleyball</td><td>VVO</td><td>https://olympics.com/en/paris-2024/sports/volleyball</td></tr><tr><td>Women</td><td>volleyball</td><td>Volleyball</td><td>VVO</td><td>https://olympics.com/en/paris-2024/sports/volleyball</td></tr><tr><td>Men</td><td>water-polo</td><td>Water Polo</td><td>WPO</td><td>https://olympics.com/en/paris-2024/sports/water-polo</td></tr><tr><td>Women</td><td>water-polo</td><td>Water Polo</td><td>WPO</td><td>https://olympics.com/en/paris-2024/sports/water-polo</td></tr><tr><td>Women's 49kg</td><td>weightlifting</td><td>Weightlifting</td><td>WLF</td><td>https://olympics.com/en/paris-2024/sports/weightlifting</td></tr><tr><td>Women's 59kg</td><td>weightlifting</td><td>Weightlifting</td><td>WLF</td><td>https://olympics.com/en/paris-2024/sports/weightlifting</td></tr><tr><td>Women's 71kg</td><td>weightlifting</td><td>Weightlifting</td><td>WLF</td><td>https://olympics.com/en/paris-2024/sports/weightlifting</td></tr><tr><td>Women's 81kg</td><td>weightlifting</td><td>Weightlifting</td><td>WLF</td><td>https://olympics.com/en/paris-2024/sports/weightlifting</td></tr><tr><td>Women's +81kg</td><td>weightlifting</td><td>Weightlifting</td><td>WLF</td><td>https://olympics.com/en/paris-2024/sports/weightlifting</td></tr><tr><td>Men's 61kg</td><td>weightlifting</td><td>Weightlifting</td><td>WLF</td><td>https://olympics.com/en/paris-2024/sports/weightlifting</td></tr><tr><td>Men's 73kg</td><td>weightlifting</td><td>Weightlifting</td><td>WLF</td><td>https://olympics.com/en/paris-2024/sports/weightlifting</td></tr><tr><td>Men's 89kg</td><td>weightlifting</td><td>Weightlifting</td><td>WLF</td><td>https://olympics.com/en/paris-2024/sports/weightlifting</td></tr><tr><td>Men's 102kg</td><td>weightlifting</td><td>Weightlifting</td><td>WLF</td><td>https://olympics.com/en/paris-2024/sports/weightlifting</td></tr><tr><td>Men's +102kg</td><td>weightlifting</td><td>Weightlifting</td><td>WLF</td><td>https://olympics.com/en/paris-2024/sports/weightlifting</td></tr><tr><td>Men's Greco-Roman 60kg</td><td>wrestling</td><td>Wrestling</td><td>WRE</td><td>https://olympics.com/en/paris-2024/sports/wrestling</td></tr><tr><td>Men's Greco-Roman 67kg</td><td>wrestling</td><td>Wrestling</td><td>WRE</td><td>https://olympics.com/en/paris-2024/sports/wrestling</td></tr><tr><td>Men's Greco-Roman 77kg</td><td>wrestling</td><td>Wrestling</td><td>WRE</td><td>https://olympics.com/en/paris-2024/sports/wrestling</td></tr><tr><td>Men's Greco-Roman 87kg</td><td>wrestling</td><td>Wrestling</td><td>WRE</td><td>https://olympics.com/en/paris-2024/sports/wrestling</td></tr><tr><td>Men's Greco-Roman 97kg</td><td>wrestling</td><td>Wrestling</td><td>WRE</td><td>https://olympics.com/en/paris-2024/sports/wrestling</td></tr><tr><td>Men's Greco-Roman 130kg</td><td>wrestling</td><td>Wrestling</td><td>WRE</td><td>https://olympics.com/en/paris-2024/sports/wrestling</td></tr><tr><td>Women's Freestyle 50kg</td><td>wrestling</td><td>Wrestling</td><td>WRE</td><td>https://olympics.com/en/paris-2024/sports/wrestling</td></tr><tr><td>Women's Freestyle 53kg</td><td>wrestling</td><td>Wrestling</td><td>WRE</td><td>https://olympics.com/en/paris-2024/sports/wrestling</td></tr><tr><td>Women's Freestyle 57kg</td><td>wrestling</td><td>Wrestling</td><td>WRE</td><td>https://olympics.com/en/paris-2024/sports/wrestling</td></tr><tr><td>Women's Freestyle 62kg</td><td>wrestling</td><td>Wrestling</td><td>WRE</td><td>https://olympics.com/en/paris-2024/sports/wrestling</td></tr><tr><td>Women's Freestyle 68kg</td><td>wrestling</td><td>Wrestling</td><td>WRE</td><td>https://olympics.com/en/paris-2024/sports/wrestling</td></tr><tr><td>Women's Freestyle 76kg</td><td>wrestling</td><td>Wrestling</td><td>WRE</td><td>https://olympics.com/en/paris-2024/sports/wrestling</td></tr><tr><td>Men's Freestyle 57kg</td><td>wrestling</td><td>Wrestling</td><td>WRE</td><td>https://olympics.com/en/paris-2024/sports/wrestling</td></tr><tr><td>Men's Freestyle 65kg</td><td>wrestling</td><td>Wrestling</td><td>WRE</td><td>https://olympics.com/en/paris-2024/sports/wrestling</td></tr><tr><td>Men's Freestyle 74kg</td><td>wrestling</td><td>Wrestling</td><td>WRE</td><td>https://olympics.com/en/paris-2024/sports/wrestling</td></tr><tr><td>Men's Freestyle 86kg</td><td>wrestling</td><td>Wrestling</td><td>WRE</td><td>https://olympics.com/en/paris-2024/sports/wrestling</td></tr><tr><td>Men's Freestyle 97kg</td><td>wrestling</td><td>Wrestling</td><td>WRE</td><td>https://olympics.com/en/paris-2024/sports/wrestling</td></tr><tr><td>Men's Freestyle 125kg</td><td>wrestling</td><td>Wrestling</td><td>WRE</td><td>https://olympics.com/en/paris-2024/sports/wrestling</td></tr></tbody></table></div>"
      ]
     },
     "metadata": {
      "application/vnd.databricks.v1+output": {
       "addedWidgets": {},
       "aggData": [],
       "aggError": "",
       "aggOverflow": false,
       "aggSchema": [],
       "aggSeriesLimitReached": false,
       "aggType": "",
       "arguments": {},
       "columnCustomDisplayInfos": {},
       "data": [
        [
         "Men's Individual",
         "archery",
         "Archery",
         "ARC",
         "https://olympics.com/en/paris-2024/sports/archery"
        ],
        [
         "Women's Individual",
         "archery",
         "Archery",
         "ARC",
         "https://olympics.com/en/paris-2024/sports/archery"
        ],
        [
         "Men's Team",
         "archery",
         "Archery",
         "ARC",
         "https://olympics.com/en/paris-2024/sports/archery"
        ],
        [
         "Women's Team",
         "archery",
         "Archery",
         "ARC",
         "https://olympics.com/en/paris-2024/sports/archery"
        ],
        [
         "Mixed Team",
         "archery",
         "Archery",
         "ARC",
         "https://olympics.com/en/paris-2024/sports/archery"
        ],
        [
         "Men's Team",
         "artistic-gymnastics",
         "Artistic Gymnastics",
         "GAR",
         "https://olympics.com/en/paris-2024/sports/artistic-gymnastics"
        ],
        [
         "Men's All-Around",
         "artistic-gymnastics",
         "Artistic Gymnastics",
         "GAR",
         "https://olympics.com/en/paris-2024/sports/artistic-gymnastics"
        ],
        [
         "Men's Floor Exercise",
         "artistic-gymnastics",
         "Artistic Gymnastics",
         "GAR",
         "https://olympics.com/en/paris-2024/sports/artistic-gymnastics"
        ],
        [
         "Men's Pommel Horse",
         "artistic-gymnastics",
         "Artistic Gymnastics",
         "GAR",
         "https://olympics.com/en/paris-2024/sports/artistic-gymnastics"
        ],
        [
         "Men's Rings",
         "artistic-gymnastics",
         "Artistic Gymnastics",
         "GAR",
         "https://olympics.com/en/paris-2024/sports/artistic-gymnastics"
        ],
        [
         "Men's Vault",
         "artistic-gymnastics",
         "Artistic Gymnastics",
         "GAR",
         "https://olympics.com/en/paris-2024/sports/artistic-gymnastics"
        ],
        [
         "Men's Parallel Bars",
         "artistic-gymnastics",
         "Artistic Gymnastics",
         "GAR",
         "https://olympics.com/en/paris-2024/sports/artistic-gymnastics"
        ],
        [
         "Men's Horizontal Bar",
         "artistic-gymnastics",
         "Artistic Gymnastics",
         "GAR",
         "https://olympics.com/en/paris-2024/sports/artistic-gymnastics"
        ],
        [
         "Women's Team",
         "artistic-gymnastics",
         "Artistic Gymnastics",
         "GAR",
         "https://olympics.com/en/paris-2024/sports/artistic-gymnastics"
        ],
        [
         "Women's All-Around",
         "artistic-gymnastics",
         "Artistic Gymnastics",
         "GAR",
         "https://olympics.com/en/paris-2024/sports/artistic-gymnastics"
        ],
        [
         "Women's Vault",
         "artistic-gymnastics",
         "Artistic Gymnastics",
         "GAR",
         "https://olympics.com/en/paris-2024/sports/artistic-gymnastics"
        ],
        [
         "Women's Uneven Bars",
         "artistic-gymnastics",
         "Artistic Gymnastics",
         "GAR",
         "https://olympics.com/en/paris-2024/sports/artistic-gymnastics"
        ],
        [
         "Women's Balance Beam",
         "artistic-gymnastics",
         "Artistic Gymnastics",
         "GAR",
         "https://olympics.com/en/paris-2024/sports/artistic-gymnastics"
        ],
        [
         "Women's Floor Exercise",
         "artistic-gymnastics",
         "Artistic Gymnastics",
         "GAR",
         "https://olympics.com/en/paris-2024/sports/artistic-gymnastics"
        ],
        [
         "Duet",
         "artistic-swimming",
         "Artistic Swimming",
         "SWA",
         "https://olympics.com/en/paris-2024/sports/artistic-swimming"
        ],
        [
         "Team",
         "artistic-swimming",
         "Artistic Swimming",
         "SWA",
         "https://olympics.com/en/paris-2024/sports/artistic-swimming"
        ],
        [
         "Men's 100m",
         "athletics",
         "Athletics",
         "ATH",
         "https://olympics.com/en/paris-2024/sports/athletics"
        ],
        [
         "Men's 200m",
         "athletics",
         "Athletics",
         "ATH",
         "https://olympics.com/en/paris-2024/sports/athletics"
        ],
        [
         "Men's 400m",
         "athletics",
         "Athletics",
         "ATH",
         "https://olympics.com/en/paris-2024/sports/athletics"
        ],
        [
         "Men's 800m",
         "athletics",
         "Athletics",
         "ATH",
         "https://olympics.com/en/paris-2024/sports/athletics"
        ],
        [
         "Men's 1500m",
         "athletics",
         "Athletics",
         "ATH",
         "https://olympics.com/en/paris-2024/sports/athletics"
        ],
        [
         "Men's 5000m",
         "athletics",
         "Athletics",
         "ATH",
         "https://olympics.com/en/paris-2024/sports/athletics"
        ],
        [
         "Men's 10,000m",
         "athletics",
         "Athletics",
         "ATH",
         "https://olympics.com/en/paris-2024/sports/athletics"
        ],
        [
         "Men's Marathon",
         "athletics",
         "Athletics",
         "ATH",
         "https://olympics.com/en/paris-2024/sports/athletics"
        ],
        [
         "Men's 3000m Steeplechase",
         "athletics",
         "Athletics",
         "ATH",
         "https://olympics.com/en/paris-2024/sports/athletics"
        ],
        [
         "Men's 110m Hurdles",
         "athletics",
         "Athletics",
         "ATH",
         "https://olympics.com/en/paris-2024/sports/athletics"
        ],
        [
         "Men's 400m Hurdles",
         "athletics",
         "Athletics",
         "ATH",
         "https://olympics.com/en/paris-2024/sports/athletics"
        ],
        [
         "Men's High Jump",
         "athletics",
         "Athletics",
         "ATH",
         "https://olympics.com/en/paris-2024/sports/athletics"
        ],
        [
         "Men's Pole Vault",
         "athletics",
         "Athletics",
         "ATH",
         "https://olympics.com/en/paris-2024/sports/athletics"
        ],
        [
         "Men's Long Jump",
         "athletics",
         "Athletics",
         "ATH",
         "https://olympics.com/en/paris-2024/sports/athletics"
        ],
        [
         "Men's Triple Jump",
         "athletics",
         "Athletics",
         "ATH",
         "https://olympics.com/en/paris-2024/sports/athletics"
        ],
        [
         "Men's Shot Put",
         "athletics",
         "Athletics",
         "ATH",
         "https://olympics.com/en/paris-2024/sports/athletics"
        ],
        [
         "Men's Discus Throw",
         "athletics",
         "Athletics",
         "ATH",
         "https://olympics.com/en/paris-2024/sports/athletics"
        ],
        [
         "Men's Hammer Throw",
         "athletics",
         "Athletics",
         "ATH",
         "https://olympics.com/en/paris-2024/sports/athletics"
        ],
        [
         "Men's Javelin Throw",
         "athletics",
         "Athletics",
         "ATH",
         "https://olympics.com/en/paris-2024/sports/athletics"
        ],
        [
         "Men's Decathlon",
         "athletics",
         "Athletics",
         "ATH",
         "https://olympics.com/en/paris-2024/sports/athletics"
        ],
        [
         "Men's 20km Race Walk",
         "athletics",
         "Athletics",
         "ATH",
         "https://olympics.com/en/paris-2024/sports/athletics"
        ],
        [
         "Men's 4 x 100m Relay",
         "athletics",
         "Athletics",
         "ATH",
         "https://olympics.com/en/paris-2024/sports/athletics"
        ],
        [
         "Men's 4 x 400m Relay",
         "athletics",
         "Athletics",
         "ATH",
         "https://olympics.com/en/paris-2024/sports/athletics"
        ],
        [
         "Women's 100m",
         "athletics",
         "Athletics",
         "ATH",
         "https://olympics.com/en/paris-2024/sports/athletics"
        ],
        [
         "Women's 200m",
         "athletics",
         "Athletics",
         "ATH",
         "https://olympics.com/en/paris-2024/sports/athletics"
        ],
        [
         "Women's 400m",
         "athletics",
         "Athletics",
         "ATH",
         "https://olympics.com/en/paris-2024/sports/athletics"
        ],
        [
         "Women's 800m",
         "athletics",
         "Athletics",
         "ATH",
         "https://olympics.com/en/paris-2024/sports/athletics"
        ],
        [
         "Women's 1500m",
         "athletics",
         "Athletics",
         "ATH",
         "https://olympics.com/en/paris-2024/sports/athletics"
        ],
        [
         "Women's 5000m",
         "athletics",
         "Athletics",
         "ATH",
         "https://olympics.com/en/paris-2024/sports/athletics"
        ],
        [
         "Women's 10,000m",
         "athletics",
         "Athletics",
         "ATH",
         "https://olympics.com/en/paris-2024/sports/athletics"
        ],
        [
         "Women's Marathon",
         "athletics",
         "Athletics",
         "ATH",
         "https://olympics.com/en/paris-2024/sports/athletics"
        ],
        [
         "Women's 3000m Steeplechase",
         "athletics",
         "Athletics",
         "ATH",
         "https://olympics.com/en/paris-2024/sports/athletics"
        ],
        [
         "Women's 100m Hurdles",
         "athletics",
         "Athletics",
         "ATH",
         "https://olympics.com/en/paris-2024/sports/athletics"
        ],
        [
         "Women's 400m Hurdles",
         "athletics",
         "Athletics",
         "ATH",
         "https://olympics.com/en/paris-2024/sports/athletics"
        ],
        [
         "Women's High Jump",
         "athletics",
         "Athletics",
         "ATH",
         "https://olympics.com/en/paris-2024/sports/athletics"
        ],
        [
         "Women's Pole Vault",
         "athletics",
         "Athletics",
         "ATH",
         "https://olympics.com/en/paris-2024/sports/athletics"
        ],
        [
         "Women's Long Jump",
         "athletics",
         "Athletics",
         "ATH",
         "https://olympics.com/en/paris-2024/sports/athletics"
        ],
        [
         "Women's Triple Jump",
         "athletics",
         "Athletics",
         "ATH",
         "https://olympics.com/en/paris-2024/sports/athletics"
        ],
        [
         "Women's Shot Put",
         "athletics",
         "Athletics",
         "ATH",
         "https://olympics.com/en/paris-2024/sports/athletics"
        ],
        [
         "Women's Discus Throw",
         "athletics",
         "Athletics",
         "ATH",
         "https://olympics.com/en/paris-2024/sports/athletics"
        ],
        [
         "Women's Hammer Throw",
         "athletics",
         "Athletics",
         "ATH",
         "https://olympics.com/en/paris-2024/sports/athletics"
        ],
        [
         "Women's Javelin Throw",
         "athletics",
         "Athletics",
         "ATH",
         "https://olympics.com/en/paris-2024/sports/athletics"
        ],
        [
         "Women's Heptathlon",
         "athletics",
         "Athletics",
         "ATH",
         "https://olympics.com/en/paris-2024/sports/athletics"
        ],
        [
         "Women's 20km Race Walk",
         "athletics",
         "Athletics",
         "ATH",
         "https://olympics.com/en/paris-2024/sports/athletics"
        ],
        [
         "Women's 4 x 100m Relay",
         "athletics",
         "Athletics",
         "ATH",
         "https://olympics.com/en/paris-2024/sports/athletics"
        ],
        [
         "Women's 4 x 400m Relay",
         "athletics",
         "Athletics",
         "ATH",
         "https://olympics.com/en/paris-2024/sports/athletics"
        ],
        [
         "4 x 400m Relay Mixed",
         "athletics",
         "Athletics",
         "ATH",
         "https://olympics.com/en/paris-2024/sports/athletics"
        ],
        [
         "Marathon Race Walk Relay Mixed",
         "athletics",
         "Athletics",
         "ATH",
         "https://olympics.com/en/paris-2024/sports/athletics"
        ],
        [
         "Men's Singles",
         "badminton",
         "Badminton",
         "BDM",
         "https://olympics.com/en/paris-2024/sports/badminton"
        ],
        [
         "Women's Singles",
         "badminton",
         "Badminton",
         "BDM",
         "https://olympics.com/en/paris-2024/sports/badminton"
        ],
        [
         "Men's Doubles",
         "badminton",
         "Badminton",
         "BDM",
         "https://olympics.com/en/paris-2024/sports/badminton"
        ],
        [
         "Women's Doubles",
         "badminton",
         "Badminton",
         "BDM",
         "https://olympics.com/en/paris-2024/sports/badminton"
        ],
        [
         "Mixed Doubles",
         "badminton",
         "Badminton",
         "BDM",
         "https://olympics.com/en/paris-2024/sports/badminton"
        ],
        [
         "Men",
         "basketball",
         "Basketball",
         "BKB",
         "https://olympics.com/en/paris-2024/sports/basketball"
        ],
        [
         "Women",
         "basketball",
         "Basketball",
         "BKB",
         "https://olympics.com/en/paris-2024/sports/basketball"
        ],
        [
         "Men",
         "3x3-basketball",
         "3x3 Basketball",
         "BK3",
         "https://olympics.com/en/paris-2024/sports/3x3-basketball"
        ],
        [
         "Women",
         "3x3-basketball",
         "3x3 Basketball",
         "BK3",
         "https://olympics.com/en/paris-2024/sports/3x3-basketball"
        ],
        [
         "Men",
         "beach-volleyball",
         "Beach Volleyball",
         "VBV",
         "https://olympics.com/en/paris-2024/sports/beach-volleyball"
        ],
        [
         "Women",
         "beach-volleyball",
         "Beach Volleyball",
         "VBV",
         "https://olympics.com/en/paris-2024/sports/beach-volleyball"
        ],
        [
         "Men's 51kg",
         "boxing",
         "Boxing",
         "BOX",
         "https://olympics.com/en/paris-2024/sports/boxing"
        ],
        [
         "Men's 57kg",
         "boxing",
         "Boxing",
         "BOX",
         "https://olympics.com/en/paris-2024/sports/boxing"
        ],
        [
         "Men's 63.5kg",
         "boxing",
         "Boxing",
         "BOX",
         "https://olympics.com/en/paris-2024/sports/boxing"
        ],
        [
         "Men's 71kg",
         "boxing",
         "Boxing",
         "BOX",
         "https://olympics.com/en/paris-2024/sports/boxing"
        ],
        [
         "Men's 80kg",
         "boxing",
         "Boxing",
         "BOX",
         "https://olympics.com/en/paris-2024/sports/boxing"
        ],
        [
         "Men's 92kg",
         "boxing",
         "Boxing",
         "BOX",
         "https://olympics.com/en/paris-2024/sports/boxing"
        ],
        [
         "Men's +92kg",
         "boxing",
         "Boxing",
         "BOX",
         "https://olympics.com/en/paris-2024/sports/boxing"
        ],
        [
         "Women's 50kg",
         "boxing",
         "Boxing",
         "BOX",
         "https://olympics.com/en/paris-2024/sports/boxing"
        ],
        [
         "Women's 54kg",
         "boxing",
         "Boxing",
         "BOX",
         "https://olympics.com/en/paris-2024/sports/boxing"
        ],
        [
         "Women's 57kg",
         "boxing",
         "Boxing",
         "BOX",
         "https://olympics.com/en/paris-2024/sports/boxing"
        ],
        [
         "Women's 60kg",
         "boxing",
         "Boxing",
         "BOX",
         "https://olympics.com/en/paris-2024/sports/boxing"
        ],
        [
         "Women's 66kg",
         "boxing",
         "Boxing",
         "BOX",
         "https://olympics.com/en/paris-2024/sports/boxing"
        ],
        [
         "Women's 75kg",
         "boxing",
         "Boxing",
         "BOX",
         "https://olympics.com/en/paris-2024/sports/boxing"
        ],
        [
         "B-Boys",
         "breaking",
         "Breaking",
         "BKG",
         "https://olympics.com/en/paris-2024/sports/breaking"
        ],
        [
         "B-Girls",
         "breaking",
         "Breaking",
         "BKG",
         "https://olympics.com/en/paris-2024/sports/breaking"
        ],
        [
         "Men's Kayak Single",
         "canoe-kayak-slalom",
         "Canoe Slalom",
         "CSL",
         "https://olympics.com/en/paris-2024/sports/canoe-kayak-slalom"
        ],
        [
         "Women's Kayak Single",
         "canoe-kayak-slalom",
         "Canoe Slalom",
         "CSL",
         "https://olympics.com/en/paris-2024/sports/canoe-kayak-slalom"
        ],
        [
         "Men's Canoe Single",
         "canoe-kayak-slalom",
         "Canoe Slalom",
         "CSL",
         "https://olympics.com/en/paris-2024/sports/canoe-kayak-slalom"
        ],
        [
         "Women's Canoe Single",
         "canoe-kayak-slalom",
         "Canoe Slalom",
         "CSL",
         "https://olympics.com/en/paris-2024/sports/canoe-kayak-slalom"
        ],
        [
         "Men's Kayak Cross",
         "canoe-kayak-slalom",
         "Canoe Slalom",
         "CSL",
         "https://olympics.com/en/paris-2024/sports/canoe-kayak-slalom"
        ],
        [
         "Women's Kayak Cross",
         "canoe-kayak-slalom",
         "Canoe Slalom",
         "CSL",
         "https://olympics.com/en/paris-2024/sports/canoe-kayak-slalom"
        ],
        [
         "Men's Kayak Single 1000m",
         "canoe-kayak-flatwater",
         "Canoe Sprint",
         "CSP",
         "https://olympics.com/en/paris-2024/sports/canoe-kayak-flatwater"
        ],
        [
         "Men's Kayak Double 500m",
         "canoe-kayak-flatwater",
         "Canoe Sprint",
         "CSP",
         "https://olympics.com/en/paris-2024/sports/canoe-kayak-flatwater"
        ],
        [
         "Men's Kayak Four 500m",
         "canoe-kayak-flatwater",
         "Canoe Sprint",
         "CSP",
         "https://olympics.com/en/paris-2024/sports/canoe-kayak-flatwater"
        ],
        [
         "Men's Canoe Single 1000m",
         "canoe-kayak-flatwater",
         "Canoe Sprint",
         "CSP",
         "https://olympics.com/en/paris-2024/sports/canoe-kayak-flatwater"
        ],
        [
         "Men's Canoe Double 500m",
         "canoe-kayak-flatwater",
         "Canoe Sprint",
         "CSP",
         "https://olympics.com/en/paris-2024/sports/canoe-kayak-flatwater"
        ],
        [
         "Women's Kayak Single 500m",
         "canoe-kayak-flatwater",
         "Canoe Sprint",
         "CSP",
         "https://olympics.com/en/paris-2024/sports/canoe-kayak-flatwater"
        ],
        [
         "Women's Kayak Double 500m",
         "canoe-kayak-flatwater",
         "Canoe Sprint",
         "CSP",
         "https://olympics.com/en/paris-2024/sports/canoe-kayak-flatwater"
        ],
        [
         "Women's Kayak Four 500m",
         "canoe-kayak-flatwater",
         "Canoe Sprint",
         "CSP",
         "https://olympics.com/en/paris-2024/sports/canoe-kayak-flatwater"
        ],
        [
         "Women's Canoe Single 200m",
         "canoe-kayak-flatwater",
         "Canoe Sprint",
         "CSP",
         "https://olympics.com/en/paris-2024/sports/canoe-kayak-flatwater"
        ],
        [
         "Women's Canoe Double 500m",
         "canoe-kayak-flatwater",
         "Canoe Sprint",
         "CSP",
         "https://olympics.com/en/paris-2024/sports/canoe-kayak-flatwater"
        ],
        [
         "Women's Park",
         "cycling-bmx-freestyle",
         "Cycling BMX Freestyle",
         "BMF",
         "https://olympics.com/en/paris-2024/sports/cycling-bmx-freestyle"
        ],
        [
         "Men's Park",
         "cycling-bmx-freestyle",
         "Cycling BMX Freestyle",
         "BMF",
         "https://olympics.com/en/paris-2024/sports/cycling-bmx-freestyle"
        ],
        [
         "Women",
         "cycling-bmx-racing",
         "Cycling BMX Racing",
         "BMX",
         "https://olympics.com/en/paris-2024/sports/cycling-bmx-racing"
        ],
        [
         "Men",
         "cycling-bmx-racing",
         "Cycling BMX Racing",
         "BMX",
         "https://olympics.com/en/paris-2024/sports/cycling-bmx-racing"
        ],
        [
         "Men's Cross-country",
         "cycling-mountain-bike",
         "Cycling Mountain Bike",
         "MTB",
         "https://olympics.com/en/paris-2024/sports/cycling-mountain-bike"
        ],
        [
         "Women's Cross-country",
         "cycling-mountain-bike",
         "Cycling Mountain Bike",
         "MTB",
         "https://olympics.com/en/paris-2024/sports/cycling-mountain-bike"
        ],
        [
         "Men's Road Race",
         "cycling-road",
         "Cycling Road",
         "CRD",
         "https://olympics.com/en/paris-2024/sports/cycling-road"
        ],
        [
         "Women's Road Race",
         "cycling-road",
         "Cycling Road",
         "CRD",
         "https://olympics.com/en/paris-2024/sports/cycling-road"
        ],
        [
         "Men's Individual Time Trial",
         "cycling-road",
         "Cycling Road",
         "CRD",
         "https://olympics.com/en/paris-2024/sports/cycling-road"
        ],
        [
         "Women's Individual Time Trial",
         "cycling-road",
         "Cycling Road",
         "CRD",
         "https://olympics.com/en/paris-2024/sports/cycling-road"
        ],
        [
         "Men's Team Sprint",
         "cycling-track",
         "Cycling Track",
         "CTR",
         "https://olympics.com/en/paris-2024/sports/cycling-track"
        ],
        [
         "Men's Sprint",
         "cycling-track",
         "Cycling Track",
         "CTR",
         "https://olympics.com/en/paris-2024/sports/cycling-track"
        ],
        [
         "Men's Keirin",
         "cycling-track",
         "Cycling Track",
         "CTR",
         "https://olympics.com/en/paris-2024/sports/cycling-track"
        ],
        [
         "Men's Team Pursuit",
         "cycling-track",
         "Cycling Track",
         "CTR",
         "https://olympics.com/en/paris-2024/sports/cycling-track"
        ],
        [
         "Men's Omnium",
         "cycling-track",
         "Cycling Track",
         "CTR",
         "https://olympics.com/en/paris-2024/sports/cycling-track"
        ],
        [
         "Men's Madison",
         "cycling-track",
         "Cycling Track",
         "CTR",
         "https://olympics.com/en/paris-2024/sports/cycling-track"
        ],
        [
         "Women's Team Sprint",
         "cycling-track",
         "Cycling Track",
         "CTR",
         "https://olympics.com/en/paris-2024/sports/cycling-track"
        ],
        [
         "Women's Sprint",
         "cycling-track",
         "Cycling Track",
         "CTR",
         "https://olympics.com/en/paris-2024/sports/cycling-track"
        ],
        [
         "Women's Keirin",
         "cycling-track",
         "Cycling Track",
         "CTR",
         "https://olympics.com/en/paris-2024/sports/cycling-track"
        ],
        [
         "Women's Team Pursuit",
         "cycling-track",
         "Cycling Track",
         "CTR",
         "https://olympics.com/en/paris-2024/sports/cycling-track"
        ],
        [
         "Women's Omnium",
         "cycling-track",
         "Cycling Track",
         "CTR",
         "https://olympics.com/en/paris-2024/sports/cycling-track"
        ],
        [
         "Women's Madison",
         "cycling-track",
         "Cycling Track",
         "CTR",
         "https://olympics.com/en/paris-2024/sports/cycling-track"
        ],
        [
         "Women's 3m Springboard",
         "diving",
         "Diving",
         "DIV",
         "https://olympics.com/en/paris-2024/sports/diving"
        ],
        [
         "Women's 10m Platform",
         "diving",
         "Diving",
         "DIV",
         "https://olympics.com/en/paris-2024/sports/diving"
        ],
        [
         "Women's Synchronised 3m Springboard",
         "diving",
         "Diving",
         "DIV",
         "https://olympics.com/en/paris-2024/sports/diving"
        ],
        [
         "Women's Synchronised 10m Platform",
         "diving",
         "Diving",
         "DIV",
         "https://olympics.com/en/paris-2024/sports/diving"
        ],
        [
         "Men's 3m Springboard",
         "diving",
         "Diving",
         "DIV",
         "https://olympics.com/en/paris-2024/sports/diving"
        ],
        [
         "Men's 10m Platform",
         "diving",
         "Diving",
         "DIV",
         "https://olympics.com/en/paris-2024/sports/diving"
        ],
        [
         "Men's Synchronised 3m Springboard",
         "diving",
         "Diving",
         "DIV",
         "https://olympics.com/en/paris-2024/sports/diving"
        ],
        [
         "Men's Synchronised 10m Platform",
         "diving",
         "Diving",
         "DIV",
         "https://olympics.com/en/paris-2024/sports/diving"
        ],
        [
         "Eventing Team",
         "equestrian",
         "Equestrian",
         "EQU",
         "https://olympics.com/en/paris-2024/sports/equestrian"
        ],
        [
         "Eventing Individual",
         "equestrian",
         "Equestrian",
         "EQU",
         "https://olympics.com/en/paris-2024/sports/equestrian"
        ],
        [
         "Dressage Team",
         "equestrian",
         "Equestrian",
         "EQU",
         "https://olympics.com/en/paris-2024/sports/equestrian"
        ],
        [
         "Dressage Individual",
         "equestrian",
         "Equestrian",
         "EQU",
         "https://olympics.com/en/paris-2024/sports/equestrian"
        ],
        [
         "Jumping Team",
         "equestrian",
         "Equestrian",
         "EQU",
         "https://olympics.com/en/paris-2024/sports/equestrian"
        ],
        [
         "Jumping Individual",
         "equestrian",
         "Equestrian",
         "EQU",
         "https://olympics.com/en/paris-2024/sports/equestrian"
        ],
        [
         "Women's Épée Individual",
         "fencing",
         "Fencing",
         "FEN",
         "https://olympics.com/en/paris-2024/sports/fencing"
        ],
        [
         "Women's Foil Individual",
         "fencing",
         "Fencing",
         "FEN",
         "https://olympics.com/en/paris-2024/sports/fencing"
        ],
        [
         "Women's Sabre Individual",
         "fencing",
         "Fencing",
         "FEN",
         "https://olympics.com/en/paris-2024/sports/fencing"
        ],
        [
         "Men's Épée Individual",
         "fencing",
         "Fencing",
         "FEN",
         "https://olympics.com/en/paris-2024/sports/fencing"
        ],
        [
         "Men's Foil Individual",
         "fencing",
         "Fencing",
         "FEN",
         "https://olympics.com/en/paris-2024/sports/fencing"
        ],
        [
         "Men's Sabre Individual",
         "fencing",
         "Fencing",
         "FEN",
         "https://olympics.com/en/paris-2024/sports/fencing"
        ],
        [
         "Women's Épée Team",
         "fencing",
         "Fencing",
         "FEN",
         "https://olympics.com/en/paris-2024/sports/fencing"
        ],
        [
         "Women's Foil Team",
         "fencing",
         "Fencing",
         "FEN",
         "https://olympics.com/en/paris-2024/sports/fencing"
        ],
        [
         "Women's Sabre Team",
         "fencing",
         "Fencing",
         "FEN",
         "https://olympics.com/en/paris-2024/sports/fencing"
        ],
        [
         "Men's Épée Team",
         "fencing",
         "Fencing",
         "FEN",
         "https://olympics.com/en/paris-2024/sports/fencing"
        ],
        [
         "Men's Foil Team",
         "fencing",
         "Fencing",
         "FEN",
         "https://olympics.com/en/paris-2024/sports/fencing"
        ],
        [
         "Men's Sabre Team",
         "fencing",
         "Fencing",
         "FEN",
         "https://olympics.com/en/paris-2024/sports/fencing"
        ],
        [
         "Men",
         "football",
         "Football",
         "FBL",
         "https://olympics.com/en/paris-2024/sports/football"
        ],
        [
         "Women",
         "football",
         "Football",
         "FBL",
         "https://olympics.com/en/paris-2024/sports/football"
        ],
        [
         "Men's Individual Stroke Play",
         "golf",
         "Golf",
         "GLF",
         "https://olympics.com/en/paris-2024/sports/golf"
        ],
        [
         "Women's Individual Stroke Play",
         "golf",
         "Golf",
         "GLF",
         "https://olympics.com/en/paris-2024/sports/golf"
        ],
        [
         "Men",
         "handball",
         "Handball",
         "HBL",
         "https://olympics.com/en/paris-2024/sports/handball"
        ],
        [
         "Women",
         "handball",
         "Handball",
         "HBL",
         "https://olympics.com/en/paris-2024/sports/handball"
        ],
        [
         "Men",
         "hockey",
         "Hockey",
         "HOC",
         "https://olympics.com/en/paris-2024/sports/hockey"
        ],
        [
         "Women",
         "hockey",
         "Hockey",
         "HOC",
         "https://olympics.com/en/paris-2024/sports/hockey"
        ],
        [
         "Women -48 kg",
         "judo",
         "Judo",
         "JUD",
         "https://olympics.com/en/paris-2024/sports/judo"
        ],
        [
         "Women -52 kg",
         "judo",
         "Judo",
         "JUD",
         "https://olympics.com/en/paris-2024/sports/judo"
        ],
        [
         "Women -57 kg",
         "judo",
         "Judo",
         "JUD",
         "https://olympics.com/en/paris-2024/sports/judo"
        ],
        [
         "Women -63 kg",
         "judo",
         "Judo",
         "JUD",
         "https://olympics.com/en/paris-2024/sports/judo"
        ],
        [
         "Women -70 kg",
         "judo",
         "Judo",
         "JUD",
         "https://olympics.com/en/paris-2024/sports/judo"
        ],
        [
         "Women -78 kg",
         "judo",
         "Judo",
         "JUD",
         "https://olympics.com/en/paris-2024/sports/judo"
        ],
        [
         "Women +78 kg",
         "judo",
         "Judo",
         "JUD",
         "https://olympics.com/en/paris-2024/sports/judo"
        ],
        [
         "Men -60 kg",
         "judo",
         "Judo",
         "JUD",
         "https://olympics.com/en/paris-2024/sports/judo"
        ],
        [
         "Men -66 kg",
         "judo",
         "Judo",
         "JUD",
         "https://olympics.com/en/paris-2024/sports/judo"
        ],
        [
         "Men -73 kg",
         "judo",
         "Judo",
         "JUD",
         "https://olympics.com/en/paris-2024/sports/judo"
        ],
        [
         "Men -81 kg",
         "judo",
         "Judo",
         "JUD",
         "https://olympics.com/en/paris-2024/sports/judo"
        ],
        [
         "Men -90 kg",
         "judo",
         "Judo",
         "JUD",
         "https://olympics.com/en/paris-2024/sports/judo"
        ],
        [
         "Men -100 kg",
         "judo",
         "Judo",
         "JUD",
         "https://olympics.com/en/paris-2024/sports/judo"
        ],
        [
         "Men +100 kg",
         "judo",
         "Judo",
         "JUD",
         "https://olympics.com/en/paris-2024/sports/judo"
        ],
        [
         "Mixed Team",
         "judo",
         "Judo",
         "JUD",
         "https://olympics.com/en/paris-2024/sports/judo"
        ],
        [
         "Women's 10km",
         "marathon-swimming",
         "Marathon Swimming",
         "OWS",
         "https://olympics.com/en/paris-2024/sports/marathon-swimming"
        ],
        [
         "Men's 10km",
         "marathon-swimming",
         "Marathon Swimming",
         "OWS",
         "https://olympics.com/en/paris-2024/sports/marathon-swimming"
        ],
        [
         "Women's Individual",
         "modern-pentathlon",
         "Modern Pentathlon",
         "MPN",
         "https://olympics.com/en/paris-2024/sports/modern-pentathlon"
        ],
        [
         "Men's Individual",
         "modern-pentathlon",
         "Modern Pentathlon",
         "MPN",
         "https://olympics.com/en/paris-2024/sports/modern-pentathlon"
        ],
        [
         "Individual All-Around",
         "rhythmic-gymnastics",
         "Rhythmic Gymnastics",
         "GRY",
         "https://olympics.com/en/paris-2024/sports/rhythmic-gymnastics"
        ],
        [
         "Group All-Around",
         "rhythmic-gymnastics",
         "Rhythmic Gymnastics",
         "GRY",
         "https://olympics.com/en/paris-2024/sports/rhythmic-gymnastics"
        ],
        [
         "Women's Pair",
         "rowing",
         "Rowing",
         "ROW",
         "https://olympics.com/en/paris-2024/sports/rowing"
        ],
        [
         "Men's Pair",
         "rowing",
         "Rowing",
         "ROW",
         "https://olympics.com/en/paris-2024/sports/rowing"
        ],
        [
         "Women's Double Sculls",
         "rowing",
         "Rowing",
         "ROW",
         "https://olympics.com/en/paris-2024/sports/rowing"
        ],
        [
         "Men's Double Sculls",
         "rowing",
         "Rowing",
         "ROW",
         "https://olympics.com/en/paris-2024/sports/rowing"
        ],
        [
         "Women's Four",
         "rowing",
         "Rowing",
         "ROW",
         "https://olympics.com/en/paris-2024/sports/rowing"
        ],
        [
         "Men's Four",
         "rowing",
         "Rowing",
         "ROW",
         "https://olympics.com/en/paris-2024/sports/rowing"
        ],
        [
         "Women's Single Sculls",
         "rowing",
         "Rowing",
         "ROW",
         "https://olympics.com/en/paris-2024/sports/rowing"
        ],
        [
         "Men's Single Sculls",
         "rowing",
         "Rowing",
         "ROW",
         "https://olympics.com/en/paris-2024/sports/rowing"
        ],
        [
         "Lightweight Women's Double Sculls",
         "rowing",
         "Rowing",
         "ROW",
         "https://olympics.com/en/paris-2024/sports/rowing"
        ],
        [
         "Lightweight Men's Double Sculls",
         "rowing",
         "Rowing",
         "ROW",
         "https://olympics.com/en/paris-2024/sports/rowing"
        ],
        [
         "Women's Quadruple Sculls",
         "rowing",
         "Rowing",
         "ROW",
         "https://olympics.com/en/paris-2024/sports/rowing"
        ],
        [
         "Men's Quadruple Sculls",
         "rowing",
         "Rowing",
         "ROW",
         "https://olympics.com/en/paris-2024/sports/rowing"
        ],
        [
         "Women's Eight",
         "rowing",
         "Rowing",
         "ROW",
         "https://olympics.com/en/paris-2024/sports/rowing"
        ],
        [
         "Men's Eight",
         "rowing",
         "Rowing",
         "ROW",
         "https://olympics.com/en/paris-2024/sports/rowing"
        ],
        [
         "Men",
         "rugby-sevens",
         "Rugby Sevens",
         "RU7",
         "https://olympics.com/en/paris-2024/sports/rugby-sevens"
        ],
        [
         "Women",
         "rugby-sevens",
         "Rugby Sevens",
         "RU7",
         "https://olympics.com/en/paris-2024/sports/rugby-sevens"
        ],
        [
         "Men's Windsurfing",
         "sailing",
         "Sailing",
         "SAL",
         "https://olympics.com/en/paris-2024/sports/sailing"
        ],
        [
         "Men's Kite",
         "sailing",
         "Sailing",
         "SAL",
         "https://olympics.com/en/paris-2024/sports/sailing"
        ],
        [
         "Men's Dinghy",
         "sailing",
         "Sailing",
         "SAL",
         "https://olympics.com/en/paris-2024/sports/sailing"
        ],
        [
         "Men's Skiff",
         "sailing",
         "Sailing",
         "SAL",
         "https://olympics.com/en/paris-2024/sports/sailing"
        ],
        [
         "Women's Windsurfing",
         "sailing",
         "Sailing",
         "SAL",
         "https://olympics.com/en/paris-2024/sports/sailing"
        ],
        [
         "Women's Kite",
         "sailing",
         "Sailing",
         "SAL",
         "https://olympics.com/en/paris-2024/sports/sailing"
        ],
        [
         "Women's Dinghy",
         "sailing",
         "Sailing",
         "SAL",
         "https://olympics.com/en/paris-2024/sports/sailing"
        ],
        [
         "Women's Skiff",
         "sailing",
         "Sailing",
         "SAL",
         "https://olympics.com/en/paris-2024/sports/sailing"
        ],
        [
         "Mixed Dinghy",
         "sailing",
         "Sailing",
         "SAL",
         "https://olympics.com/en/paris-2024/sports/sailing"
        ],
        [
         "Mixed Multihull",
         "sailing",
         "Sailing",
         "SAL",
         "https://olympics.com/en/paris-2024/sports/sailing"
        ],
        [
         "10m Air Rifle Men",
         "shooting",
         "Shooting",
         "SHO",
         "https://olympics.com/en/paris-2024/sports/shooting"
        ],
        [
         "50m Rifle 3 Positions Men",
         "shooting",
         "Shooting",
         "SHO",
         "https://olympics.com/en/paris-2024/sports/shooting"
        ],
        [
         "10m Air Pistol Men",
         "shooting",
         "Shooting",
         "SHO",
         "https://olympics.com/en/paris-2024/sports/shooting"
        ],
        [
         "25m Rapid Fire Pistol Men",
         "shooting",
         "Shooting",
         "SHO",
         "https://olympics.com/en/paris-2024/sports/shooting"
        ],
        [
         "Trap Men",
         "shooting",
         "Shooting",
         "SHO",
         "https://olympics.com/en/paris-2024/sports/shooting"
        ],
        [
         "Skeet Men",
         "shooting",
         "Shooting",
         "SHO",
         "https://olympics.com/en/paris-2024/sports/shooting"
        ],
        [
         "10m Air Rifle Women",
         "shooting",
         "Shooting",
         "SHO",
         "https://olympics.com/en/paris-2024/sports/shooting"
        ],
        [
         "50m Rifle 3 Positions Women",
         "shooting",
         "Shooting",
         "SHO",
         "https://olympics.com/en/paris-2024/sports/shooting"
        ],
        [
         "10m Air Pistol Women",
         "shooting",
         "Shooting",
         "SHO",
         "https://olympics.com/en/paris-2024/sports/shooting"
        ],
        [
         "25m Pistol Women",
         "shooting",
         "Shooting",
         "SHO",
         "https://olympics.com/en/paris-2024/sports/shooting"
        ],
        [
         "Trap Women",
         "shooting",
         "Shooting",
         "SHO",
         "https://olympics.com/en/paris-2024/sports/shooting"
        ],
        [
         "Skeet Women",
         "shooting",
         "Shooting",
         "SHO",
         "https://olympics.com/en/paris-2024/sports/shooting"
        ],
        [
         "10m Air Rifle Mixed Team",
         "shooting",
         "Shooting",
         "SHO",
         "https://olympics.com/en/paris-2024/sports/shooting"
        ],
        [
         "10m Air Pistol Mixed Team",
         "shooting",
         "Shooting",
         "SHO",
         "https://olympics.com/en/paris-2024/sports/shooting"
        ],
        [
         "Skeet Mixed Team",
         "shooting",
         "Shooting",
         "SHO",
         "https://olympics.com/en/paris-2024/sports/shooting"
        ],
        [
         "Women's Street",
         "skateboarding",
         "Skateboarding",
         "SKB",
         "https://olympics.com/en/paris-2024/sports/skateboarding"
        ],
        [
         "Men's Street",
         "skateboarding",
         "Skateboarding",
         "SKB",
         "https://olympics.com/en/paris-2024/sports/skateboarding"
        ],
        [
         "Women's Park",
         "skateboarding",
         "Skateboarding",
         "SKB",
         "https://olympics.com/en/paris-2024/sports/skateboarding"
        ],
        [
         "Men's Park",
         "skateboarding",
         "Skateboarding",
         "SKB",
         "https://olympics.com/en/paris-2024/sports/skateboarding"
        ],
        [
         "Women's Boulder & Lead",
         "sport-climbing",
         "Sport Climbing",
         "CLB",
         "https://olympics.com/en/paris-2024/sports/sport-climbing"
        ],
        [
         "Women's Speed",
         "sport-climbing",
         "Sport Climbing",
         "CLB",
         "https://olympics.com/en/paris-2024/sports/sport-climbing"
        ],
        [
         "Men's Boulder & Lead",
         "sport-climbing",
         "Sport Climbing",
         "CLB",
         "https://olympics.com/en/paris-2024/sports/sport-climbing"
        ],
        [
         "Men's Speed",
         "sport-climbing",
         "Sport Climbing",
         "CLB",
         "https://olympics.com/en/paris-2024/sports/sport-climbing"
        ],
        [
         "Men",
         "surfing",
         "Surfing",
         "SRF",
         "https://olympics.com/en/paris-2024/sports/surfing"
        ],
        [
         "Women",
         "surfing",
         "Surfing",
         "SRF",
         "https://olympics.com/en/paris-2024/sports/surfing"
        ],
        [
         "Women's 50m Freestyle",
         "swimming",
         "Swimming",
         "SWM",
         "https://olympics.com/en/paris-2024/sports/swimming"
        ],
        [
         "Women's 100m Freestyle",
         "swimming",
         "Swimming",
         "SWM",
         "https://olympics.com/en/paris-2024/sports/swimming"
        ],
        [
         "Women's 200m Freestyle",
         "swimming",
         "Swimming",
         "SWM",
         "https://olympics.com/en/paris-2024/sports/swimming"
        ],
        [
         "Women's 400m Freestyle",
         "swimming",
         "Swimming",
         "SWM",
         "https://olympics.com/en/paris-2024/sports/swimming"
        ],
        [
         "Women's 800m Freestyle",
         "swimming",
         "Swimming",
         "SWM",
         "https://olympics.com/en/paris-2024/sports/swimming"
        ],
        [
         "Women's 1500m Freestyle",
         "swimming",
         "Swimming",
         "SWM",
         "https://olympics.com/en/paris-2024/sports/swimming"
        ],
        [
         "Women's 100m Backstroke",
         "swimming",
         "Swimming",
         "SWM",
         "https://olympics.com/en/paris-2024/sports/swimming"
        ],
        [
         "Women's 200m Backstroke",
         "swimming",
         "Swimming",
         "SWM",
         "https://olympics.com/en/paris-2024/sports/swimming"
        ],
        [
         "Women's 100m Breaststroke",
         "swimming",
         "Swimming",
         "SWM",
         "https://olympics.com/en/paris-2024/sports/swimming"
        ],
        [
         "Women's 200m Breaststroke",
         "swimming",
         "Swimming",
         "SWM",
         "https://olympics.com/en/paris-2024/sports/swimming"
        ],
        [
         "Women's 100m Butterfly",
         "swimming",
         "Swimming",
         "SWM",
         "https://olympics.com/en/paris-2024/sports/swimming"
        ],
        [
         "Women's 200m Butterfly",
         "swimming",
         "Swimming",
         "SWM",
         "https://olympics.com/en/paris-2024/sports/swimming"
        ],
        [
         "Women's 200m Individual Medley",
         "swimming",
         "Swimming",
         "SWM",
         "https://olympics.com/en/paris-2024/sports/swimming"
        ],
        [
         "Women's 400m Individual Medley",
         "swimming",
         "Swimming",
         "SWM",
         "https://olympics.com/en/paris-2024/sports/swimming"
        ],
        [
         "Women's 4 x 100m Freestyle Relay",
         "swimming",
         "Swimming",
         "SWM",
         "https://olympics.com/en/paris-2024/sports/swimming"
        ],
        [
         "Women's 4 x 200m Freestyle Relay",
         "swimming",
         "Swimming",
         "SWM",
         "https://olympics.com/en/paris-2024/sports/swimming"
        ],
        [
         "Women's 4 x 100m Medley Relay",
         "swimming",
         "Swimming",
         "SWM",
         "https://olympics.com/en/paris-2024/sports/swimming"
        ],
        [
         "Men's 50m Freestyle",
         "swimming",
         "Swimming",
         "SWM",
         "https://olympics.com/en/paris-2024/sports/swimming"
        ],
        [
         "Men's 100m Freestyle",
         "swimming",
         "Swimming",
         "SWM",
         "https://olympics.com/en/paris-2024/sports/swimming"
        ],
        [
         "Men's 200m Freestyle",
         "swimming",
         "Swimming",
         "SWM",
         "https://olympics.com/en/paris-2024/sports/swimming"
        ],
        [
         "Men's 400m Freestyle",
         "swimming",
         "Swimming",
         "SWM",
         "https://olympics.com/en/paris-2024/sports/swimming"
        ],
        [
         "Men's 800m Freestyle",
         "swimming",
         "Swimming",
         "SWM",
         "https://olympics.com/en/paris-2024/sports/swimming"
        ],
        [
         "Men's 1500m Freestyle",
         "swimming",
         "Swimming",
         "SWM",
         "https://olympics.com/en/paris-2024/sports/swimming"
        ],
        [
         "Men's 100m Backstroke",
         "swimming",
         "Swimming",
         "SWM",
         "https://olympics.com/en/paris-2024/sports/swimming"
        ],
        [
         "Men's 200m Backstroke",
         "swimming",
         "Swimming",
         "SWM",
         "https://olympics.com/en/paris-2024/sports/swimming"
        ],
        [
         "Men's 100m Breaststroke",
         "swimming",
         "Swimming",
         "SWM",
         "https://olympics.com/en/paris-2024/sports/swimming"
        ],
        [
         "Men's 200m Breaststroke",
         "swimming",
         "Swimming",
         "SWM",
         "https://olympics.com/en/paris-2024/sports/swimming"
        ],
        [
         "Men's 100m Butterfly",
         "swimming",
         "Swimming",
         "SWM",
         "https://olympics.com/en/paris-2024/sports/swimming"
        ],
        [
         "Men's 200m Butterfly",
         "swimming",
         "Swimming",
         "SWM",
         "https://olympics.com/en/paris-2024/sports/swimming"
        ],
        [
         "Men's 200m Individual Medley",
         "swimming",
         "Swimming",
         "SWM",
         "https://olympics.com/en/paris-2024/sports/swimming"
        ],
        [
         "Men's 400m Individual Medley",
         "swimming",
         "Swimming",
         "SWM",
         "https://olympics.com/en/paris-2024/sports/swimming"
        ],
        [
         "Men's 4 x 100m Freestyle Relay",
         "swimming",
         "Swimming",
         "SWM",
         "https://olympics.com/en/paris-2024/sports/swimming"
        ],
        [
         "Men's 4 x 200m Freestyle Relay",
         "swimming",
         "Swimming",
         "SWM",
         "https://olympics.com/en/paris-2024/sports/swimming"
        ],
        [
         "Men's 4 x 100m Medley Relay",
         "swimming",
         "Swimming",
         "SWM",
         "https://olympics.com/en/paris-2024/sports/swimming"
        ],
        [
         "Mixed 4 x 100m Medley Relay",
         "swimming",
         "Swimming",
         "SWM",
         "https://olympics.com/en/paris-2024/sports/swimming"
        ],
        [
         "Men's Singles",
         "table-tennis",
         "Table Tennis",
         "TTE",
         "https://olympics.com/en/paris-2024/sports/table-tennis"
        ],
        [
         "Women's Singles",
         "table-tennis",
         "Table Tennis",
         "TTE",
         "https://olympics.com/en/paris-2024/sports/table-tennis"
        ],
        [
         "Mixed Doubles",
         "table-tennis",
         "Table Tennis",
         "TTE",
         "https://olympics.com/en/paris-2024/sports/table-tennis"
        ],
        [
         "Men's Team",
         "table-tennis",
         "Table Tennis",
         "TTE",
         "https://olympics.com/en/paris-2024/sports/table-tennis"
        ],
        [
         "Women's Team",
         "table-tennis",
         "Table Tennis",
         "TTE",
         "https://olympics.com/en/paris-2024/sports/table-tennis"
        ],
        [
         "Men -58kg",
         "taekwondo",
         "Taekwondo",
         "TKW",
         "https://olympics.com/en/paris-2024/sports/taekwondo"
        ],
        [
         "Men -68kg",
         "taekwondo",
         "Taekwondo",
         "TKW",
         "https://olympics.com/en/paris-2024/sports/taekwondo"
        ],
        [
         "Men -80kg",
         "taekwondo",
         "Taekwondo",
         "TKW",
         "https://olympics.com/en/paris-2024/sports/taekwondo"
        ],
        [
         "Men +80kg",
         "taekwondo",
         "Taekwondo",
         "TKW",
         "https://olympics.com/en/paris-2024/sports/taekwondo"
        ],
        [
         "Women -49kg",
         "taekwondo",
         "Taekwondo",
         "TKW",
         "https://olympics.com/en/paris-2024/sports/taekwondo"
        ],
        [
         "Women -57kg",
         "taekwondo",
         "Taekwondo",
         "TKW",
         "https://olympics.com/en/paris-2024/sports/taekwondo"
        ],
        [
         "Women -67kg",
         "taekwondo",
         "Taekwondo",
         "TKW",
         "https://olympics.com/en/paris-2024/sports/taekwondo"
        ],
        [
         "Women +67kg",
         "taekwondo",
         "Taekwondo",
         "TKW",
         "https://olympics.com/en/paris-2024/sports/taekwondo"
        ],
        [
         "Men's Singles",
         "tennis",
         "Tennis",
         "TEN",
         "https://olympics.com/en/paris-2024/sports/tennis"
        ],
        [
         "Women's Singles",
         "tennis",
         "Tennis",
         "TEN",
         "https://olympics.com/en/paris-2024/sports/tennis"
        ],
        [
         "Men's Doubles",
         "tennis",
         "Tennis",
         "TEN",
         "https://olympics.com/en/paris-2024/sports/tennis"
        ],
        [
         "Women's Doubles",
         "tennis",
         "Tennis",
         "TEN",
         "https://olympics.com/en/paris-2024/sports/tennis"
        ],
        [
         "Mixed Doubles",
         "tennis",
         "Tennis",
         "TEN",
         "https://olympics.com/en/paris-2024/sports/tennis"
        ],
        [
         "Men",
         "trampoline-gymnastics",
         "Trampoline Gymnastics",
         "GTR",
         "https://olympics.com/en/paris-2024/sports/trampoline-gymnastics"
        ],
        [
         "Women",
         "trampoline-gymnastics",
         "Trampoline Gymnastics",
         "GTR",
         "https://olympics.com/en/paris-2024/sports/trampoline-gymnastics"
        ],
        [
         "Women's Individual",
         "triathlon",
         "Triathlon",
         "TRI",
         "https://olympics.com/en/paris-2024/sports/triathlon"
        ],
        [
         "Men's Individual",
         "triathlon",
         "Triathlon",
         "TRI",
         "https://olympics.com/en/paris-2024/sports/triathlon"
        ],
        [
         "Mixed Relay",
         "triathlon",
         "Triathlon",
         "TRI",
         "https://olympics.com/en/paris-2024/sports/triathlon"
        ],
        [
         "Men",
         "volleyball",
         "Volleyball",
         "VVO",
         "https://olympics.com/en/paris-2024/sports/volleyball"
        ],
        [
         "Women",
         "volleyball",
         "Volleyball",
         "VVO",
         "https://olympics.com/en/paris-2024/sports/volleyball"
        ],
        [
         "Men",
         "water-polo",
         "Water Polo",
         "WPO",
         "https://olympics.com/en/paris-2024/sports/water-polo"
        ],
        [
         "Women",
         "water-polo",
         "Water Polo",
         "WPO",
         "https://olympics.com/en/paris-2024/sports/water-polo"
        ],
        [
         "Women's 49kg",
         "weightlifting",
         "Weightlifting",
         "WLF",
         "https://olympics.com/en/paris-2024/sports/weightlifting"
        ],
        [
         "Women's 59kg",
         "weightlifting",
         "Weightlifting",
         "WLF",
         "https://olympics.com/en/paris-2024/sports/weightlifting"
        ],
        [
         "Women's 71kg",
         "weightlifting",
         "Weightlifting",
         "WLF",
         "https://olympics.com/en/paris-2024/sports/weightlifting"
        ],
        [
         "Women's 81kg",
         "weightlifting",
         "Weightlifting",
         "WLF",
         "https://olympics.com/en/paris-2024/sports/weightlifting"
        ],
        [
         "Women's +81kg",
         "weightlifting",
         "Weightlifting",
         "WLF",
         "https://olympics.com/en/paris-2024/sports/weightlifting"
        ],
        [
         "Men's 61kg",
         "weightlifting",
         "Weightlifting",
         "WLF",
         "https://olympics.com/en/paris-2024/sports/weightlifting"
        ],
        [
         "Men's 73kg",
         "weightlifting",
         "Weightlifting",
         "WLF",
         "https://olympics.com/en/paris-2024/sports/weightlifting"
        ],
        [
         "Men's 89kg",
         "weightlifting",
         "Weightlifting",
         "WLF",
         "https://olympics.com/en/paris-2024/sports/weightlifting"
        ],
        [
         "Men's 102kg",
         "weightlifting",
         "Weightlifting",
         "WLF",
         "https://olympics.com/en/paris-2024/sports/weightlifting"
        ],
        [
         "Men's +102kg",
         "weightlifting",
         "Weightlifting",
         "WLF",
         "https://olympics.com/en/paris-2024/sports/weightlifting"
        ],
        [
         "Men's Greco-Roman 60kg",
         "wrestling",
         "Wrestling",
         "WRE",
         "https://olympics.com/en/paris-2024/sports/wrestling"
        ],
        [
         "Men's Greco-Roman 67kg",
         "wrestling",
         "Wrestling",
         "WRE",
         "https://olympics.com/en/paris-2024/sports/wrestling"
        ],
        [
         "Men's Greco-Roman 77kg",
         "wrestling",
         "Wrestling",
         "WRE",
         "https://olympics.com/en/paris-2024/sports/wrestling"
        ],
        [
         "Men's Greco-Roman 87kg",
         "wrestling",
         "Wrestling",
         "WRE",
         "https://olympics.com/en/paris-2024/sports/wrestling"
        ],
        [
         "Men's Greco-Roman 97kg",
         "wrestling",
         "Wrestling",
         "WRE",
         "https://olympics.com/en/paris-2024/sports/wrestling"
        ],
        [
         "Men's Greco-Roman 130kg",
         "wrestling",
         "Wrestling",
         "WRE",
         "https://olympics.com/en/paris-2024/sports/wrestling"
        ],
        [
         "Women's Freestyle 50kg",
         "wrestling",
         "Wrestling",
         "WRE",
         "https://olympics.com/en/paris-2024/sports/wrestling"
        ],
        [
         "Women's Freestyle 53kg",
         "wrestling",
         "Wrestling",
         "WRE",
         "https://olympics.com/en/paris-2024/sports/wrestling"
        ],
        [
         "Women's Freestyle 57kg",
         "wrestling",
         "Wrestling",
         "WRE",
         "https://olympics.com/en/paris-2024/sports/wrestling"
        ],
        [
         "Women's Freestyle 62kg",
         "wrestling",
         "Wrestling",
         "WRE",
         "https://olympics.com/en/paris-2024/sports/wrestling"
        ],
        [
         "Women's Freestyle 68kg",
         "wrestling",
         "Wrestling",
         "WRE",
         "https://olympics.com/en/paris-2024/sports/wrestling"
        ],
        [
         "Women's Freestyle 76kg",
         "wrestling",
         "Wrestling",
         "WRE",
         "https://olympics.com/en/paris-2024/sports/wrestling"
        ],
        [
         "Men's Freestyle 57kg",
         "wrestling",
         "Wrestling",
         "WRE",
         "https://olympics.com/en/paris-2024/sports/wrestling"
        ],
        [
         "Men's Freestyle 65kg",
         "wrestling",
         "Wrestling",
         "WRE",
         "https://olympics.com/en/paris-2024/sports/wrestling"
        ],
        [
         "Men's Freestyle 74kg",
         "wrestling",
         "Wrestling",
         "WRE",
         "https://olympics.com/en/paris-2024/sports/wrestling"
        ],
        [
         "Men's Freestyle 86kg",
         "wrestling",
         "Wrestling",
         "WRE",
         "https://olympics.com/en/paris-2024/sports/wrestling"
        ],
        [
         "Men's Freestyle 97kg",
         "wrestling",
         "Wrestling",
         "WRE",
         "https://olympics.com/en/paris-2024/sports/wrestling"
        ],
        [
         "Men's Freestyle 125kg",
         "wrestling",
         "Wrestling",
         "WRE",
         "https://olympics.com/en/paris-2024/sports/wrestling"
        ]
       ],
       "datasetInfos": [],
       "dbfsResultPath": null,
       "isJsonSchema": true,
       "metadata": {},
       "overflow": false,
       "plotOptions": {
        "customPlotOptions": {},
        "displayType": "table",
        "pivotAggregation": null,
        "pivotColumns": null,
        "xColumns": null,
        "yColumns": null
       },
       "removedWidgets": [],
       "schema": [
        {
         "metadata": "{}",
         "name": "event",
         "type": "\"string\""
        },
        {
         "metadata": "{}",
         "name": "tag",
         "type": "\"string\""
        },
        {
         "metadata": "{}",
         "name": "sport",
         "type": "\"string\""
        },
        {
         "metadata": "{}",
         "name": "sport_code",
         "type": "\"string\""
        },
        {
         "metadata": "{}",
         "name": "sport_url",
         "type": "\"string\""
        }
       ],
       "type": "table"
      }
     },
     "output_type": "display_data"
    }
   ],
   "source": [
    "display(df_events)"
   ]
  },
  {
   "cell_type": "markdown",
   "metadata": {
    "application/vnd.databricks.v1+cell": {
     "cellMetadata": {},
     "inputWidgets": {},
     "nuid": "e47ddc65-cbd8-4fa9-ba77-514f0a08dc68",
     "showTitle": false,
     "tableResultSettingsMap": {},
     "title": ""
    }
   },
   "source": [
    "## Creating parameters"
   ]
  },
  {
   "cell_type": "code",
   "execution_count": 0,
   "metadata": {
    "application/vnd.databricks.v1+cell": {
     "cellMetadata": {
      "byteLimit": 2048000,
      "rowLimit": 10000
     },
     "inputWidgets": {},
     "nuid": "055c3e6a-e48d-4e7a-9639-ee9c9ecf92d7",
     "showTitle": false,
     "tableResultSettingsMap": {},
     "title": ""
    }
   },
   "outputs": [],
   "source": [
    "dbutils.widgets.text(\"source_container\",\"\")\n",
    "dbutils.widgets.text(\"sink_container\",\"\")\n",
    "dbutils.widgets.text(\"folder\",\"\")"
   ]
  },
  {
   "cell_type": "code",
   "execution_count": 0,
   "metadata": {
    "application/vnd.databricks.v1+cell": {
     "cellMetadata": {
      "byteLimit": 2048000,
      "rowLimit": 10000
     },
     "inputWidgets": {},
     "nuid": "0f40ee2a-939d-48f2-bc10-ca9bf2900fab",
     "showTitle": false,
     "tableResultSettingsMap": {},
     "title": ""
    }
   },
   "outputs": [],
   "source": [
    "source_container = dbutils.widgets.get(\"source_container\")\n",
    "sink_container = dbutils.widgets.get(\"sink_container\")\n",
    "folder = dbutils.widgets.get(\"folder\")"
   ]
  },
  {
   "cell_type": "markdown",
   "metadata": {
    "application/vnd.databricks.v1+cell": {
     "cellMetadata": {},
     "inputWidgets": {},
     "nuid": "2615fdc0-b6e5-4255-8fe2-034a639dc00c",
     "showTitle": false,
     "tableResultSettingsMap": {},
     "title": ""
    }
   },
   "source": [
    "## Parameterizing Code"
   ]
  },
  {
   "cell_type": "code",
   "execution_count": 0,
   "metadata": {
    "application/vnd.databricks.v1+cell": {
     "cellMetadata": {
      "byteLimit": 2048000,
      "rowLimit": 10000
     },
     "inputWidgets": {},
     "nuid": "d912a22b-e3f5-49db-a6a7-f4776f29340d",
     "showTitle": false,
     "tableResultSettingsMap": {},
     "title": ""
    }
   },
   "outputs": [],
   "source": [
    "df = spark.read.format(\"parquet\")\\\n",
    "    .load(f\"abfss://{source_container}@storageaccolympic.dfs.core.windows.net/{folder}\")"
   ]
  },
  {
   "cell_type": "code",
   "execution_count": 0,
   "metadata": {
    "application/vnd.databricks.v1+cell": {
     "cellMetadata": {
      "byteLimit": 2048000,
      "rowLimit": 10000
     },
     "inputWidgets": {},
     "nuid": "cc1927a1-8cd4-47a7-9d23-897cae2c17c3",
     "showTitle": false,
     "tableResultSettingsMap": {},
     "title": ""
    }
   },
   "outputs": [
    {
     "output_type": "display_data",
     "data": {
      "text/html": [
       "<style scoped>\n",
       "  .table-result-container {\n",
       "    max-height: 300px;\n",
       "    overflow: auto;\n",
       "  }\n",
       "  table, th, td {\n",
       "    border: 1px solid black;\n",
       "    border-collapse: collapse;\n",
       "  }\n",
       "  th, td {\n",
       "    padding: 5px;\n",
       "  }\n",
       "  th {\n",
       "    text-align: left;\n",
       "  }\n",
       "</style><div class='table-result-container'><table class='table-result'><thead style='background-color: white'><tr><th>event</th><th>tag</th><th>sport</th><th>sport_code</th><th>sport_url</th></tr></thead><tbody><tr><td>Men's Individual</td><td>archery</td><td>Archery</td><td>ARC</td><td>https://olympics.com/en/paris-2024/sports/archery</td></tr><tr><td>Women's Individual</td><td>archery</td><td>Archery</td><td>ARC</td><td>https://olympics.com/en/paris-2024/sports/archery</td></tr><tr><td>Men's Team</td><td>archery</td><td>Archery</td><td>ARC</td><td>https://olympics.com/en/paris-2024/sports/archery</td></tr><tr><td>Women's Team</td><td>archery</td><td>Archery</td><td>ARC</td><td>https://olympics.com/en/paris-2024/sports/archery</td></tr><tr><td>Mixed Team</td><td>archery</td><td>Archery</td><td>ARC</td><td>https://olympics.com/en/paris-2024/sports/archery</td></tr><tr><td>Men's Team</td><td>artistic-gymnastics</td><td>Artistic Gymnastics</td><td>GAR</td><td>https://olympics.com/en/paris-2024/sports/artistic-gymnastics</td></tr><tr><td>Men's All-Around</td><td>artistic-gymnastics</td><td>Artistic Gymnastics</td><td>GAR</td><td>https://olympics.com/en/paris-2024/sports/artistic-gymnastics</td></tr><tr><td>Men's Floor Exercise</td><td>artistic-gymnastics</td><td>Artistic Gymnastics</td><td>GAR</td><td>https://olympics.com/en/paris-2024/sports/artistic-gymnastics</td></tr><tr><td>Men's Pommel Horse</td><td>artistic-gymnastics</td><td>Artistic Gymnastics</td><td>GAR</td><td>https://olympics.com/en/paris-2024/sports/artistic-gymnastics</td></tr><tr><td>Men's Rings</td><td>artistic-gymnastics</td><td>Artistic Gymnastics</td><td>GAR</td><td>https://olympics.com/en/paris-2024/sports/artistic-gymnastics</td></tr><tr><td>Men's Vault</td><td>artistic-gymnastics</td><td>Artistic Gymnastics</td><td>GAR</td><td>https://olympics.com/en/paris-2024/sports/artistic-gymnastics</td></tr><tr><td>Men's Parallel Bars</td><td>artistic-gymnastics</td><td>Artistic Gymnastics</td><td>GAR</td><td>https://olympics.com/en/paris-2024/sports/artistic-gymnastics</td></tr><tr><td>Men's Horizontal Bar</td><td>artistic-gymnastics</td><td>Artistic Gymnastics</td><td>GAR</td><td>https://olympics.com/en/paris-2024/sports/artistic-gymnastics</td></tr><tr><td>Women's Team</td><td>artistic-gymnastics</td><td>Artistic Gymnastics</td><td>GAR</td><td>https://olympics.com/en/paris-2024/sports/artistic-gymnastics</td></tr><tr><td>Women's All-Around</td><td>artistic-gymnastics</td><td>Artistic Gymnastics</td><td>GAR</td><td>https://olympics.com/en/paris-2024/sports/artistic-gymnastics</td></tr><tr><td>Women's Vault</td><td>artistic-gymnastics</td><td>Artistic Gymnastics</td><td>GAR</td><td>https://olympics.com/en/paris-2024/sports/artistic-gymnastics</td></tr><tr><td>Women's Uneven Bars</td><td>artistic-gymnastics</td><td>Artistic Gymnastics</td><td>GAR</td><td>https://olympics.com/en/paris-2024/sports/artistic-gymnastics</td></tr><tr><td>Women's Balance Beam</td><td>artistic-gymnastics</td><td>Artistic Gymnastics</td><td>GAR</td><td>https://olympics.com/en/paris-2024/sports/artistic-gymnastics</td></tr><tr><td>Women's Floor Exercise</td><td>artistic-gymnastics</td><td>Artistic Gymnastics</td><td>GAR</td><td>https://olympics.com/en/paris-2024/sports/artistic-gymnastics</td></tr><tr><td>Duet</td><td>artistic-swimming</td><td>Artistic Swimming</td><td>SWA</td><td>https://olympics.com/en/paris-2024/sports/artistic-swimming</td></tr><tr><td>Team</td><td>artistic-swimming</td><td>Artistic Swimming</td><td>SWA</td><td>https://olympics.com/en/paris-2024/sports/artistic-swimming</td></tr><tr><td>Men's 100m</td><td>athletics</td><td>Athletics</td><td>ATH</td><td>https://olympics.com/en/paris-2024/sports/athletics</td></tr><tr><td>Men's 200m</td><td>athletics</td><td>Athletics</td><td>ATH</td><td>https://olympics.com/en/paris-2024/sports/athletics</td></tr><tr><td>Men's 400m</td><td>athletics</td><td>Athletics</td><td>ATH</td><td>https://olympics.com/en/paris-2024/sports/athletics</td></tr><tr><td>Men's 800m</td><td>athletics</td><td>Athletics</td><td>ATH</td><td>https://olympics.com/en/paris-2024/sports/athletics</td></tr><tr><td>Men's 1500m</td><td>athletics</td><td>Athletics</td><td>ATH</td><td>https://olympics.com/en/paris-2024/sports/athletics</td></tr><tr><td>Men's 5000m</td><td>athletics</td><td>Athletics</td><td>ATH</td><td>https://olympics.com/en/paris-2024/sports/athletics</td></tr><tr><td>Men's 10,000m</td><td>athletics</td><td>Athletics</td><td>ATH</td><td>https://olympics.com/en/paris-2024/sports/athletics</td></tr><tr><td>Men's Marathon</td><td>athletics</td><td>Athletics</td><td>ATH</td><td>https://olympics.com/en/paris-2024/sports/athletics</td></tr><tr><td>Men's 3000m Steeplechase</td><td>athletics</td><td>Athletics</td><td>ATH</td><td>https://olympics.com/en/paris-2024/sports/athletics</td></tr><tr><td>Men's 110m Hurdles</td><td>athletics</td><td>Athletics</td><td>ATH</td><td>https://olympics.com/en/paris-2024/sports/athletics</td></tr><tr><td>Men's 400m Hurdles</td><td>athletics</td><td>Athletics</td><td>ATH</td><td>https://olympics.com/en/paris-2024/sports/athletics</td></tr><tr><td>Men's High Jump</td><td>athletics</td><td>Athletics</td><td>ATH</td><td>https://olympics.com/en/paris-2024/sports/athletics</td></tr><tr><td>Men's Pole Vault</td><td>athletics</td><td>Athletics</td><td>ATH</td><td>https://olympics.com/en/paris-2024/sports/athletics</td></tr><tr><td>Men's Long Jump</td><td>athletics</td><td>Athletics</td><td>ATH</td><td>https://olympics.com/en/paris-2024/sports/athletics</td></tr><tr><td>Men's Triple Jump</td><td>athletics</td><td>Athletics</td><td>ATH</td><td>https://olympics.com/en/paris-2024/sports/athletics</td></tr><tr><td>Men's Shot Put</td><td>athletics</td><td>Athletics</td><td>ATH</td><td>https://olympics.com/en/paris-2024/sports/athletics</td></tr><tr><td>Men's Discus Throw</td><td>athletics</td><td>Athletics</td><td>ATH</td><td>https://olympics.com/en/paris-2024/sports/athletics</td></tr><tr><td>Men's Hammer Throw</td><td>athletics</td><td>Athletics</td><td>ATH</td><td>https://olympics.com/en/paris-2024/sports/athletics</td></tr><tr><td>Men's Javelin Throw</td><td>athletics</td><td>Athletics</td><td>ATH</td><td>https://olympics.com/en/paris-2024/sports/athletics</td></tr><tr><td>Men's Decathlon</td><td>athletics</td><td>Athletics</td><td>ATH</td><td>https://olympics.com/en/paris-2024/sports/athletics</td></tr><tr><td>Men's 20km Race Walk</td><td>athletics</td><td>Athletics</td><td>ATH</td><td>https://olympics.com/en/paris-2024/sports/athletics</td></tr><tr><td>Men's 4 x 100m Relay</td><td>athletics</td><td>Athletics</td><td>ATH</td><td>https://olympics.com/en/paris-2024/sports/athletics</td></tr><tr><td>Men's 4 x 400m Relay</td><td>athletics</td><td>Athletics</td><td>ATH</td><td>https://olympics.com/en/paris-2024/sports/athletics</td></tr><tr><td>Women's 100m</td><td>athletics</td><td>Athletics</td><td>ATH</td><td>https://olympics.com/en/paris-2024/sports/athletics</td></tr><tr><td>Women's 200m</td><td>athletics</td><td>Athletics</td><td>ATH</td><td>https://olympics.com/en/paris-2024/sports/athletics</td></tr><tr><td>Women's 400m</td><td>athletics</td><td>Athletics</td><td>ATH</td><td>https://olympics.com/en/paris-2024/sports/athletics</td></tr><tr><td>Women's 800m</td><td>athletics</td><td>Athletics</td><td>ATH</td><td>https://olympics.com/en/paris-2024/sports/athletics</td></tr><tr><td>Women's 1500m</td><td>athletics</td><td>Athletics</td><td>ATH</td><td>https://olympics.com/en/paris-2024/sports/athletics</td></tr><tr><td>Women's 5000m</td><td>athletics</td><td>Athletics</td><td>ATH</td><td>https://olympics.com/en/paris-2024/sports/athletics</td></tr><tr><td>Women's 10,000m</td><td>athletics</td><td>Athletics</td><td>ATH</td><td>https://olympics.com/en/paris-2024/sports/athletics</td></tr><tr><td>Women's Marathon</td><td>athletics</td><td>Athletics</td><td>ATH</td><td>https://olympics.com/en/paris-2024/sports/athletics</td></tr><tr><td>Women's 3000m Steeplechase</td><td>athletics</td><td>Athletics</td><td>ATH</td><td>https://olympics.com/en/paris-2024/sports/athletics</td></tr><tr><td>Women's 100m Hurdles</td><td>athletics</td><td>Athletics</td><td>ATH</td><td>https://olympics.com/en/paris-2024/sports/athletics</td></tr><tr><td>Women's 400m Hurdles</td><td>athletics</td><td>Athletics</td><td>ATH</td><td>https://olympics.com/en/paris-2024/sports/athletics</td></tr><tr><td>Women's High Jump</td><td>athletics</td><td>Athletics</td><td>ATH</td><td>https://olympics.com/en/paris-2024/sports/athletics</td></tr><tr><td>Women's Pole Vault</td><td>athletics</td><td>Athletics</td><td>ATH</td><td>https://olympics.com/en/paris-2024/sports/athletics</td></tr><tr><td>Women's Long Jump</td><td>athletics</td><td>Athletics</td><td>ATH</td><td>https://olympics.com/en/paris-2024/sports/athletics</td></tr><tr><td>Women's Triple Jump</td><td>athletics</td><td>Athletics</td><td>ATH</td><td>https://olympics.com/en/paris-2024/sports/athletics</td></tr><tr><td>Women's Shot Put</td><td>athletics</td><td>Athletics</td><td>ATH</td><td>https://olympics.com/en/paris-2024/sports/athletics</td></tr><tr><td>Women's Discus Throw</td><td>athletics</td><td>Athletics</td><td>ATH</td><td>https://olympics.com/en/paris-2024/sports/athletics</td></tr><tr><td>Women's Hammer Throw</td><td>athletics</td><td>Athletics</td><td>ATH</td><td>https://olympics.com/en/paris-2024/sports/athletics</td></tr><tr><td>Women's Javelin Throw</td><td>athletics</td><td>Athletics</td><td>ATH</td><td>https://olympics.com/en/paris-2024/sports/athletics</td></tr><tr><td>Women's Heptathlon</td><td>athletics</td><td>Athletics</td><td>ATH</td><td>https://olympics.com/en/paris-2024/sports/athletics</td></tr><tr><td>Women's 20km Race Walk</td><td>athletics</td><td>Athletics</td><td>ATH</td><td>https://olympics.com/en/paris-2024/sports/athletics</td></tr><tr><td>Women's 4 x 100m Relay</td><td>athletics</td><td>Athletics</td><td>ATH</td><td>https://olympics.com/en/paris-2024/sports/athletics</td></tr><tr><td>Women's 4 x 400m Relay</td><td>athletics</td><td>Athletics</td><td>ATH</td><td>https://olympics.com/en/paris-2024/sports/athletics</td></tr><tr><td>4 x 400m Relay Mixed</td><td>athletics</td><td>Athletics</td><td>ATH</td><td>https://olympics.com/en/paris-2024/sports/athletics</td></tr><tr><td>Marathon Race Walk Relay Mixed</td><td>athletics</td><td>Athletics</td><td>ATH</td><td>https://olympics.com/en/paris-2024/sports/athletics</td></tr><tr><td>Men's Singles</td><td>badminton</td><td>Badminton</td><td>BDM</td><td>https://olympics.com/en/paris-2024/sports/badminton</td></tr><tr><td>Women's Singles</td><td>badminton</td><td>Badminton</td><td>BDM</td><td>https://olympics.com/en/paris-2024/sports/badminton</td></tr><tr><td>Men's Doubles</td><td>badminton</td><td>Badminton</td><td>BDM</td><td>https://olympics.com/en/paris-2024/sports/badminton</td></tr><tr><td>Women's Doubles</td><td>badminton</td><td>Badminton</td><td>BDM</td><td>https://olympics.com/en/paris-2024/sports/badminton</td></tr><tr><td>Mixed Doubles</td><td>badminton</td><td>Badminton</td><td>BDM</td><td>https://olympics.com/en/paris-2024/sports/badminton</td></tr><tr><td>Men</td><td>basketball</td><td>Basketball</td><td>BKB</td><td>https://olympics.com/en/paris-2024/sports/basketball</td></tr><tr><td>Women</td><td>basketball</td><td>Basketball</td><td>BKB</td><td>https://olympics.com/en/paris-2024/sports/basketball</td></tr><tr><td>Men</td><td>3x3-basketball</td><td>3x3 Basketball</td><td>BK3</td><td>https://olympics.com/en/paris-2024/sports/3x3-basketball</td></tr><tr><td>Women</td><td>3x3-basketball</td><td>3x3 Basketball</td><td>BK3</td><td>https://olympics.com/en/paris-2024/sports/3x3-basketball</td></tr><tr><td>Men</td><td>beach-volleyball</td><td>Beach Volleyball</td><td>VBV</td><td>https://olympics.com/en/paris-2024/sports/beach-volleyball</td></tr><tr><td>Women</td><td>beach-volleyball</td><td>Beach Volleyball</td><td>VBV</td><td>https://olympics.com/en/paris-2024/sports/beach-volleyball</td></tr><tr><td>Men's 51kg</td><td>boxing</td><td>Boxing</td><td>BOX</td><td>https://olympics.com/en/paris-2024/sports/boxing</td></tr><tr><td>Men's 57kg</td><td>boxing</td><td>Boxing</td><td>BOX</td><td>https://olympics.com/en/paris-2024/sports/boxing</td></tr><tr><td>Men's 63.5kg</td><td>boxing</td><td>Boxing</td><td>BOX</td><td>https://olympics.com/en/paris-2024/sports/boxing</td></tr><tr><td>Men's 71kg</td><td>boxing</td><td>Boxing</td><td>BOX</td><td>https://olympics.com/en/paris-2024/sports/boxing</td></tr><tr><td>Men's 80kg</td><td>boxing</td><td>Boxing</td><td>BOX</td><td>https://olympics.com/en/paris-2024/sports/boxing</td></tr><tr><td>Men's 92kg</td><td>boxing</td><td>Boxing</td><td>BOX</td><td>https://olympics.com/en/paris-2024/sports/boxing</td></tr><tr><td>Men's +92kg</td><td>boxing</td><td>Boxing</td><td>BOX</td><td>https://olympics.com/en/paris-2024/sports/boxing</td></tr><tr><td>Women's 50kg</td><td>boxing</td><td>Boxing</td><td>BOX</td><td>https://olympics.com/en/paris-2024/sports/boxing</td></tr><tr><td>Women's 54kg</td><td>boxing</td><td>Boxing</td><td>BOX</td><td>https://olympics.com/en/paris-2024/sports/boxing</td></tr><tr><td>Women's 57kg</td><td>boxing</td><td>Boxing</td><td>BOX</td><td>https://olympics.com/en/paris-2024/sports/boxing</td></tr><tr><td>Women's 60kg</td><td>boxing</td><td>Boxing</td><td>BOX</td><td>https://olympics.com/en/paris-2024/sports/boxing</td></tr><tr><td>Women's 66kg</td><td>boxing</td><td>Boxing</td><td>BOX</td><td>https://olympics.com/en/paris-2024/sports/boxing</td></tr><tr><td>Women's 75kg</td><td>boxing</td><td>Boxing</td><td>BOX</td><td>https://olympics.com/en/paris-2024/sports/boxing</td></tr><tr><td>B-Boys</td><td>breaking</td><td>Breaking</td><td>BKG</td><td>https://olympics.com/en/paris-2024/sports/breaking</td></tr><tr><td>B-Girls</td><td>breaking</td><td>Breaking</td><td>BKG</td><td>https://olympics.com/en/paris-2024/sports/breaking</td></tr><tr><td>Men's Kayak Single</td><td>canoe-kayak-slalom</td><td>Canoe Slalom</td><td>CSL</td><td>https://olympics.com/en/paris-2024/sports/canoe-kayak-slalom</td></tr><tr><td>Women's Kayak Single</td><td>canoe-kayak-slalom</td><td>Canoe Slalom</td><td>CSL</td><td>https://olympics.com/en/paris-2024/sports/canoe-kayak-slalom</td></tr><tr><td>Men's Canoe Single</td><td>canoe-kayak-slalom</td><td>Canoe Slalom</td><td>CSL</td><td>https://olympics.com/en/paris-2024/sports/canoe-kayak-slalom</td></tr><tr><td>Women's Canoe Single</td><td>canoe-kayak-slalom</td><td>Canoe Slalom</td><td>CSL</td><td>https://olympics.com/en/paris-2024/sports/canoe-kayak-slalom</td></tr><tr><td>Men's Kayak Cross</td><td>canoe-kayak-slalom</td><td>Canoe Slalom</td><td>CSL</td><td>https://olympics.com/en/paris-2024/sports/canoe-kayak-slalom</td></tr><tr><td>Women's Kayak Cross</td><td>canoe-kayak-slalom</td><td>Canoe Slalom</td><td>CSL</td><td>https://olympics.com/en/paris-2024/sports/canoe-kayak-slalom</td></tr><tr><td>Men's Kayak Single 1000m</td><td>canoe-kayak-flatwater</td><td>Canoe Sprint</td><td>CSP</td><td>https://olympics.com/en/paris-2024/sports/canoe-kayak-flatwater</td></tr><tr><td>Men's Kayak Double 500m</td><td>canoe-kayak-flatwater</td><td>Canoe Sprint</td><td>CSP</td><td>https://olympics.com/en/paris-2024/sports/canoe-kayak-flatwater</td></tr><tr><td>Men's Kayak Four 500m</td><td>canoe-kayak-flatwater</td><td>Canoe Sprint</td><td>CSP</td><td>https://olympics.com/en/paris-2024/sports/canoe-kayak-flatwater</td></tr><tr><td>Men's Canoe Single 1000m</td><td>canoe-kayak-flatwater</td><td>Canoe Sprint</td><td>CSP</td><td>https://olympics.com/en/paris-2024/sports/canoe-kayak-flatwater</td></tr><tr><td>Men's Canoe Double 500m</td><td>canoe-kayak-flatwater</td><td>Canoe Sprint</td><td>CSP</td><td>https://olympics.com/en/paris-2024/sports/canoe-kayak-flatwater</td></tr><tr><td>Women's Kayak Single 500m</td><td>canoe-kayak-flatwater</td><td>Canoe Sprint</td><td>CSP</td><td>https://olympics.com/en/paris-2024/sports/canoe-kayak-flatwater</td></tr><tr><td>Women's Kayak Double 500m</td><td>canoe-kayak-flatwater</td><td>Canoe Sprint</td><td>CSP</td><td>https://olympics.com/en/paris-2024/sports/canoe-kayak-flatwater</td></tr><tr><td>Women's Kayak Four 500m</td><td>canoe-kayak-flatwater</td><td>Canoe Sprint</td><td>CSP</td><td>https://olympics.com/en/paris-2024/sports/canoe-kayak-flatwater</td></tr><tr><td>Women's Canoe Single 200m</td><td>canoe-kayak-flatwater</td><td>Canoe Sprint</td><td>CSP</td><td>https://olympics.com/en/paris-2024/sports/canoe-kayak-flatwater</td></tr><tr><td>Women's Canoe Double 500m</td><td>canoe-kayak-flatwater</td><td>Canoe Sprint</td><td>CSP</td><td>https://olympics.com/en/paris-2024/sports/canoe-kayak-flatwater</td></tr><tr><td>Women's Park</td><td>cycling-bmx-freestyle</td><td>Cycling BMX Freestyle</td><td>BMF</td><td>https://olympics.com/en/paris-2024/sports/cycling-bmx-freestyle</td></tr><tr><td>Men's Park</td><td>cycling-bmx-freestyle</td><td>Cycling BMX Freestyle</td><td>BMF</td><td>https://olympics.com/en/paris-2024/sports/cycling-bmx-freestyle</td></tr><tr><td>Women</td><td>cycling-bmx-racing</td><td>Cycling BMX Racing</td><td>BMX</td><td>https://olympics.com/en/paris-2024/sports/cycling-bmx-racing</td></tr><tr><td>Men</td><td>cycling-bmx-racing</td><td>Cycling BMX Racing</td><td>BMX</td><td>https://olympics.com/en/paris-2024/sports/cycling-bmx-racing</td></tr><tr><td>Men's Cross-country</td><td>cycling-mountain-bike</td><td>Cycling Mountain Bike</td><td>MTB</td><td>https://olympics.com/en/paris-2024/sports/cycling-mountain-bike</td></tr><tr><td>Women's Cross-country</td><td>cycling-mountain-bike</td><td>Cycling Mountain Bike</td><td>MTB</td><td>https://olympics.com/en/paris-2024/sports/cycling-mountain-bike</td></tr><tr><td>Men's Road Race</td><td>cycling-road</td><td>Cycling Road</td><td>CRD</td><td>https://olympics.com/en/paris-2024/sports/cycling-road</td></tr><tr><td>Women's Road Race</td><td>cycling-road</td><td>Cycling Road</td><td>CRD</td><td>https://olympics.com/en/paris-2024/sports/cycling-road</td></tr><tr><td>Men's Individual Time Trial</td><td>cycling-road</td><td>Cycling Road</td><td>CRD</td><td>https://olympics.com/en/paris-2024/sports/cycling-road</td></tr><tr><td>Women's Individual Time Trial</td><td>cycling-road</td><td>Cycling Road</td><td>CRD</td><td>https://olympics.com/en/paris-2024/sports/cycling-road</td></tr><tr><td>Men's Team Sprint</td><td>cycling-track</td><td>Cycling Track</td><td>CTR</td><td>https://olympics.com/en/paris-2024/sports/cycling-track</td></tr><tr><td>Men's Sprint</td><td>cycling-track</td><td>Cycling Track</td><td>CTR</td><td>https://olympics.com/en/paris-2024/sports/cycling-track</td></tr><tr><td>Men's Keirin</td><td>cycling-track</td><td>Cycling Track</td><td>CTR</td><td>https://olympics.com/en/paris-2024/sports/cycling-track</td></tr><tr><td>Men's Team Pursuit</td><td>cycling-track</td><td>Cycling Track</td><td>CTR</td><td>https://olympics.com/en/paris-2024/sports/cycling-track</td></tr><tr><td>Men's Omnium</td><td>cycling-track</td><td>Cycling Track</td><td>CTR</td><td>https://olympics.com/en/paris-2024/sports/cycling-track</td></tr><tr><td>Men's Madison</td><td>cycling-track</td><td>Cycling Track</td><td>CTR</td><td>https://olympics.com/en/paris-2024/sports/cycling-track</td></tr><tr><td>Women's Team Sprint</td><td>cycling-track</td><td>Cycling Track</td><td>CTR</td><td>https://olympics.com/en/paris-2024/sports/cycling-track</td></tr><tr><td>Women's Sprint</td><td>cycling-track</td><td>Cycling Track</td><td>CTR</td><td>https://olympics.com/en/paris-2024/sports/cycling-track</td></tr><tr><td>Women's Keirin</td><td>cycling-track</td><td>Cycling Track</td><td>CTR</td><td>https://olympics.com/en/paris-2024/sports/cycling-track</td></tr><tr><td>Women's Team Pursuit</td><td>cycling-track</td><td>Cycling Track</td><td>CTR</td><td>https://olympics.com/en/paris-2024/sports/cycling-track</td></tr><tr><td>Women's Omnium</td><td>cycling-track</td><td>Cycling Track</td><td>CTR</td><td>https://olympics.com/en/paris-2024/sports/cycling-track</td></tr><tr><td>Women's Madison</td><td>cycling-track</td><td>Cycling Track</td><td>CTR</td><td>https://olympics.com/en/paris-2024/sports/cycling-track</td></tr><tr><td>Women's 3m Springboard</td><td>diving</td><td>Diving</td><td>DIV</td><td>https://olympics.com/en/paris-2024/sports/diving</td></tr><tr><td>Women's 10m Platform</td><td>diving</td><td>Diving</td><td>DIV</td><td>https://olympics.com/en/paris-2024/sports/diving</td></tr><tr><td>Women's Synchronised 3m Springboard</td><td>diving</td><td>Diving</td><td>DIV</td><td>https://olympics.com/en/paris-2024/sports/diving</td></tr><tr><td>Women's Synchronised 10m Platform</td><td>diving</td><td>Diving</td><td>DIV</td><td>https://olympics.com/en/paris-2024/sports/diving</td></tr><tr><td>Men's 3m Springboard</td><td>diving</td><td>Diving</td><td>DIV</td><td>https://olympics.com/en/paris-2024/sports/diving</td></tr><tr><td>Men's 10m Platform</td><td>diving</td><td>Diving</td><td>DIV</td><td>https://olympics.com/en/paris-2024/sports/diving</td></tr><tr><td>Men's Synchronised 3m Springboard</td><td>diving</td><td>Diving</td><td>DIV</td><td>https://olympics.com/en/paris-2024/sports/diving</td></tr><tr><td>Men's Synchronised 10m Platform</td><td>diving</td><td>Diving</td><td>DIV</td><td>https://olympics.com/en/paris-2024/sports/diving</td></tr><tr><td>Eventing Team</td><td>equestrian</td><td>Equestrian</td><td>EQU</td><td>https://olympics.com/en/paris-2024/sports/equestrian</td></tr><tr><td>Eventing Individual</td><td>equestrian</td><td>Equestrian</td><td>EQU</td><td>https://olympics.com/en/paris-2024/sports/equestrian</td></tr><tr><td>Dressage Team</td><td>equestrian</td><td>Equestrian</td><td>EQU</td><td>https://olympics.com/en/paris-2024/sports/equestrian</td></tr><tr><td>Dressage Individual</td><td>equestrian</td><td>Equestrian</td><td>EQU</td><td>https://olympics.com/en/paris-2024/sports/equestrian</td></tr><tr><td>Jumping Team</td><td>equestrian</td><td>Equestrian</td><td>EQU</td><td>https://olympics.com/en/paris-2024/sports/equestrian</td></tr><tr><td>Jumping Individual</td><td>equestrian</td><td>Equestrian</td><td>EQU</td><td>https://olympics.com/en/paris-2024/sports/equestrian</td></tr><tr><td>Women's Épée Individual</td><td>fencing</td><td>Fencing</td><td>FEN</td><td>https://olympics.com/en/paris-2024/sports/fencing</td></tr><tr><td>Women's Foil Individual</td><td>fencing</td><td>Fencing</td><td>FEN</td><td>https://olympics.com/en/paris-2024/sports/fencing</td></tr><tr><td>Women's Sabre Individual</td><td>fencing</td><td>Fencing</td><td>FEN</td><td>https://olympics.com/en/paris-2024/sports/fencing</td></tr><tr><td>Men's Épée Individual</td><td>fencing</td><td>Fencing</td><td>FEN</td><td>https://olympics.com/en/paris-2024/sports/fencing</td></tr><tr><td>Men's Foil Individual</td><td>fencing</td><td>Fencing</td><td>FEN</td><td>https://olympics.com/en/paris-2024/sports/fencing</td></tr><tr><td>Men's Sabre Individual</td><td>fencing</td><td>Fencing</td><td>FEN</td><td>https://olympics.com/en/paris-2024/sports/fencing</td></tr><tr><td>Women's Épée Team</td><td>fencing</td><td>Fencing</td><td>FEN</td><td>https://olympics.com/en/paris-2024/sports/fencing</td></tr><tr><td>Women's Foil Team</td><td>fencing</td><td>Fencing</td><td>FEN</td><td>https://olympics.com/en/paris-2024/sports/fencing</td></tr><tr><td>Women's Sabre Team</td><td>fencing</td><td>Fencing</td><td>FEN</td><td>https://olympics.com/en/paris-2024/sports/fencing</td></tr><tr><td>Men's Épée Team</td><td>fencing</td><td>Fencing</td><td>FEN</td><td>https://olympics.com/en/paris-2024/sports/fencing</td></tr><tr><td>Men's Foil Team</td><td>fencing</td><td>Fencing</td><td>FEN</td><td>https://olympics.com/en/paris-2024/sports/fencing</td></tr><tr><td>Men's Sabre Team</td><td>fencing</td><td>Fencing</td><td>FEN</td><td>https://olympics.com/en/paris-2024/sports/fencing</td></tr><tr><td>Men</td><td>football</td><td>Football</td><td>FBL</td><td>https://olympics.com/en/paris-2024/sports/football</td></tr><tr><td>Women</td><td>football</td><td>Football</td><td>FBL</td><td>https://olympics.com/en/paris-2024/sports/football</td></tr><tr><td>Men's Individual Stroke Play</td><td>golf</td><td>Golf</td><td>GLF</td><td>https://olympics.com/en/paris-2024/sports/golf</td></tr><tr><td>Women's Individual Stroke Play</td><td>golf</td><td>Golf</td><td>GLF</td><td>https://olympics.com/en/paris-2024/sports/golf</td></tr><tr><td>Men</td><td>handball</td><td>Handball</td><td>HBL</td><td>https://olympics.com/en/paris-2024/sports/handball</td></tr><tr><td>Women</td><td>handball</td><td>Handball</td><td>HBL</td><td>https://olympics.com/en/paris-2024/sports/handball</td></tr><tr><td>Men</td><td>hockey</td><td>Hockey</td><td>HOC</td><td>https://olympics.com/en/paris-2024/sports/hockey</td></tr><tr><td>Women</td><td>hockey</td><td>Hockey</td><td>HOC</td><td>https://olympics.com/en/paris-2024/sports/hockey</td></tr><tr><td>Women -48 kg</td><td>judo</td><td>Judo</td><td>JUD</td><td>https://olympics.com/en/paris-2024/sports/judo</td></tr><tr><td>Women -52 kg</td><td>judo</td><td>Judo</td><td>JUD</td><td>https://olympics.com/en/paris-2024/sports/judo</td></tr><tr><td>Women -57 kg</td><td>judo</td><td>Judo</td><td>JUD</td><td>https://olympics.com/en/paris-2024/sports/judo</td></tr><tr><td>Women -63 kg</td><td>judo</td><td>Judo</td><td>JUD</td><td>https://olympics.com/en/paris-2024/sports/judo</td></tr><tr><td>Women -70 kg</td><td>judo</td><td>Judo</td><td>JUD</td><td>https://olympics.com/en/paris-2024/sports/judo</td></tr><tr><td>Women -78 kg</td><td>judo</td><td>Judo</td><td>JUD</td><td>https://olympics.com/en/paris-2024/sports/judo</td></tr><tr><td>Women +78 kg</td><td>judo</td><td>Judo</td><td>JUD</td><td>https://olympics.com/en/paris-2024/sports/judo</td></tr><tr><td>Men -60 kg</td><td>judo</td><td>Judo</td><td>JUD</td><td>https://olympics.com/en/paris-2024/sports/judo</td></tr><tr><td>Men -66 kg</td><td>judo</td><td>Judo</td><td>JUD</td><td>https://olympics.com/en/paris-2024/sports/judo</td></tr><tr><td>Men -73 kg</td><td>judo</td><td>Judo</td><td>JUD</td><td>https://olympics.com/en/paris-2024/sports/judo</td></tr><tr><td>Men -81 kg</td><td>judo</td><td>Judo</td><td>JUD</td><td>https://olympics.com/en/paris-2024/sports/judo</td></tr><tr><td>Men -90 kg</td><td>judo</td><td>Judo</td><td>JUD</td><td>https://olympics.com/en/paris-2024/sports/judo</td></tr><tr><td>Men -100 kg</td><td>judo</td><td>Judo</td><td>JUD</td><td>https://olympics.com/en/paris-2024/sports/judo</td></tr><tr><td>Men +100 kg</td><td>judo</td><td>Judo</td><td>JUD</td><td>https://olympics.com/en/paris-2024/sports/judo</td></tr><tr><td>Mixed Team</td><td>judo</td><td>Judo</td><td>JUD</td><td>https://olympics.com/en/paris-2024/sports/judo</td></tr><tr><td>Women's 10km</td><td>marathon-swimming</td><td>Marathon Swimming</td><td>OWS</td><td>https://olympics.com/en/paris-2024/sports/marathon-swimming</td></tr><tr><td>Men's 10km</td><td>marathon-swimming</td><td>Marathon Swimming</td><td>OWS</td><td>https://olympics.com/en/paris-2024/sports/marathon-swimming</td></tr><tr><td>Women's Individual</td><td>modern-pentathlon</td><td>Modern Pentathlon</td><td>MPN</td><td>https://olympics.com/en/paris-2024/sports/modern-pentathlon</td></tr><tr><td>Men's Individual</td><td>modern-pentathlon</td><td>Modern Pentathlon</td><td>MPN</td><td>https://olympics.com/en/paris-2024/sports/modern-pentathlon</td></tr><tr><td>Individual All-Around</td><td>rhythmic-gymnastics</td><td>Rhythmic Gymnastics</td><td>GRY</td><td>https://olympics.com/en/paris-2024/sports/rhythmic-gymnastics</td></tr><tr><td>Group All-Around</td><td>rhythmic-gymnastics</td><td>Rhythmic Gymnastics</td><td>GRY</td><td>https://olympics.com/en/paris-2024/sports/rhythmic-gymnastics</td></tr><tr><td>Women's Pair</td><td>rowing</td><td>Rowing</td><td>ROW</td><td>https://olympics.com/en/paris-2024/sports/rowing</td></tr><tr><td>Men's Pair</td><td>rowing</td><td>Rowing</td><td>ROW</td><td>https://olympics.com/en/paris-2024/sports/rowing</td></tr><tr><td>Women's Double Sculls</td><td>rowing</td><td>Rowing</td><td>ROW</td><td>https://olympics.com/en/paris-2024/sports/rowing</td></tr><tr><td>Men's Double Sculls</td><td>rowing</td><td>Rowing</td><td>ROW</td><td>https://olympics.com/en/paris-2024/sports/rowing</td></tr><tr><td>Women's Four</td><td>rowing</td><td>Rowing</td><td>ROW</td><td>https://olympics.com/en/paris-2024/sports/rowing</td></tr><tr><td>Men's Four</td><td>rowing</td><td>Rowing</td><td>ROW</td><td>https://olympics.com/en/paris-2024/sports/rowing</td></tr><tr><td>Women's Single Sculls</td><td>rowing</td><td>Rowing</td><td>ROW</td><td>https://olympics.com/en/paris-2024/sports/rowing</td></tr><tr><td>Men's Single Sculls</td><td>rowing</td><td>Rowing</td><td>ROW</td><td>https://olympics.com/en/paris-2024/sports/rowing</td></tr><tr><td>Lightweight Women's Double Sculls</td><td>rowing</td><td>Rowing</td><td>ROW</td><td>https://olympics.com/en/paris-2024/sports/rowing</td></tr><tr><td>Lightweight Men's Double Sculls</td><td>rowing</td><td>Rowing</td><td>ROW</td><td>https://olympics.com/en/paris-2024/sports/rowing</td></tr><tr><td>Women's Quadruple Sculls</td><td>rowing</td><td>Rowing</td><td>ROW</td><td>https://olympics.com/en/paris-2024/sports/rowing</td></tr><tr><td>Men's Quadruple Sculls</td><td>rowing</td><td>Rowing</td><td>ROW</td><td>https://olympics.com/en/paris-2024/sports/rowing</td></tr><tr><td>Women's Eight</td><td>rowing</td><td>Rowing</td><td>ROW</td><td>https://olympics.com/en/paris-2024/sports/rowing</td></tr><tr><td>Men's Eight</td><td>rowing</td><td>Rowing</td><td>ROW</td><td>https://olympics.com/en/paris-2024/sports/rowing</td></tr><tr><td>Men</td><td>rugby-sevens</td><td>Rugby Sevens</td><td>RU7</td><td>https://olympics.com/en/paris-2024/sports/rugby-sevens</td></tr><tr><td>Women</td><td>rugby-sevens</td><td>Rugby Sevens</td><td>RU7</td><td>https://olympics.com/en/paris-2024/sports/rugby-sevens</td></tr><tr><td>Men's Windsurfing</td><td>sailing</td><td>Sailing</td><td>SAL</td><td>https://olympics.com/en/paris-2024/sports/sailing</td></tr><tr><td>Men's Kite</td><td>sailing</td><td>Sailing</td><td>SAL</td><td>https://olympics.com/en/paris-2024/sports/sailing</td></tr><tr><td>Men's Dinghy</td><td>sailing</td><td>Sailing</td><td>SAL</td><td>https://olympics.com/en/paris-2024/sports/sailing</td></tr><tr><td>Men's Skiff</td><td>sailing</td><td>Sailing</td><td>SAL</td><td>https://olympics.com/en/paris-2024/sports/sailing</td></tr><tr><td>Women's Windsurfing</td><td>sailing</td><td>Sailing</td><td>SAL</td><td>https://olympics.com/en/paris-2024/sports/sailing</td></tr><tr><td>Women's Kite</td><td>sailing</td><td>Sailing</td><td>SAL</td><td>https://olympics.com/en/paris-2024/sports/sailing</td></tr><tr><td>Women's Dinghy</td><td>sailing</td><td>Sailing</td><td>SAL</td><td>https://olympics.com/en/paris-2024/sports/sailing</td></tr><tr><td>Women's Skiff</td><td>sailing</td><td>Sailing</td><td>SAL</td><td>https://olympics.com/en/paris-2024/sports/sailing</td></tr><tr><td>Mixed Dinghy</td><td>sailing</td><td>Sailing</td><td>SAL</td><td>https://olympics.com/en/paris-2024/sports/sailing</td></tr><tr><td>Mixed Multihull</td><td>sailing</td><td>Sailing</td><td>SAL</td><td>https://olympics.com/en/paris-2024/sports/sailing</td></tr><tr><td>10m Air Rifle Men</td><td>shooting</td><td>Shooting</td><td>SHO</td><td>https://olympics.com/en/paris-2024/sports/shooting</td></tr><tr><td>50m Rifle 3 Positions Men</td><td>shooting</td><td>Shooting</td><td>SHO</td><td>https://olympics.com/en/paris-2024/sports/shooting</td></tr><tr><td>10m Air Pistol Men</td><td>shooting</td><td>Shooting</td><td>SHO</td><td>https://olympics.com/en/paris-2024/sports/shooting</td></tr><tr><td>25m Rapid Fire Pistol Men</td><td>shooting</td><td>Shooting</td><td>SHO</td><td>https://olympics.com/en/paris-2024/sports/shooting</td></tr><tr><td>Trap Men</td><td>shooting</td><td>Shooting</td><td>SHO</td><td>https://olympics.com/en/paris-2024/sports/shooting</td></tr><tr><td>Skeet Men</td><td>shooting</td><td>Shooting</td><td>SHO</td><td>https://olympics.com/en/paris-2024/sports/shooting</td></tr><tr><td>10m Air Rifle Women</td><td>shooting</td><td>Shooting</td><td>SHO</td><td>https://olympics.com/en/paris-2024/sports/shooting</td></tr><tr><td>50m Rifle 3 Positions Women</td><td>shooting</td><td>Shooting</td><td>SHO</td><td>https://olympics.com/en/paris-2024/sports/shooting</td></tr><tr><td>10m Air Pistol Women</td><td>shooting</td><td>Shooting</td><td>SHO</td><td>https://olympics.com/en/paris-2024/sports/shooting</td></tr><tr><td>25m Pistol Women</td><td>shooting</td><td>Shooting</td><td>SHO</td><td>https://olympics.com/en/paris-2024/sports/shooting</td></tr><tr><td>Trap Women</td><td>shooting</td><td>Shooting</td><td>SHO</td><td>https://olympics.com/en/paris-2024/sports/shooting</td></tr><tr><td>Skeet Women</td><td>shooting</td><td>Shooting</td><td>SHO</td><td>https://olympics.com/en/paris-2024/sports/shooting</td></tr><tr><td>10m Air Rifle Mixed Team</td><td>shooting</td><td>Shooting</td><td>SHO</td><td>https://olympics.com/en/paris-2024/sports/shooting</td></tr><tr><td>10m Air Pistol Mixed Team</td><td>shooting</td><td>Shooting</td><td>SHO</td><td>https://olympics.com/en/paris-2024/sports/shooting</td></tr><tr><td>Skeet Mixed Team</td><td>shooting</td><td>Shooting</td><td>SHO</td><td>https://olympics.com/en/paris-2024/sports/shooting</td></tr><tr><td>Women's Street</td><td>skateboarding</td><td>Skateboarding</td><td>SKB</td><td>https://olympics.com/en/paris-2024/sports/skateboarding</td></tr><tr><td>Men's Street</td><td>skateboarding</td><td>Skateboarding</td><td>SKB</td><td>https://olympics.com/en/paris-2024/sports/skateboarding</td></tr><tr><td>Women's Park</td><td>skateboarding</td><td>Skateboarding</td><td>SKB</td><td>https://olympics.com/en/paris-2024/sports/skateboarding</td></tr><tr><td>Men's Park</td><td>skateboarding</td><td>Skateboarding</td><td>SKB</td><td>https://olympics.com/en/paris-2024/sports/skateboarding</td></tr><tr><td>Women's Boulder & Lead</td><td>sport-climbing</td><td>Sport Climbing</td><td>CLB</td><td>https://olympics.com/en/paris-2024/sports/sport-climbing</td></tr><tr><td>Women's Speed</td><td>sport-climbing</td><td>Sport Climbing</td><td>CLB</td><td>https://olympics.com/en/paris-2024/sports/sport-climbing</td></tr><tr><td>Men's Boulder & Lead</td><td>sport-climbing</td><td>Sport Climbing</td><td>CLB</td><td>https://olympics.com/en/paris-2024/sports/sport-climbing</td></tr><tr><td>Men's Speed</td><td>sport-climbing</td><td>Sport Climbing</td><td>CLB</td><td>https://olympics.com/en/paris-2024/sports/sport-climbing</td></tr><tr><td>Men</td><td>surfing</td><td>Surfing</td><td>SRF</td><td>https://olympics.com/en/paris-2024/sports/surfing</td></tr><tr><td>Women</td><td>surfing</td><td>Surfing</td><td>SRF</td><td>https://olympics.com/en/paris-2024/sports/surfing</td></tr><tr><td>Women's 50m Freestyle</td><td>swimming</td><td>Swimming</td><td>SWM</td><td>https://olympics.com/en/paris-2024/sports/swimming</td></tr><tr><td>Women's 100m Freestyle</td><td>swimming</td><td>Swimming</td><td>SWM</td><td>https://olympics.com/en/paris-2024/sports/swimming</td></tr><tr><td>Women's 200m Freestyle</td><td>swimming</td><td>Swimming</td><td>SWM</td><td>https://olympics.com/en/paris-2024/sports/swimming</td></tr><tr><td>Women's 400m Freestyle</td><td>swimming</td><td>Swimming</td><td>SWM</td><td>https://olympics.com/en/paris-2024/sports/swimming</td></tr><tr><td>Women's 800m Freestyle</td><td>swimming</td><td>Swimming</td><td>SWM</td><td>https://olympics.com/en/paris-2024/sports/swimming</td></tr><tr><td>Women's 1500m Freestyle</td><td>swimming</td><td>Swimming</td><td>SWM</td><td>https://olympics.com/en/paris-2024/sports/swimming</td></tr><tr><td>Women's 100m Backstroke</td><td>swimming</td><td>Swimming</td><td>SWM</td><td>https://olympics.com/en/paris-2024/sports/swimming</td></tr><tr><td>Women's 200m Backstroke</td><td>swimming</td><td>Swimming</td><td>SWM</td><td>https://olympics.com/en/paris-2024/sports/swimming</td></tr><tr><td>Women's 100m Breaststroke</td><td>swimming</td><td>Swimming</td><td>SWM</td><td>https://olympics.com/en/paris-2024/sports/swimming</td></tr><tr><td>Women's 200m Breaststroke</td><td>swimming</td><td>Swimming</td><td>SWM</td><td>https://olympics.com/en/paris-2024/sports/swimming</td></tr><tr><td>Women's 100m Butterfly</td><td>swimming</td><td>Swimming</td><td>SWM</td><td>https://olympics.com/en/paris-2024/sports/swimming</td></tr><tr><td>Women's 200m Butterfly</td><td>swimming</td><td>Swimming</td><td>SWM</td><td>https://olympics.com/en/paris-2024/sports/swimming</td></tr><tr><td>Women's 200m Individual Medley</td><td>swimming</td><td>Swimming</td><td>SWM</td><td>https://olympics.com/en/paris-2024/sports/swimming</td></tr><tr><td>Women's 400m Individual Medley</td><td>swimming</td><td>Swimming</td><td>SWM</td><td>https://olympics.com/en/paris-2024/sports/swimming</td></tr><tr><td>Women's 4 x 100m Freestyle Relay</td><td>swimming</td><td>Swimming</td><td>SWM</td><td>https://olympics.com/en/paris-2024/sports/swimming</td></tr><tr><td>Women's 4 x 200m Freestyle Relay</td><td>swimming</td><td>Swimming</td><td>SWM</td><td>https://olympics.com/en/paris-2024/sports/swimming</td></tr><tr><td>Women's 4 x 100m Medley Relay</td><td>swimming</td><td>Swimming</td><td>SWM</td><td>https://olympics.com/en/paris-2024/sports/swimming</td></tr><tr><td>Men's 50m Freestyle</td><td>swimming</td><td>Swimming</td><td>SWM</td><td>https://olympics.com/en/paris-2024/sports/swimming</td></tr><tr><td>Men's 100m Freestyle</td><td>swimming</td><td>Swimming</td><td>SWM</td><td>https://olympics.com/en/paris-2024/sports/swimming</td></tr><tr><td>Men's 200m Freestyle</td><td>swimming</td><td>Swimming</td><td>SWM</td><td>https://olympics.com/en/paris-2024/sports/swimming</td></tr><tr><td>Men's 400m Freestyle</td><td>swimming</td><td>Swimming</td><td>SWM</td><td>https://olympics.com/en/paris-2024/sports/swimming</td></tr><tr><td>Men's 800m Freestyle</td><td>swimming</td><td>Swimming</td><td>SWM</td><td>https://olympics.com/en/paris-2024/sports/swimming</td></tr><tr><td>Men's 1500m Freestyle</td><td>swimming</td><td>Swimming</td><td>SWM</td><td>https://olympics.com/en/paris-2024/sports/swimming</td></tr><tr><td>Men's 100m Backstroke</td><td>swimming</td><td>Swimming</td><td>SWM</td><td>https://olympics.com/en/paris-2024/sports/swimming</td></tr><tr><td>Men's 200m Backstroke</td><td>swimming</td><td>Swimming</td><td>SWM</td><td>https://olympics.com/en/paris-2024/sports/swimming</td></tr><tr><td>Men's 100m Breaststroke</td><td>swimming</td><td>Swimming</td><td>SWM</td><td>https://olympics.com/en/paris-2024/sports/swimming</td></tr><tr><td>Men's 200m Breaststroke</td><td>swimming</td><td>Swimming</td><td>SWM</td><td>https://olympics.com/en/paris-2024/sports/swimming</td></tr><tr><td>Men's 100m Butterfly</td><td>swimming</td><td>Swimming</td><td>SWM</td><td>https://olympics.com/en/paris-2024/sports/swimming</td></tr><tr><td>Men's 200m Butterfly</td><td>swimming</td><td>Swimming</td><td>SWM</td><td>https://olympics.com/en/paris-2024/sports/swimming</td></tr><tr><td>Men's 200m Individual Medley</td><td>swimming</td><td>Swimming</td><td>SWM</td><td>https://olympics.com/en/paris-2024/sports/swimming</td></tr><tr><td>Men's 400m Individual Medley</td><td>swimming</td><td>Swimming</td><td>SWM</td><td>https://olympics.com/en/paris-2024/sports/swimming</td></tr><tr><td>Men's 4 x 100m Freestyle Relay</td><td>swimming</td><td>Swimming</td><td>SWM</td><td>https://olympics.com/en/paris-2024/sports/swimming</td></tr><tr><td>Men's 4 x 200m Freestyle Relay</td><td>swimming</td><td>Swimming</td><td>SWM</td><td>https://olympics.com/en/paris-2024/sports/swimming</td></tr><tr><td>Men's 4 x 100m Medley Relay</td><td>swimming</td><td>Swimming</td><td>SWM</td><td>https://olympics.com/en/paris-2024/sports/swimming</td></tr><tr><td>Mixed 4 x 100m Medley Relay</td><td>swimming</td><td>Swimming</td><td>SWM</td><td>https://olympics.com/en/paris-2024/sports/swimming</td></tr><tr><td>Men's Singles</td><td>table-tennis</td><td>Table Tennis</td><td>TTE</td><td>https://olympics.com/en/paris-2024/sports/table-tennis</td></tr><tr><td>Women's Singles</td><td>table-tennis</td><td>Table Tennis</td><td>TTE</td><td>https://olympics.com/en/paris-2024/sports/table-tennis</td></tr><tr><td>Mixed Doubles</td><td>table-tennis</td><td>Table Tennis</td><td>TTE</td><td>https://olympics.com/en/paris-2024/sports/table-tennis</td></tr><tr><td>Men's Team</td><td>table-tennis</td><td>Table Tennis</td><td>TTE</td><td>https://olympics.com/en/paris-2024/sports/table-tennis</td></tr><tr><td>Women's Team</td><td>table-tennis</td><td>Table Tennis</td><td>TTE</td><td>https://olympics.com/en/paris-2024/sports/table-tennis</td></tr><tr><td>Men -58kg</td><td>taekwondo</td><td>Taekwondo</td><td>TKW</td><td>https://olympics.com/en/paris-2024/sports/taekwondo</td></tr><tr><td>Men -68kg</td><td>taekwondo</td><td>Taekwondo</td><td>TKW</td><td>https://olympics.com/en/paris-2024/sports/taekwondo</td></tr><tr><td>Men -80kg</td><td>taekwondo</td><td>Taekwondo</td><td>TKW</td><td>https://olympics.com/en/paris-2024/sports/taekwondo</td></tr><tr><td>Men +80kg</td><td>taekwondo</td><td>Taekwondo</td><td>TKW</td><td>https://olympics.com/en/paris-2024/sports/taekwondo</td></tr><tr><td>Women -49kg</td><td>taekwondo</td><td>Taekwondo</td><td>TKW</td><td>https://olympics.com/en/paris-2024/sports/taekwondo</td></tr><tr><td>Women -57kg</td><td>taekwondo</td><td>Taekwondo</td><td>TKW</td><td>https://olympics.com/en/paris-2024/sports/taekwondo</td></tr><tr><td>Women -67kg</td><td>taekwondo</td><td>Taekwondo</td><td>TKW</td><td>https://olympics.com/en/paris-2024/sports/taekwondo</td></tr><tr><td>Women +67kg</td><td>taekwondo</td><td>Taekwondo</td><td>TKW</td><td>https://olympics.com/en/paris-2024/sports/taekwondo</td></tr><tr><td>Men's Singles</td><td>tennis</td><td>Tennis</td><td>TEN</td><td>https://olympics.com/en/paris-2024/sports/tennis</td></tr><tr><td>Women's Singles</td><td>tennis</td><td>Tennis</td><td>TEN</td><td>https://olympics.com/en/paris-2024/sports/tennis</td></tr><tr><td>Men's Doubles</td><td>tennis</td><td>Tennis</td><td>TEN</td><td>https://olympics.com/en/paris-2024/sports/tennis</td></tr><tr><td>Women's Doubles</td><td>tennis</td><td>Tennis</td><td>TEN</td><td>https://olympics.com/en/paris-2024/sports/tennis</td></tr><tr><td>Mixed Doubles</td><td>tennis</td><td>Tennis</td><td>TEN</td><td>https://olympics.com/en/paris-2024/sports/tennis</td></tr><tr><td>Men</td><td>trampoline-gymnastics</td><td>Trampoline Gymnastics</td><td>GTR</td><td>https://olympics.com/en/paris-2024/sports/trampoline-gymnastics</td></tr><tr><td>Women</td><td>trampoline-gymnastics</td><td>Trampoline Gymnastics</td><td>GTR</td><td>https://olympics.com/en/paris-2024/sports/trampoline-gymnastics</td></tr><tr><td>Women's Individual</td><td>triathlon</td><td>Triathlon</td><td>TRI</td><td>https://olympics.com/en/paris-2024/sports/triathlon</td></tr><tr><td>Men's Individual</td><td>triathlon</td><td>Triathlon</td><td>TRI</td><td>https://olympics.com/en/paris-2024/sports/triathlon</td></tr><tr><td>Mixed Relay</td><td>triathlon</td><td>Triathlon</td><td>TRI</td><td>https://olympics.com/en/paris-2024/sports/triathlon</td></tr><tr><td>Men</td><td>volleyball</td><td>Volleyball</td><td>VVO</td><td>https://olympics.com/en/paris-2024/sports/volleyball</td></tr><tr><td>Women</td><td>volleyball</td><td>Volleyball</td><td>VVO</td><td>https://olympics.com/en/paris-2024/sports/volleyball</td></tr><tr><td>Men</td><td>water-polo</td><td>Water Polo</td><td>WPO</td><td>https://olympics.com/en/paris-2024/sports/water-polo</td></tr><tr><td>Women</td><td>water-polo</td><td>Water Polo</td><td>WPO</td><td>https://olympics.com/en/paris-2024/sports/water-polo</td></tr><tr><td>Women's 49kg</td><td>weightlifting</td><td>Weightlifting</td><td>WLF</td><td>https://olympics.com/en/paris-2024/sports/weightlifting</td></tr><tr><td>Women's 59kg</td><td>weightlifting</td><td>Weightlifting</td><td>WLF</td><td>https://olympics.com/en/paris-2024/sports/weightlifting</td></tr><tr><td>Women's 71kg</td><td>weightlifting</td><td>Weightlifting</td><td>WLF</td><td>https://olympics.com/en/paris-2024/sports/weightlifting</td></tr><tr><td>Women's 81kg</td><td>weightlifting</td><td>Weightlifting</td><td>WLF</td><td>https://olympics.com/en/paris-2024/sports/weightlifting</td></tr><tr><td>Women's +81kg</td><td>weightlifting</td><td>Weightlifting</td><td>WLF</td><td>https://olympics.com/en/paris-2024/sports/weightlifting</td></tr><tr><td>Men's 61kg</td><td>weightlifting</td><td>Weightlifting</td><td>WLF</td><td>https://olympics.com/en/paris-2024/sports/weightlifting</td></tr><tr><td>Men's 73kg</td><td>weightlifting</td><td>Weightlifting</td><td>WLF</td><td>https://olympics.com/en/paris-2024/sports/weightlifting</td></tr><tr><td>Men's 89kg</td><td>weightlifting</td><td>Weightlifting</td><td>WLF</td><td>https://olympics.com/en/paris-2024/sports/weightlifting</td></tr><tr><td>Men's 102kg</td><td>weightlifting</td><td>Weightlifting</td><td>WLF</td><td>https://olympics.com/en/paris-2024/sports/weightlifting</td></tr><tr><td>Men's +102kg</td><td>weightlifting</td><td>Weightlifting</td><td>WLF</td><td>https://olympics.com/en/paris-2024/sports/weightlifting</td></tr><tr><td>Men's Greco-Roman 60kg</td><td>wrestling</td><td>Wrestling</td><td>WRE</td><td>https://olympics.com/en/paris-2024/sports/wrestling</td></tr><tr><td>Men's Greco-Roman 67kg</td><td>wrestling</td><td>Wrestling</td><td>WRE</td><td>https://olympics.com/en/paris-2024/sports/wrestling</td></tr><tr><td>Men's Greco-Roman 77kg</td><td>wrestling</td><td>Wrestling</td><td>WRE</td><td>https://olympics.com/en/paris-2024/sports/wrestling</td></tr><tr><td>Men's Greco-Roman 87kg</td><td>wrestling</td><td>Wrestling</td><td>WRE</td><td>https://olympics.com/en/paris-2024/sports/wrestling</td></tr><tr><td>Men's Greco-Roman 97kg</td><td>wrestling</td><td>Wrestling</td><td>WRE</td><td>https://olympics.com/en/paris-2024/sports/wrestling</td></tr><tr><td>Men's Greco-Roman 130kg</td><td>wrestling</td><td>Wrestling</td><td>WRE</td><td>https://olympics.com/en/paris-2024/sports/wrestling</td></tr><tr><td>Women's Freestyle 50kg</td><td>wrestling</td><td>Wrestling</td><td>WRE</td><td>https://olympics.com/en/paris-2024/sports/wrestling</td></tr><tr><td>Women's Freestyle 53kg</td><td>wrestling</td><td>Wrestling</td><td>WRE</td><td>https://olympics.com/en/paris-2024/sports/wrestling</td></tr><tr><td>Women's Freestyle 57kg</td><td>wrestling</td><td>Wrestling</td><td>WRE</td><td>https://olympics.com/en/paris-2024/sports/wrestling</td></tr><tr><td>Women's Freestyle 62kg</td><td>wrestling</td><td>Wrestling</td><td>WRE</td><td>https://olympics.com/en/paris-2024/sports/wrestling</td></tr><tr><td>Women's Freestyle 68kg</td><td>wrestling</td><td>Wrestling</td><td>WRE</td><td>https://olympics.com/en/paris-2024/sports/wrestling</td></tr><tr><td>Women's Freestyle 76kg</td><td>wrestling</td><td>Wrestling</td><td>WRE</td><td>https://olympics.com/en/paris-2024/sports/wrestling</td></tr><tr><td>Men's Freestyle 57kg</td><td>wrestling</td><td>Wrestling</td><td>WRE</td><td>https://olympics.com/en/paris-2024/sports/wrestling</td></tr><tr><td>Men's Freestyle 65kg</td><td>wrestling</td><td>Wrestling</td><td>WRE</td><td>https://olympics.com/en/paris-2024/sports/wrestling</td></tr><tr><td>Men's Freestyle 74kg</td><td>wrestling</td><td>Wrestling</td><td>WRE</td><td>https://olympics.com/en/paris-2024/sports/wrestling</td></tr><tr><td>Men's Freestyle 86kg</td><td>wrestling</td><td>Wrestling</td><td>WRE</td><td>https://olympics.com/en/paris-2024/sports/wrestling</td></tr><tr><td>Men's Freestyle 97kg</td><td>wrestling</td><td>Wrestling</td><td>WRE</td><td>https://olympics.com/en/paris-2024/sports/wrestling</td></tr><tr><td>Men's Freestyle 125kg</td><td>wrestling</td><td>Wrestling</td><td>WRE</td><td>https://olympics.com/en/paris-2024/sports/wrestling</td></tr></tbody></table></div>"
      ]
     },
     "metadata": {
      "application/vnd.databricks.v1+output": {
       "addedWidgets": {},
       "aggData": [],
       "aggError": "",
       "aggOverflow": false,
       "aggSchema": [],
       "aggSeriesLimitReached": false,
       "aggType": "",
       "arguments": {},
       "columnCustomDisplayInfos": {},
       "data": [
        [
         "Men's Individual",
         "archery",
         "Archery",
         "ARC",
         "https://olympics.com/en/paris-2024/sports/archery"
        ],
        [
         "Women's Individual",
         "archery",
         "Archery",
         "ARC",
         "https://olympics.com/en/paris-2024/sports/archery"
        ],
        [
         "Men's Team",
         "archery",
         "Archery",
         "ARC",
         "https://olympics.com/en/paris-2024/sports/archery"
        ],
        [
         "Women's Team",
         "archery",
         "Archery",
         "ARC",
         "https://olympics.com/en/paris-2024/sports/archery"
        ],
        [
         "Mixed Team",
         "archery",
         "Archery",
         "ARC",
         "https://olympics.com/en/paris-2024/sports/archery"
        ],
        [
         "Men's Team",
         "artistic-gymnastics",
         "Artistic Gymnastics",
         "GAR",
         "https://olympics.com/en/paris-2024/sports/artistic-gymnastics"
        ],
        [
         "Men's All-Around",
         "artistic-gymnastics",
         "Artistic Gymnastics",
         "GAR",
         "https://olympics.com/en/paris-2024/sports/artistic-gymnastics"
        ],
        [
         "Men's Floor Exercise",
         "artistic-gymnastics",
         "Artistic Gymnastics",
         "GAR",
         "https://olympics.com/en/paris-2024/sports/artistic-gymnastics"
        ],
        [
         "Men's Pommel Horse",
         "artistic-gymnastics",
         "Artistic Gymnastics",
         "GAR",
         "https://olympics.com/en/paris-2024/sports/artistic-gymnastics"
        ],
        [
         "Men's Rings",
         "artistic-gymnastics",
         "Artistic Gymnastics",
         "GAR",
         "https://olympics.com/en/paris-2024/sports/artistic-gymnastics"
        ],
        [
         "Men's Vault",
         "artistic-gymnastics",
         "Artistic Gymnastics",
         "GAR",
         "https://olympics.com/en/paris-2024/sports/artistic-gymnastics"
        ],
        [
         "Men's Parallel Bars",
         "artistic-gymnastics",
         "Artistic Gymnastics",
         "GAR",
         "https://olympics.com/en/paris-2024/sports/artistic-gymnastics"
        ],
        [
         "Men's Horizontal Bar",
         "artistic-gymnastics",
         "Artistic Gymnastics",
         "GAR",
         "https://olympics.com/en/paris-2024/sports/artistic-gymnastics"
        ],
        [
         "Women's Team",
         "artistic-gymnastics",
         "Artistic Gymnastics",
         "GAR",
         "https://olympics.com/en/paris-2024/sports/artistic-gymnastics"
        ],
        [
         "Women's All-Around",
         "artistic-gymnastics",
         "Artistic Gymnastics",
         "GAR",
         "https://olympics.com/en/paris-2024/sports/artistic-gymnastics"
        ],
        [
         "Women's Vault",
         "artistic-gymnastics",
         "Artistic Gymnastics",
         "GAR",
         "https://olympics.com/en/paris-2024/sports/artistic-gymnastics"
        ],
        [
         "Women's Uneven Bars",
         "artistic-gymnastics",
         "Artistic Gymnastics",
         "GAR",
         "https://olympics.com/en/paris-2024/sports/artistic-gymnastics"
        ],
        [
         "Women's Balance Beam",
         "artistic-gymnastics",
         "Artistic Gymnastics",
         "GAR",
         "https://olympics.com/en/paris-2024/sports/artistic-gymnastics"
        ],
        [
         "Women's Floor Exercise",
         "artistic-gymnastics",
         "Artistic Gymnastics",
         "GAR",
         "https://olympics.com/en/paris-2024/sports/artistic-gymnastics"
        ],
        [
         "Duet",
         "artistic-swimming",
         "Artistic Swimming",
         "SWA",
         "https://olympics.com/en/paris-2024/sports/artistic-swimming"
        ],
        [
         "Team",
         "artistic-swimming",
         "Artistic Swimming",
         "SWA",
         "https://olympics.com/en/paris-2024/sports/artistic-swimming"
        ],
        [
         "Men's 100m",
         "athletics",
         "Athletics",
         "ATH",
         "https://olympics.com/en/paris-2024/sports/athletics"
        ],
        [
         "Men's 200m",
         "athletics",
         "Athletics",
         "ATH",
         "https://olympics.com/en/paris-2024/sports/athletics"
        ],
        [
         "Men's 400m",
         "athletics",
         "Athletics",
         "ATH",
         "https://olympics.com/en/paris-2024/sports/athletics"
        ],
        [
         "Men's 800m",
         "athletics",
         "Athletics",
         "ATH",
         "https://olympics.com/en/paris-2024/sports/athletics"
        ],
        [
         "Men's 1500m",
         "athletics",
         "Athletics",
         "ATH",
         "https://olympics.com/en/paris-2024/sports/athletics"
        ],
        [
         "Men's 5000m",
         "athletics",
         "Athletics",
         "ATH",
         "https://olympics.com/en/paris-2024/sports/athletics"
        ],
        [
         "Men's 10,000m",
         "athletics",
         "Athletics",
         "ATH",
         "https://olympics.com/en/paris-2024/sports/athletics"
        ],
        [
         "Men's Marathon",
         "athletics",
         "Athletics",
         "ATH",
         "https://olympics.com/en/paris-2024/sports/athletics"
        ],
        [
         "Men's 3000m Steeplechase",
         "athletics",
         "Athletics",
         "ATH",
         "https://olympics.com/en/paris-2024/sports/athletics"
        ],
        [
         "Men's 110m Hurdles",
         "athletics",
         "Athletics",
         "ATH",
         "https://olympics.com/en/paris-2024/sports/athletics"
        ],
        [
         "Men's 400m Hurdles",
         "athletics",
         "Athletics",
         "ATH",
         "https://olympics.com/en/paris-2024/sports/athletics"
        ],
        [
         "Men's High Jump",
         "athletics",
         "Athletics",
         "ATH",
         "https://olympics.com/en/paris-2024/sports/athletics"
        ],
        [
         "Men's Pole Vault",
         "athletics",
         "Athletics",
         "ATH",
         "https://olympics.com/en/paris-2024/sports/athletics"
        ],
        [
         "Men's Long Jump",
         "athletics",
         "Athletics",
         "ATH",
         "https://olympics.com/en/paris-2024/sports/athletics"
        ],
        [
         "Men's Triple Jump",
         "athletics",
         "Athletics",
         "ATH",
         "https://olympics.com/en/paris-2024/sports/athletics"
        ],
        [
         "Men's Shot Put",
         "athletics",
         "Athletics",
         "ATH",
         "https://olympics.com/en/paris-2024/sports/athletics"
        ],
        [
         "Men's Discus Throw",
         "athletics",
         "Athletics",
         "ATH",
         "https://olympics.com/en/paris-2024/sports/athletics"
        ],
        [
         "Men's Hammer Throw",
         "athletics",
         "Athletics",
         "ATH",
         "https://olympics.com/en/paris-2024/sports/athletics"
        ],
        [
         "Men's Javelin Throw",
         "athletics",
         "Athletics",
         "ATH",
         "https://olympics.com/en/paris-2024/sports/athletics"
        ],
        [
         "Men's Decathlon",
         "athletics",
         "Athletics",
         "ATH",
         "https://olympics.com/en/paris-2024/sports/athletics"
        ],
        [
         "Men's 20km Race Walk",
         "athletics",
         "Athletics",
         "ATH",
         "https://olympics.com/en/paris-2024/sports/athletics"
        ],
        [
         "Men's 4 x 100m Relay",
         "athletics",
         "Athletics",
         "ATH",
         "https://olympics.com/en/paris-2024/sports/athletics"
        ],
        [
         "Men's 4 x 400m Relay",
         "athletics",
         "Athletics",
         "ATH",
         "https://olympics.com/en/paris-2024/sports/athletics"
        ],
        [
         "Women's 100m",
         "athletics",
         "Athletics",
         "ATH",
         "https://olympics.com/en/paris-2024/sports/athletics"
        ],
        [
         "Women's 200m",
         "athletics",
         "Athletics",
         "ATH",
         "https://olympics.com/en/paris-2024/sports/athletics"
        ],
        [
         "Women's 400m",
         "athletics",
         "Athletics",
         "ATH",
         "https://olympics.com/en/paris-2024/sports/athletics"
        ],
        [
         "Women's 800m",
         "athletics",
         "Athletics",
         "ATH",
         "https://olympics.com/en/paris-2024/sports/athletics"
        ],
        [
         "Women's 1500m",
         "athletics",
         "Athletics",
         "ATH",
         "https://olympics.com/en/paris-2024/sports/athletics"
        ],
        [
         "Women's 5000m",
         "athletics",
         "Athletics",
         "ATH",
         "https://olympics.com/en/paris-2024/sports/athletics"
        ],
        [
         "Women's 10,000m",
         "athletics",
         "Athletics",
         "ATH",
         "https://olympics.com/en/paris-2024/sports/athletics"
        ],
        [
         "Women's Marathon",
         "athletics",
         "Athletics",
         "ATH",
         "https://olympics.com/en/paris-2024/sports/athletics"
        ],
        [
         "Women's 3000m Steeplechase",
         "athletics",
         "Athletics",
         "ATH",
         "https://olympics.com/en/paris-2024/sports/athletics"
        ],
        [
         "Women's 100m Hurdles",
         "athletics",
         "Athletics",
         "ATH",
         "https://olympics.com/en/paris-2024/sports/athletics"
        ],
        [
         "Women's 400m Hurdles",
         "athletics",
         "Athletics",
         "ATH",
         "https://olympics.com/en/paris-2024/sports/athletics"
        ],
        [
         "Women's High Jump",
         "athletics",
         "Athletics",
         "ATH",
         "https://olympics.com/en/paris-2024/sports/athletics"
        ],
        [
         "Women's Pole Vault",
         "athletics",
         "Athletics",
         "ATH",
         "https://olympics.com/en/paris-2024/sports/athletics"
        ],
        [
         "Women's Long Jump",
         "athletics",
         "Athletics",
         "ATH",
         "https://olympics.com/en/paris-2024/sports/athletics"
        ],
        [
         "Women's Triple Jump",
         "athletics",
         "Athletics",
         "ATH",
         "https://olympics.com/en/paris-2024/sports/athletics"
        ],
        [
         "Women's Shot Put",
         "athletics",
         "Athletics",
         "ATH",
         "https://olympics.com/en/paris-2024/sports/athletics"
        ],
        [
         "Women's Discus Throw",
         "athletics",
         "Athletics",
         "ATH",
         "https://olympics.com/en/paris-2024/sports/athletics"
        ],
        [
         "Women's Hammer Throw",
         "athletics",
         "Athletics",
         "ATH",
         "https://olympics.com/en/paris-2024/sports/athletics"
        ],
        [
         "Women's Javelin Throw",
         "athletics",
         "Athletics",
         "ATH",
         "https://olympics.com/en/paris-2024/sports/athletics"
        ],
        [
         "Women's Heptathlon",
         "athletics",
         "Athletics",
         "ATH",
         "https://olympics.com/en/paris-2024/sports/athletics"
        ],
        [
         "Women's 20km Race Walk",
         "athletics",
         "Athletics",
         "ATH",
         "https://olympics.com/en/paris-2024/sports/athletics"
        ],
        [
         "Women's 4 x 100m Relay",
         "athletics",
         "Athletics",
         "ATH",
         "https://olympics.com/en/paris-2024/sports/athletics"
        ],
        [
         "Women's 4 x 400m Relay",
         "athletics",
         "Athletics",
         "ATH",
         "https://olympics.com/en/paris-2024/sports/athletics"
        ],
        [
         "4 x 400m Relay Mixed",
         "athletics",
         "Athletics",
         "ATH",
         "https://olympics.com/en/paris-2024/sports/athletics"
        ],
        [
         "Marathon Race Walk Relay Mixed",
         "athletics",
         "Athletics",
         "ATH",
         "https://olympics.com/en/paris-2024/sports/athletics"
        ],
        [
         "Men's Singles",
         "badminton",
         "Badminton",
         "BDM",
         "https://olympics.com/en/paris-2024/sports/badminton"
        ],
        [
         "Women's Singles",
         "badminton",
         "Badminton",
         "BDM",
         "https://olympics.com/en/paris-2024/sports/badminton"
        ],
        [
         "Men's Doubles",
         "badminton",
         "Badminton",
         "BDM",
         "https://olympics.com/en/paris-2024/sports/badminton"
        ],
        [
         "Women's Doubles",
         "badminton",
         "Badminton",
         "BDM",
         "https://olympics.com/en/paris-2024/sports/badminton"
        ],
        [
         "Mixed Doubles",
         "badminton",
         "Badminton",
         "BDM",
         "https://olympics.com/en/paris-2024/sports/badminton"
        ],
        [
         "Men",
         "basketball",
         "Basketball",
         "BKB",
         "https://olympics.com/en/paris-2024/sports/basketball"
        ],
        [
         "Women",
         "basketball",
         "Basketball",
         "BKB",
         "https://olympics.com/en/paris-2024/sports/basketball"
        ],
        [
         "Men",
         "3x3-basketball",
         "3x3 Basketball",
         "BK3",
         "https://olympics.com/en/paris-2024/sports/3x3-basketball"
        ],
        [
         "Women",
         "3x3-basketball",
         "3x3 Basketball",
         "BK3",
         "https://olympics.com/en/paris-2024/sports/3x3-basketball"
        ],
        [
         "Men",
         "beach-volleyball",
         "Beach Volleyball",
         "VBV",
         "https://olympics.com/en/paris-2024/sports/beach-volleyball"
        ],
        [
         "Women",
         "beach-volleyball",
         "Beach Volleyball",
         "VBV",
         "https://olympics.com/en/paris-2024/sports/beach-volleyball"
        ],
        [
         "Men's 51kg",
         "boxing",
         "Boxing",
         "BOX",
         "https://olympics.com/en/paris-2024/sports/boxing"
        ],
        [
         "Men's 57kg",
         "boxing",
         "Boxing",
         "BOX",
         "https://olympics.com/en/paris-2024/sports/boxing"
        ],
        [
         "Men's 63.5kg",
         "boxing",
         "Boxing",
         "BOX",
         "https://olympics.com/en/paris-2024/sports/boxing"
        ],
        [
         "Men's 71kg",
         "boxing",
         "Boxing",
         "BOX",
         "https://olympics.com/en/paris-2024/sports/boxing"
        ],
        [
         "Men's 80kg",
         "boxing",
         "Boxing",
         "BOX",
         "https://olympics.com/en/paris-2024/sports/boxing"
        ],
        [
         "Men's 92kg",
         "boxing",
         "Boxing",
         "BOX",
         "https://olympics.com/en/paris-2024/sports/boxing"
        ],
        [
         "Men's +92kg",
         "boxing",
         "Boxing",
         "BOX",
         "https://olympics.com/en/paris-2024/sports/boxing"
        ],
        [
         "Women's 50kg",
         "boxing",
         "Boxing",
         "BOX",
         "https://olympics.com/en/paris-2024/sports/boxing"
        ],
        [
         "Women's 54kg",
         "boxing",
         "Boxing",
         "BOX",
         "https://olympics.com/en/paris-2024/sports/boxing"
        ],
        [
         "Women's 57kg",
         "boxing",
         "Boxing",
         "BOX",
         "https://olympics.com/en/paris-2024/sports/boxing"
        ],
        [
         "Women's 60kg",
         "boxing",
         "Boxing",
         "BOX",
         "https://olympics.com/en/paris-2024/sports/boxing"
        ],
        [
         "Women's 66kg",
         "boxing",
         "Boxing",
         "BOX",
         "https://olympics.com/en/paris-2024/sports/boxing"
        ],
        [
         "Women's 75kg",
         "boxing",
         "Boxing",
         "BOX",
         "https://olympics.com/en/paris-2024/sports/boxing"
        ],
        [
         "B-Boys",
         "breaking",
         "Breaking",
         "BKG",
         "https://olympics.com/en/paris-2024/sports/breaking"
        ],
        [
         "B-Girls",
         "breaking",
         "Breaking",
         "BKG",
         "https://olympics.com/en/paris-2024/sports/breaking"
        ],
        [
         "Men's Kayak Single",
         "canoe-kayak-slalom",
         "Canoe Slalom",
         "CSL",
         "https://olympics.com/en/paris-2024/sports/canoe-kayak-slalom"
        ],
        [
         "Women's Kayak Single",
         "canoe-kayak-slalom",
         "Canoe Slalom",
         "CSL",
         "https://olympics.com/en/paris-2024/sports/canoe-kayak-slalom"
        ],
        [
         "Men's Canoe Single",
         "canoe-kayak-slalom",
         "Canoe Slalom",
         "CSL",
         "https://olympics.com/en/paris-2024/sports/canoe-kayak-slalom"
        ],
        [
         "Women's Canoe Single",
         "canoe-kayak-slalom",
         "Canoe Slalom",
         "CSL",
         "https://olympics.com/en/paris-2024/sports/canoe-kayak-slalom"
        ],
        [
         "Men's Kayak Cross",
         "canoe-kayak-slalom",
         "Canoe Slalom",
         "CSL",
         "https://olympics.com/en/paris-2024/sports/canoe-kayak-slalom"
        ],
        [
         "Women's Kayak Cross",
         "canoe-kayak-slalom",
         "Canoe Slalom",
         "CSL",
         "https://olympics.com/en/paris-2024/sports/canoe-kayak-slalom"
        ],
        [
         "Men's Kayak Single 1000m",
         "canoe-kayak-flatwater",
         "Canoe Sprint",
         "CSP",
         "https://olympics.com/en/paris-2024/sports/canoe-kayak-flatwater"
        ],
        [
         "Men's Kayak Double 500m",
         "canoe-kayak-flatwater",
         "Canoe Sprint",
         "CSP",
         "https://olympics.com/en/paris-2024/sports/canoe-kayak-flatwater"
        ],
        [
         "Men's Kayak Four 500m",
         "canoe-kayak-flatwater",
         "Canoe Sprint",
         "CSP",
         "https://olympics.com/en/paris-2024/sports/canoe-kayak-flatwater"
        ],
        [
         "Men's Canoe Single 1000m",
         "canoe-kayak-flatwater",
         "Canoe Sprint",
         "CSP",
         "https://olympics.com/en/paris-2024/sports/canoe-kayak-flatwater"
        ],
        [
         "Men's Canoe Double 500m",
         "canoe-kayak-flatwater",
         "Canoe Sprint",
         "CSP",
         "https://olympics.com/en/paris-2024/sports/canoe-kayak-flatwater"
        ],
        [
         "Women's Kayak Single 500m",
         "canoe-kayak-flatwater",
         "Canoe Sprint",
         "CSP",
         "https://olympics.com/en/paris-2024/sports/canoe-kayak-flatwater"
        ],
        [
         "Women's Kayak Double 500m",
         "canoe-kayak-flatwater",
         "Canoe Sprint",
         "CSP",
         "https://olympics.com/en/paris-2024/sports/canoe-kayak-flatwater"
        ],
        [
         "Women's Kayak Four 500m",
         "canoe-kayak-flatwater",
         "Canoe Sprint",
         "CSP",
         "https://olympics.com/en/paris-2024/sports/canoe-kayak-flatwater"
        ],
        [
         "Women's Canoe Single 200m",
         "canoe-kayak-flatwater",
         "Canoe Sprint",
         "CSP",
         "https://olympics.com/en/paris-2024/sports/canoe-kayak-flatwater"
        ],
        [
         "Women's Canoe Double 500m",
         "canoe-kayak-flatwater",
         "Canoe Sprint",
         "CSP",
         "https://olympics.com/en/paris-2024/sports/canoe-kayak-flatwater"
        ],
        [
         "Women's Park",
         "cycling-bmx-freestyle",
         "Cycling BMX Freestyle",
         "BMF",
         "https://olympics.com/en/paris-2024/sports/cycling-bmx-freestyle"
        ],
        [
         "Men's Park",
         "cycling-bmx-freestyle",
         "Cycling BMX Freestyle",
         "BMF",
         "https://olympics.com/en/paris-2024/sports/cycling-bmx-freestyle"
        ],
        [
         "Women",
         "cycling-bmx-racing",
         "Cycling BMX Racing",
         "BMX",
         "https://olympics.com/en/paris-2024/sports/cycling-bmx-racing"
        ],
        [
         "Men",
         "cycling-bmx-racing",
         "Cycling BMX Racing",
         "BMX",
         "https://olympics.com/en/paris-2024/sports/cycling-bmx-racing"
        ],
        [
         "Men's Cross-country",
         "cycling-mountain-bike",
         "Cycling Mountain Bike",
         "MTB",
         "https://olympics.com/en/paris-2024/sports/cycling-mountain-bike"
        ],
        [
         "Women's Cross-country",
         "cycling-mountain-bike",
         "Cycling Mountain Bike",
         "MTB",
         "https://olympics.com/en/paris-2024/sports/cycling-mountain-bike"
        ],
        [
         "Men's Road Race",
         "cycling-road",
         "Cycling Road",
         "CRD",
         "https://olympics.com/en/paris-2024/sports/cycling-road"
        ],
        [
         "Women's Road Race",
         "cycling-road",
         "Cycling Road",
         "CRD",
         "https://olympics.com/en/paris-2024/sports/cycling-road"
        ],
        [
         "Men's Individual Time Trial",
         "cycling-road",
         "Cycling Road",
         "CRD",
         "https://olympics.com/en/paris-2024/sports/cycling-road"
        ],
        [
         "Women's Individual Time Trial",
         "cycling-road",
         "Cycling Road",
         "CRD",
         "https://olympics.com/en/paris-2024/sports/cycling-road"
        ],
        [
         "Men's Team Sprint",
         "cycling-track",
         "Cycling Track",
         "CTR",
         "https://olympics.com/en/paris-2024/sports/cycling-track"
        ],
        [
         "Men's Sprint",
         "cycling-track",
         "Cycling Track",
         "CTR",
         "https://olympics.com/en/paris-2024/sports/cycling-track"
        ],
        [
         "Men's Keirin",
         "cycling-track",
         "Cycling Track",
         "CTR",
         "https://olympics.com/en/paris-2024/sports/cycling-track"
        ],
        [
         "Men's Team Pursuit",
         "cycling-track",
         "Cycling Track",
         "CTR",
         "https://olympics.com/en/paris-2024/sports/cycling-track"
        ],
        [
         "Men's Omnium",
         "cycling-track",
         "Cycling Track",
         "CTR",
         "https://olympics.com/en/paris-2024/sports/cycling-track"
        ],
        [
         "Men's Madison",
         "cycling-track",
         "Cycling Track",
         "CTR",
         "https://olympics.com/en/paris-2024/sports/cycling-track"
        ],
        [
         "Women's Team Sprint",
         "cycling-track",
         "Cycling Track",
         "CTR",
         "https://olympics.com/en/paris-2024/sports/cycling-track"
        ],
        [
         "Women's Sprint",
         "cycling-track",
         "Cycling Track",
         "CTR",
         "https://olympics.com/en/paris-2024/sports/cycling-track"
        ],
        [
         "Women's Keirin",
         "cycling-track",
         "Cycling Track",
         "CTR",
         "https://olympics.com/en/paris-2024/sports/cycling-track"
        ],
        [
         "Women's Team Pursuit",
         "cycling-track",
         "Cycling Track",
         "CTR",
         "https://olympics.com/en/paris-2024/sports/cycling-track"
        ],
        [
         "Women's Omnium",
         "cycling-track",
         "Cycling Track",
         "CTR",
         "https://olympics.com/en/paris-2024/sports/cycling-track"
        ],
        [
         "Women's Madison",
         "cycling-track",
         "Cycling Track",
         "CTR",
         "https://olympics.com/en/paris-2024/sports/cycling-track"
        ],
        [
         "Women's 3m Springboard",
         "diving",
         "Diving",
         "DIV",
         "https://olympics.com/en/paris-2024/sports/diving"
        ],
        [
         "Women's 10m Platform",
         "diving",
         "Diving",
         "DIV",
         "https://olympics.com/en/paris-2024/sports/diving"
        ],
        [
         "Women's Synchronised 3m Springboard",
         "diving",
         "Diving",
         "DIV",
         "https://olympics.com/en/paris-2024/sports/diving"
        ],
        [
         "Women's Synchronised 10m Platform",
         "diving",
         "Diving",
         "DIV",
         "https://olympics.com/en/paris-2024/sports/diving"
        ],
        [
         "Men's 3m Springboard",
         "diving",
         "Diving",
         "DIV",
         "https://olympics.com/en/paris-2024/sports/diving"
        ],
        [
         "Men's 10m Platform",
         "diving",
         "Diving",
         "DIV",
         "https://olympics.com/en/paris-2024/sports/diving"
        ],
        [
         "Men's Synchronised 3m Springboard",
         "diving",
         "Diving",
         "DIV",
         "https://olympics.com/en/paris-2024/sports/diving"
        ],
        [
         "Men's Synchronised 10m Platform",
         "diving",
         "Diving",
         "DIV",
         "https://olympics.com/en/paris-2024/sports/diving"
        ],
        [
         "Eventing Team",
         "equestrian",
         "Equestrian",
         "EQU",
         "https://olympics.com/en/paris-2024/sports/equestrian"
        ],
        [
         "Eventing Individual",
         "equestrian",
         "Equestrian",
         "EQU",
         "https://olympics.com/en/paris-2024/sports/equestrian"
        ],
        [
         "Dressage Team",
         "equestrian",
         "Equestrian",
         "EQU",
         "https://olympics.com/en/paris-2024/sports/equestrian"
        ],
        [
         "Dressage Individual",
         "equestrian",
         "Equestrian",
         "EQU",
         "https://olympics.com/en/paris-2024/sports/equestrian"
        ],
        [
         "Jumping Team",
         "equestrian",
         "Equestrian",
         "EQU",
         "https://olympics.com/en/paris-2024/sports/equestrian"
        ],
        [
         "Jumping Individual",
         "equestrian",
         "Equestrian",
         "EQU",
         "https://olympics.com/en/paris-2024/sports/equestrian"
        ],
        [
         "Women's Épée Individual",
         "fencing",
         "Fencing",
         "FEN",
         "https://olympics.com/en/paris-2024/sports/fencing"
        ],
        [
         "Women's Foil Individual",
         "fencing",
         "Fencing",
         "FEN",
         "https://olympics.com/en/paris-2024/sports/fencing"
        ],
        [
         "Women's Sabre Individual",
         "fencing",
         "Fencing",
         "FEN",
         "https://olympics.com/en/paris-2024/sports/fencing"
        ],
        [
         "Men's Épée Individual",
         "fencing",
         "Fencing",
         "FEN",
         "https://olympics.com/en/paris-2024/sports/fencing"
        ],
        [
         "Men's Foil Individual",
         "fencing",
         "Fencing",
         "FEN",
         "https://olympics.com/en/paris-2024/sports/fencing"
        ],
        [
         "Men's Sabre Individual",
         "fencing",
         "Fencing",
         "FEN",
         "https://olympics.com/en/paris-2024/sports/fencing"
        ],
        [
         "Women's Épée Team",
         "fencing",
         "Fencing",
         "FEN",
         "https://olympics.com/en/paris-2024/sports/fencing"
        ],
        [
         "Women's Foil Team",
         "fencing",
         "Fencing",
         "FEN",
         "https://olympics.com/en/paris-2024/sports/fencing"
        ],
        [
         "Women's Sabre Team",
         "fencing",
         "Fencing",
         "FEN",
         "https://olympics.com/en/paris-2024/sports/fencing"
        ],
        [
         "Men's Épée Team",
         "fencing",
         "Fencing",
         "FEN",
         "https://olympics.com/en/paris-2024/sports/fencing"
        ],
        [
         "Men's Foil Team",
         "fencing",
         "Fencing",
         "FEN",
         "https://olympics.com/en/paris-2024/sports/fencing"
        ],
        [
         "Men's Sabre Team",
         "fencing",
         "Fencing",
         "FEN",
         "https://olympics.com/en/paris-2024/sports/fencing"
        ],
        [
         "Men",
         "football",
         "Football",
         "FBL",
         "https://olympics.com/en/paris-2024/sports/football"
        ],
        [
         "Women",
         "football",
         "Football",
         "FBL",
         "https://olympics.com/en/paris-2024/sports/football"
        ],
        [
         "Men's Individual Stroke Play",
         "golf",
         "Golf",
         "GLF",
         "https://olympics.com/en/paris-2024/sports/golf"
        ],
        [
         "Women's Individual Stroke Play",
         "golf",
         "Golf",
         "GLF",
         "https://olympics.com/en/paris-2024/sports/golf"
        ],
        [
         "Men",
         "handball",
         "Handball",
         "HBL",
         "https://olympics.com/en/paris-2024/sports/handball"
        ],
        [
         "Women",
         "handball",
         "Handball",
         "HBL",
         "https://olympics.com/en/paris-2024/sports/handball"
        ],
        [
         "Men",
         "hockey",
         "Hockey",
         "HOC",
         "https://olympics.com/en/paris-2024/sports/hockey"
        ],
        [
         "Women",
         "hockey",
         "Hockey",
         "HOC",
         "https://olympics.com/en/paris-2024/sports/hockey"
        ],
        [
         "Women -48 kg",
         "judo",
         "Judo",
         "JUD",
         "https://olympics.com/en/paris-2024/sports/judo"
        ],
        [
         "Women -52 kg",
         "judo",
         "Judo",
         "JUD",
         "https://olympics.com/en/paris-2024/sports/judo"
        ],
        [
         "Women -57 kg",
         "judo",
         "Judo",
         "JUD",
         "https://olympics.com/en/paris-2024/sports/judo"
        ],
        [
         "Women -63 kg",
         "judo",
         "Judo",
         "JUD",
         "https://olympics.com/en/paris-2024/sports/judo"
        ],
        [
         "Women -70 kg",
         "judo",
         "Judo",
         "JUD",
         "https://olympics.com/en/paris-2024/sports/judo"
        ],
        [
         "Women -78 kg",
         "judo",
         "Judo",
         "JUD",
         "https://olympics.com/en/paris-2024/sports/judo"
        ],
        [
         "Women +78 kg",
         "judo",
         "Judo",
         "JUD",
         "https://olympics.com/en/paris-2024/sports/judo"
        ],
        [
         "Men -60 kg",
         "judo",
         "Judo",
         "JUD",
         "https://olympics.com/en/paris-2024/sports/judo"
        ],
        [
         "Men -66 kg",
         "judo",
         "Judo",
         "JUD",
         "https://olympics.com/en/paris-2024/sports/judo"
        ],
        [
         "Men -73 kg",
         "judo",
         "Judo",
         "JUD",
         "https://olympics.com/en/paris-2024/sports/judo"
        ],
        [
         "Men -81 kg",
         "judo",
         "Judo",
         "JUD",
         "https://olympics.com/en/paris-2024/sports/judo"
        ],
        [
         "Men -90 kg",
         "judo",
         "Judo",
         "JUD",
         "https://olympics.com/en/paris-2024/sports/judo"
        ],
        [
         "Men -100 kg",
         "judo",
         "Judo",
         "JUD",
         "https://olympics.com/en/paris-2024/sports/judo"
        ],
        [
         "Men +100 kg",
         "judo",
         "Judo",
         "JUD",
         "https://olympics.com/en/paris-2024/sports/judo"
        ],
        [
         "Mixed Team",
         "judo",
         "Judo",
         "JUD",
         "https://olympics.com/en/paris-2024/sports/judo"
        ],
        [
         "Women's 10km",
         "marathon-swimming",
         "Marathon Swimming",
         "OWS",
         "https://olympics.com/en/paris-2024/sports/marathon-swimming"
        ],
        [
         "Men's 10km",
         "marathon-swimming",
         "Marathon Swimming",
         "OWS",
         "https://olympics.com/en/paris-2024/sports/marathon-swimming"
        ],
        [
         "Women's Individual",
         "modern-pentathlon",
         "Modern Pentathlon",
         "MPN",
         "https://olympics.com/en/paris-2024/sports/modern-pentathlon"
        ],
        [
         "Men's Individual",
         "modern-pentathlon",
         "Modern Pentathlon",
         "MPN",
         "https://olympics.com/en/paris-2024/sports/modern-pentathlon"
        ],
        [
         "Individual All-Around",
         "rhythmic-gymnastics",
         "Rhythmic Gymnastics",
         "GRY",
         "https://olympics.com/en/paris-2024/sports/rhythmic-gymnastics"
        ],
        [
         "Group All-Around",
         "rhythmic-gymnastics",
         "Rhythmic Gymnastics",
         "GRY",
         "https://olympics.com/en/paris-2024/sports/rhythmic-gymnastics"
        ],
        [
         "Women's Pair",
         "rowing",
         "Rowing",
         "ROW",
         "https://olympics.com/en/paris-2024/sports/rowing"
        ],
        [
         "Men's Pair",
         "rowing",
         "Rowing",
         "ROW",
         "https://olympics.com/en/paris-2024/sports/rowing"
        ],
        [
         "Women's Double Sculls",
         "rowing",
         "Rowing",
         "ROW",
         "https://olympics.com/en/paris-2024/sports/rowing"
        ],
        [
         "Men's Double Sculls",
         "rowing",
         "Rowing",
         "ROW",
         "https://olympics.com/en/paris-2024/sports/rowing"
        ],
        [
         "Women's Four",
         "rowing",
         "Rowing",
         "ROW",
         "https://olympics.com/en/paris-2024/sports/rowing"
        ],
        [
         "Men's Four",
         "rowing",
         "Rowing",
         "ROW",
         "https://olympics.com/en/paris-2024/sports/rowing"
        ],
        [
         "Women's Single Sculls",
         "rowing",
         "Rowing",
         "ROW",
         "https://olympics.com/en/paris-2024/sports/rowing"
        ],
        [
         "Men's Single Sculls",
         "rowing",
         "Rowing",
         "ROW",
         "https://olympics.com/en/paris-2024/sports/rowing"
        ],
        [
         "Lightweight Women's Double Sculls",
         "rowing",
         "Rowing",
         "ROW",
         "https://olympics.com/en/paris-2024/sports/rowing"
        ],
        [
         "Lightweight Men's Double Sculls",
         "rowing",
         "Rowing",
         "ROW",
         "https://olympics.com/en/paris-2024/sports/rowing"
        ],
        [
         "Women's Quadruple Sculls",
         "rowing",
         "Rowing",
         "ROW",
         "https://olympics.com/en/paris-2024/sports/rowing"
        ],
        [
         "Men's Quadruple Sculls",
         "rowing",
         "Rowing",
         "ROW",
         "https://olympics.com/en/paris-2024/sports/rowing"
        ],
        [
         "Women's Eight",
         "rowing",
         "Rowing",
         "ROW",
         "https://olympics.com/en/paris-2024/sports/rowing"
        ],
        [
         "Men's Eight",
         "rowing",
         "Rowing",
         "ROW",
         "https://olympics.com/en/paris-2024/sports/rowing"
        ],
        [
         "Men",
         "rugby-sevens",
         "Rugby Sevens",
         "RU7",
         "https://olympics.com/en/paris-2024/sports/rugby-sevens"
        ],
        [
         "Women",
         "rugby-sevens",
         "Rugby Sevens",
         "RU7",
         "https://olympics.com/en/paris-2024/sports/rugby-sevens"
        ],
        [
         "Men's Windsurfing",
         "sailing",
         "Sailing",
         "SAL",
         "https://olympics.com/en/paris-2024/sports/sailing"
        ],
        [
         "Men's Kite",
         "sailing",
         "Sailing",
         "SAL",
         "https://olympics.com/en/paris-2024/sports/sailing"
        ],
        [
         "Men's Dinghy",
         "sailing",
         "Sailing",
         "SAL",
         "https://olympics.com/en/paris-2024/sports/sailing"
        ],
        [
         "Men's Skiff",
         "sailing",
         "Sailing",
         "SAL",
         "https://olympics.com/en/paris-2024/sports/sailing"
        ],
        [
         "Women's Windsurfing",
         "sailing",
         "Sailing",
         "SAL",
         "https://olympics.com/en/paris-2024/sports/sailing"
        ],
        [
         "Women's Kite",
         "sailing",
         "Sailing",
         "SAL",
         "https://olympics.com/en/paris-2024/sports/sailing"
        ],
        [
         "Women's Dinghy",
         "sailing",
         "Sailing",
         "SAL",
         "https://olympics.com/en/paris-2024/sports/sailing"
        ],
        [
         "Women's Skiff",
         "sailing",
         "Sailing",
         "SAL",
         "https://olympics.com/en/paris-2024/sports/sailing"
        ],
        [
         "Mixed Dinghy",
         "sailing",
         "Sailing",
         "SAL",
         "https://olympics.com/en/paris-2024/sports/sailing"
        ],
        [
         "Mixed Multihull",
         "sailing",
         "Sailing",
         "SAL",
         "https://olympics.com/en/paris-2024/sports/sailing"
        ],
        [
         "10m Air Rifle Men",
         "shooting",
         "Shooting",
         "SHO",
         "https://olympics.com/en/paris-2024/sports/shooting"
        ],
        [
         "50m Rifle 3 Positions Men",
         "shooting",
         "Shooting",
         "SHO",
         "https://olympics.com/en/paris-2024/sports/shooting"
        ],
        [
         "10m Air Pistol Men",
         "shooting",
         "Shooting",
         "SHO",
         "https://olympics.com/en/paris-2024/sports/shooting"
        ],
        [
         "25m Rapid Fire Pistol Men",
         "shooting",
         "Shooting",
         "SHO",
         "https://olympics.com/en/paris-2024/sports/shooting"
        ],
        [
         "Trap Men",
         "shooting",
         "Shooting",
         "SHO",
         "https://olympics.com/en/paris-2024/sports/shooting"
        ],
        [
         "Skeet Men",
         "shooting",
         "Shooting",
         "SHO",
         "https://olympics.com/en/paris-2024/sports/shooting"
        ],
        [
         "10m Air Rifle Women",
         "shooting",
         "Shooting",
         "SHO",
         "https://olympics.com/en/paris-2024/sports/shooting"
        ],
        [
         "50m Rifle 3 Positions Women",
         "shooting",
         "Shooting",
         "SHO",
         "https://olympics.com/en/paris-2024/sports/shooting"
        ],
        [
         "10m Air Pistol Women",
         "shooting",
         "Shooting",
         "SHO",
         "https://olympics.com/en/paris-2024/sports/shooting"
        ],
        [
         "25m Pistol Women",
         "shooting",
         "Shooting",
         "SHO",
         "https://olympics.com/en/paris-2024/sports/shooting"
        ],
        [
         "Trap Women",
         "shooting",
         "Shooting",
         "SHO",
         "https://olympics.com/en/paris-2024/sports/shooting"
        ],
        [
         "Skeet Women",
         "shooting",
         "Shooting",
         "SHO",
         "https://olympics.com/en/paris-2024/sports/shooting"
        ],
        [
         "10m Air Rifle Mixed Team",
         "shooting",
         "Shooting",
         "SHO",
         "https://olympics.com/en/paris-2024/sports/shooting"
        ],
        [
         "10m Air Pistol Mixed Team",
         "shooting",
         "Shooting",
         "SHO",
         "https://olympics.com/en/paris-2024/sports/shooting"
        ],
        [
         "Skeet Mixed Team",
         "shooting",
         "Shooting",
         "SHO",
         "https://olympics.com/en/paris-2024/sports/shooting"
        ],
        [
         "Women's Street",
         "skateboarding",
         "Skateboarding",
         "SKB",
         "https://olympics.com/en/paris-2024/sports/skateboarding"
        ],
        [
         "Men's Street",
         "skateboarding",
         "Skateboarding",
         "SKB",
         "https://olympics.com/en/paris-2024/sports/skateboarding"
        ],
        [
         "Women's Park",
         "skateboarding",
         "Skateboarding",
         "SKB",
         "https://olympics.com/en/paris-2024/sports/skateboarding"
        ],
        [
         "Men's Park",
         "skateboarding",
         "Skateboarding",
         "SKB",
         "https://olympics.com/en/paris-2024/sports/skateboarding"
        ],
        [
         "Women's Boulder & Lead",
         "sport-climbing",
         "Sport Climbing",
         "CLB",
         "https://olympics.com/en/paris-2024/sports/sport-climbing"
        ],
        [
         "Women's Speed",
         "sport-climbing",
         "Sport Climbing",
         "CLB",
         "https://olympics.com/en/paris-2024/sports/sport-climbing"
        ],
        [
         "Men's Boulder & Lead",
         "sport-climbing",
         "Sport Climbing",
         "CLB",
         "https://olympics.com/en/paris-2024/sports/sport-climbing"
        ],
        [
         "Men's Speed",
         "sport-climbing",
         "Sport Climbing",
         "CLB",
         "https://olympics.com/en/paris-2024/sports/sport-climbing"
        ],
        [
         "Men",
         "surfing",
         "Surfing",
         "SRF",
         "https://olympics.com/en/paris-2024/sports/surfing"
        ],
        [
         "Women",
         "surfing",
         "Surfing",
         "SRF",
         "https://olympics.com/en/paris-2024/sports/surfing"
        ],
        [
         "Women's 50m Freestyle",
         "swimming",
         "Swimming",
         "SWM",
         "https://olympics.com/en/paris-2024/sports/swimming"
        ],
        [
         "Women's 100m Freestyle",
         "swimming",
         "Swimming",
         "SWM",
         "https://olympics.com/en/paris-2024/sports/swimming"
        ],
        [
         "Women's 200m Freestyle",
         "swimming",
         "Swimming",
         "SWM",
         "https://olympics.com/en/paris-2024/sports/swimming"
        ],
        [
         "Women's 400m Freestyle",
         "swimming",
         "Swimming",
         "SWM",
         "https://olympics.com/en/paris-2024/sports/swimming"
        ],
        [
         "Women's 800m Freestyle",
         "swimming",
         "Swimming",
         "SWM",
         "https://olympics.com/en/paris-2024/sports/swimming"
        ],
        [
         "Women's 1500m Freestyle",
         "swimming",
         "Swimming",
         "SWM",
         "https://olympics.com/en/paris-2024/sports/swimming"
        ],
        [
         "Women's 100m Backstroke",
         "swimming",
         "Swimming",
         "SWM",
         "https://olympics.com/en/paris-2024/sports/swimming"
        ],
        [
         "Women's 200m Backstroke",
         "swimming",
         "Swimming",
         "SWM",
         "https://olympics.com/en/paris-2024/sports/swimming"
        ],
        [
         "Women's 100m Breaststroke",
         "swimming",
         "Swimming",
         "SWM",
         "https://olympics.com/en/paris-2024/sports/swimming"
        ],
        [
         "Women's 200m Breaststroke",
         "swimming",
         "Swimming",
         "SWM",
         "https://olympics.com/en/paris-2024/sports/swimming"
        ],
        [
         "Women's 100m Butterfly",
         "swimming",
         "Swimming",
         "SWM",
         "https://olympics.com/en/paris-2024/sports/swimming"
        ],
        [
         "Women's 200m Butterfly",
         "swimming",
         "Swimming",
         "SWM",
         "https://olympics.com/en/paris-2024/sports/swimming"
        ],
        [
         "Women's 200m Individual Medley",
         "swimming",
         "Swimming",
         "SWM",
         "https://olympics.com/en/paris-2024/sports/swimming"
        ],
        [
         "Women's 400m Individual Medley",
         "swimming",
         "Swimming",
         "SWM",
         "https://olympics.com/en/paris-2024/sports/swimming"
        ],
        [
         "Women's 4 x 100m Freestyle Relay",
         "swimming",
         "Swimming",
         "SWM",
         "https://olympics.com/en/paris-2024/sports/swimming"
        ],
        [
         "Women's 4 x 200m Freestyle Relay",
         "swimming",
         "Swimming",
         "SWM",
         "https://olympics.com/en/paris-2024/sports/swimming"
        ],
        [
         "Women's 4 x 100m Medley Relay",
         "swimming",
         "Swimming",
         "SWM",
         "https://olympics.com/en/paris-2024/sports/swimming"
        ],
        [
         "Men's 50m Freestyle",
         "swimming",
         "Swimming",
         "SWM",
         "https://olympics.com/en/paris-2024/sports/swimming"
        ],
        [
         "Men's 100m Freestyle",
         "swimming",
         "Swimming",
         "SWM",
         "https://olympics.com/en/paris-2024/sports/swimming"
        ],
        [
         "Men's 200m Freestyle",
         "swimming",
         "Swimming",
         "SWM",
         "https://olympics.com/en/paris-2024/sports/swimming"
        ],
        [
         "Men's 400m Freestyle",
         "swimming",
         "Swimming",
         "SWM",
         "https://olympics.com/en/paris-2024/sports/swimming"
        ],
        [
         "Men's 800m Freestyle",
         "swimming",
         "Swimming",
         "SWM",
         "https://olympics.com/en/paris-2024/sports/swimming"
        ],
        [
         "Men's 1500m Freestyle",
         "swimming",
         "Swimming",
         "SWM",
         "https://olympics.com/en/paris-2024/sports/swimming"
        ],
        [
         "Men's 100m Backstroke",
         "swimming",
         "Swimming",
         "SWM",
         "https://olympics.com/en/paris-2024/sports/swimming"
        ],
        [
         "Men's 200m Backstroke",
         "swimming",
         "Swimming",
         "SWM",
         "https://olympics.com/en/paris-2024/sports/swimming"
        ],
        [
         "Men's 100m Breaststroke",
         "swimming",
         "Swimming",
         "SWM",
         "https://olympics.com/en/paris-2024/sports/swimming"
        ],
        [
         "Men's 200m Breaststroke",
         "swimming",
         "Swimming",
         "SWM",
         "https://olympics.com/en/paris-2024/sports/swimming"
        ],
        [
         "Men's 100m Butterfly",
         "swimming",
         "Swimming",
         "SWM",
         "https://olympics.com/en/paris-2024/sports/swimming"
        ],
        [
         "Men's 200m Butterfly",
         "swimming",
         "Swimming",
         "SWM",
         "https://olympics.com/en/paris-2024/sports/swimming"
        ],
        [
         "Men's 200m Individual Medley",
         "swimming",
         "Swimming",
         "SWM",
         "https://olympics.com/en/paris-2024/sports/swimming"
        ],
        [
         "Men's 400m Individual Medley",
         "swimming",
         "Swimming",
         "SWM",
         "https://olympics.com/en/paris-2024/sports/swimming"
        ],
        [
         "Men's 4 x 100m Freestyle Relay",
         "swimming",
         "Swimming",
         "SWM",
         "https://olympics.com/en/paris-2024/sports/swimming"
        ],
        [
         "Men's 4 x 200m Freestyle Relay",
         "swimming",
         "Swimming",
         "SWM",
         "https://olympics.com/en/paris-2024/sports/swimming"
        ],
        [
         "Men's 4 x 100m Medley Relay",
         "swimming",
         "Swimming",
         "SWM",
         "https://olympics.com/en/paris-2024/sports/swimming"
        ],
        [
         "Mixed 4 x 100m Medley Relay",
         "swimming",
         "Swimming",
         "SWM",
         "https://olympics.com/en/paris-2024/sports/swimming"
        ],
        [
         "Men's Singles",
         "table-tennis",
         "Table Tennis",
         "TTE",
         "https://olympics.com/en/paris-2024/sports/table-tennis"
        ],
        [
         "Women's Singles",
         "table-tennis",
         "Table Tennis",
         "TTE",
         "https://olympics.com/en/paris-2024/sports/table-tennis"
        ],
        [
         "Mixed Doubles",
         "table-tennis",
         "Table Tennis",
         "TTE",
         "https://olympics.com/en/paris-2024/sports/table-tennis"
        ],
        [
         "Men's Team",
         "table-tennis",
         "Table Tennis",
         "TTE",
         "https://olympics.com/en/paris-2024/sports/table-tennis"
        ],
        [
         "Women's Team",
         "table-tennis",
         "Table Tennis",
         "TTE",
         "https://olympics.com/en/paris-2024/sports/table-tennis"
        ],
        [
         "Men -58kg",
         "taekwondo",
         "Taekwondo",
         "TKW",
         "https://olympics.com/en/paris-2024/sports/taekwondo"
        ],
        [
         "Men -68kg",
         "taekwondo",
         "Taekwondo",
         "TKW",
         "https://olympics.com/en/paris-2024/sports/taekwondo"
        ],
        [
         "Men -80kg",
         "taekwondo",
         "Taekwondo",
         "TKW",
         "https://olympics.com/en/paris-2024/sports/taekwondo"
        ],
        [
         "Men +80kg",
         "taekwondo",
         "Taekwondo",
         "TKW",
         "https://olympics.com/en/paris-2024/sports/taekwondo"
        ],
        [
         "Women -49kg",
         "taekwondo",
         "Taekwondo",
         "TKW",
         "https://olympics.com/en/paris-2024/sports/taekwondo"
        ],
        [
         "Women -57kg",
         "taekwondo",
         "Taekwondo",
         "TKW",
         "https://olympics.com/en/paris-2024/sports/taekwondo"
        ],
        [
         "Women -67kg",
         "taekwondo",
         "Taekwondo",
         "TKW",
         "https://olympics.com/en/paris-2024/sports/taekwondo"
        ],
        [
         "Women +67kg",
         "taekwondo",
         "Taekwondo",
         "TKW",
         "https://olympics.com/en/paris-2024/sports/taekwondo"
        ],
        [
         "Men's Singles",
         "tennis",
         "Tennis",
         "TEN",
         "https://olympics.com/en/paris-2024/sports/tennis"
        ],
        [
         "Women's Singles",
         "tennis",
         "Tennis",
         "TEN",
         "https://olympics.com/en/paris-2024/sports/tennis"
        ],
        [
         "Men's Doubles",
         "tennis",
         "Tennis",
         "TEN",
         "https://olympics.com/en/paris-2024/sports/tennis"
        ],
        [
         "Women's Doubles",
         "tennis",
         "Tennis",
         "TEN",
         "https://olympics.com/en/paris-2024/sports/tennis"
        ],
        [
         "Mixed Doubles",
         "tennis",
         "Tennis",
         "TEN",
         "https://olympics.com/en/paris-2024/sports/tennis"
        ],
        [
         "Men",
         "trampoline-gymnastics",
         "Trampoline Gymnastics",
         "GTR",
         "https://olympics.com/en/paris-2024/sports/trampoline-gymnastics"
        ],
        [
         "Women",
         "trampoline-gymnastics",
         "Trampoline Gymnastics",
         "GTR",
         "https://olympics.com/en/paris-2024/sports/trampoline-gymnastics"
        ],
        [
         "Women's Individual",
         "triathlon",
         "Triathlon",
         "TRI",
         "https://olympics.com/en/paris-2024/sports/triathlon"
        ],
        [
         "Men's Individual",
         "triathlon",
         "Triathlon",
         "TRI",
         "https://olympics.com/en/paris-2024/sports/triathlon"
        ],
        [
         "Mixed Relay",
         "triathlon",
         "Triathlon",
         "TRI",
         "https://olympics.com/en/paris-2024/sports/triathlon"
        ],
        [
         "Men",
         "volleyball",
         "Volleyball",
         "VVO",
         "https://olympics.com/en/paris-2024/sports/volleyball"
        ],
        [
         "Women",
         "volleyball",
         "Volleyball",
         "VVO",
         "https://olympics.com/en/paris-2024/sports/volleyball"
        ],
        [
         "Men",
         "water-polo",
         "Water Polo",
         "WPO",
         "https://olympics.com/en/paris-2024/sports/water-polo"
        ],
        [
         "Women",
         "water-polo",
         "Water Polo",
         "WPO",
         "https://olympics.com/en/paris-2024/sports/water-polo"
        ],
        [
         "Women's 49kg",
         "weightlifting",
         "Weightlifting",
         "WLF",
         "https://olympics.com/en/paris-2024/sports/weightlifting"
        ],
        [
         "Women's 59kg",
         "weightlifting",
         "Weightlifting",
         "WLF",
         "https://olympics.com/en/paris-2024/sports/weightlifting"
        ],
        [
         "Women's 71kg",
         "weightlifting",
         "Weightlifting",
         "WLF",
         "https://olympics.com/en/paris-2024/sports/weightlifting"
        ],
        [
         "Women's 81kg",
         "weightlifting",
         "Weightlifting",
         "WLF",
         "https://olympics.com/en/paris-2024/sports/weightlifting"
        ],
        [
         "Women's +81kg",
         "weightlifting",
         "Weightlifting",
         "WLF",
         "https://olympics.com/en/paris-2024/sports/weightlifting"
        ],
        [
         "Men's 61kg",
         "weightlifting",
         "Weightlifting",
         "WLF",
         "https://olympics.com/en/paris-2024/sports/weightlifting"
        ],
        [
         "Men's 73kg",
         "weightlifting",
         "Weightlifting",
         "WLF",
         "https://olympics.com/en/paris-2024/sports/weightlifting"
        ],
        [
         "Men's 89kg",
         "weightlifting",
         "Weightlifting",
         "WLF",
         "https://olympics.com/en/paris-2024/sports/weightlifting"
        ],
        [
         "Men's 102kg",
         "weightlifting",
         "Weightlifting",
         "WLF",
         "https://olympics.com/en/paris-2024/sports/weightlifting"
        ],
        [
         "Men's +102kg",
         "weightlifting",
         "Weightlifting",
         "WLF",
         "https://olympics.com/en/paris-2024/sports/weightlifting"
        ],
        [
         "Men's Greco-Roman 60kg",
         "wrestling",
         "Wrestling",
         "WRE",
         "https://olympics.com/en/paris-2024/sports/wrestling"
        ],
        [
         "Men's Greco-Roman 67kg",
         "wrestling",
         "Wrestling",
         "WRE",
         "https://olympics.com/en/paris-2024/sports/wrestling"
        ],
        [
         "Men's Greco-Roman 77kg",
         "wrestling",
         "Wrestling",
         "WRE",
         "https://olympics.com/en/paris-2024/sports/wrestling"
        ],
        [
         "Men's Greco-Roman 87kg",
         "wrestling",
         "Wrestling",
         "WRE",
         "https://olympics.com/en/paris-2024/sports/wrestling"
        ],
        [
         "Men's Greco-Roman 97kg",
         "wrestling",
         "Wrestling",
         "WRE",
         "https://olympics.com/en/paris-2024/sports/wrestling"
        ],
        [
         "Men's Greco-Roman 130kg",
         "wrestling",
         "Wrestling",
         "WRE",
         "https://olympics.com/en/paris-2024/sports/wrestling"
        ],
        [
         "Women's Freestyle 50kg",
         "wrestling",
         "Wrestling",
         "WRE",
         "https://olympics.com/en/paris-2024/sports/wrestling"
        ],
        [
         "Women's Freestyle 53kg",
         "wrestling",
         "Wrestling",
         "WRE",
         "https://olympics.com/en/paris-2024/sports/wrestling"
        ],
        [
         "Women's Freestyle 57kg",
         "wrestling",
         "Wrestling",
         "WRE",
         "https://olympics.com/en/paris-2024/sports/wrestling"
        ],
        [
         "Women's Freestyle 62kg",
         "wrestling",
         "Wrestling",
         "WRE",
         "https://olympics.com/en/paris-2024/sports/wrestling"
        ],
        [
         "Women's Freestyle 68kg",
         "wrestling",
         "Wrestling",
         "WRE",
         "https://olympics.com/en/paris-2024/sports/wrestling"
        ],
        [
         "Women's Freestyle 76kg",
         "wrestling",
         "Wrestling",
         "WRE",
         "https://olympics.com/en/paris-2024/sports/wrestling"
        ],
        [
         "Men's Freestyle 57kg",
         "wrestling",
         "Wrestling",
         "WRE",
         "https://olympics.com/en/paris-2024/sports/wrestling"
        ],
        [
         "Men's Freestyle 65kg",
         "wrestling",
         "Wrestling",
         "WRE",
         "https://olympics.com/en/paris-2024/sports/wrestling"
        ],
        [
         "Men's Freestyle 74kg",
         "wrestling",
         "Wrestling",
         "WRE",
         "https://olympics.com/en/paris-2024/sports/wrestling"
        ],
        [
         "Men's Freestyle 86kg",
         "wrestling",
         "Wrestling",
         "WRE",
         "https://olympics.com/en/paris-2024/sports/wrestling"
        ],
        [
         "Men's Freestyle 97kg",
         "wrestling",
         "Wrestling",
         "WRE",
         "https://olympics.com/en/paris-2024/sports/wrestling"
        ],
        [
         "Men's Freestyle 125kg",
         "wrestling",
         "Wrestling",
         "WRE",
         "https://olympics.com/en/paris-2024/sports/wrestling"
        ]
       ],
       "datasetInfos": [],
       "dbfsResultPath": null,
       "isJsonSchema": true,
       "metadata": {},
       "overflow": false,
       "plotOptions": {
        "customPlotOptions": {},
        "displayType": "table",
        "pivotAggregation": null,
        "pivotColumns": null,
        "xColumns": null,
        "yColumns": null
       },
       "removedWidgets": [],
       "schema": [
        {
         "metadata": "{}",
         "name": "event",
         "type": "\"string\""
        },
        {
         "metadata": "{}",
         "name": "tag",
         "type": "\"string\""
        },
        {
         "metadata": "{}",
         "name": "sport",
         "type": "\"string\""
        },
        {
         "metadata": "{}",
         "name": "sport_code",
         "type": "\"string\""
        },
        {
         "metadata": "{}",
         "name": "sport_url",
         "type": "\"string\""
        }
       ],
       "type": "table"
      }
     },
     "output_type": "display_data"
    }
   ],
   "source": [
    "display(df)"
   ]
  },
  {
   "cell_type": "markdown",
   "metadata": {
    "application/vnd.databricks.v1+cell": {
     "cellMetadata": {},
     "inputWidgets": {},
     "nuid": "18e2838e-5845-4cbc-b916-ebc98c8543ef",
     "showTitle": false,
     "tableResultSettingsMap": {},
     "title": ""
    }
   },
   "source": [
    "## Data Writing"
   ]
  },
  {
   "cell_type": "code",
   "execution_count": 0,
   "metadata": {
    "application/vnd.databricks.v1+cell": {
     "cellMetadata": {},
     "inputWidgets": {},
     "nuid": "15fa8aba-f3d7-4809-98b5-9b67b262f529",
     "showTitle": false,
     "tableResultSettingsMap": {},
     "title": ""
    }
   },
   "outputs": [],
   "source": [
    "df.write.format(\"delta\")\\\n",
    "    .mode(\"append\")\\\n",
    "    .option(\"path\",f\"abfss://{sink_container}@storageaccolympic.dfs.core.windows.net/{folder}\")\\\n",
    "    .save()        "
   ]
  }
 ],
 "metadata": {
  "application/vnd.databricks.v1+notebook": {
   "computePreferences": null,
   "dashboards": [],
   "environmentMetadata": {
    "base_environment": "",
    "environment_version": "2"
   },
   "inputWidgetPreferences": null,
   "language": "python",
   "notebookMetadata": {
    "pythonIndentUnit": 4
   },
   "notebookName": "Silver - Coaches and Events",
   "widgets": {
    "folder": {
     "currentValue": "events",
     "nuid": "815de1d3-da04-4802-b491-0497ffe5a744",
     "typedWidgetInfo": {
      "autoCreated": false,
      "defaultValue": "",
      "label": null,
      "name": "folder",
      "options": {
       "widgetDisplayType": "Text",
       "validationRegex": null
      },
      "parameterDataType": "String"
     },
     "widgetInfo": {
      "widgetType": "text",
      "defaultValue": "",
      "label": null,
      "name": "folder",
      "options": {
       "widgetType": "text",
       "autoCreated": false,
       "validationRegex": null
      }
     }
    },
    "sink_container": {
     "currentValue": "",
     "nuid": "8827cca7-931f-497e-b8d3-fc6df443092a",
     "typedWidgetInfo": {
      "autoCreated": false,
      "defaultValue": "",
      "label": null,
      "name": "sink_container",
      "options": {
       "widgetDisplayType": "Text",
       "validationRegex": null
      },
      "parameterDataType": "String"
     },
     "widgetInfo": {
      "widgetType": "text",
      "defaultValue": "",
      "label": null,
      "name": "sink_container",
      "options": {
       "widgetType": "text",
       "autoCreated": false,
       "validationRegex": null
      }
     }
    },
    "source_container": {
     "currentValue": "bronze",
     "nuid": "5fa5914f-dcdd-413c-b9c3-da102ad23b0b",
     "typedWidgetInfo": {
      "autoCreated": false,
      "defaultValue": "",
      "label": null,
      "name": "source_container",
      "options": {
       "widgetDisplayType": "Text",
       "validationRegex": null
      },
      "parameterDataType": "String"
     },
     "widgetInfo": {
      "widgetType": "text",
      "defaultValue": "",
      "label": null,
      "name": "source_container",
      "options": {
       "widgetType": "text",
       "autoCreated": false,
       "validationRegex": null
      }
     }
    }
   }
  },
  "language_info": {
   "name": "python"
  }
 },
 "nbformat": 4,
 "nbformat_minor": 0
}