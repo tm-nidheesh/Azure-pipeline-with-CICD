{
 "cells": [
  {
   "cell_type": "markdown",
   "metadata": {
    "application/vnd.databricks.v1+cell": {
     "cellMetadata": {},
     "inputWidgets": {},
     "nuid": "3dfee563-acd9-4378-8ff1-7507a2022367",
     "showTitle": false,
     "tableResultSettingsMap": {},
     "title": ""
    }
   },
   "source": [
    "## Reading data from csv file - NOCS folder in ADLS"
   ]
  },
  {
   "cell_type": "code",
   "execution_count": 0,
   "metadata": {
    "application/vnd.databricks.v1+cell": {
     "cellMetadata": {
      "byteLimit": 2048000,
      "rowLimit": 10000
     },
     "inputWidgets": {},
     "nuid": "058fe114-833b-4a24-be2a-02b2b4f6a460",
     "showTitle": false,
     "tableResultSettingsMap": {},
     "title": ""
    }
   },
   "outputs": [],
   "source": [
    "from pyspark.sql.functions import *\n",
    "from pyspark.sql.types import *"
   ]
  },
  {
   "cell_type": "code",
   "execution_count": 0,
   "metadata": {
    "application/vnd.databricks.v1+cell": {
     "cellMetadata": {
      "byteLimit": 2048000,
      "rowLimit": 10000
     },
     "inputWidgets": {},
     "nuid": "6194d269-44c4-4643-88ab-cb774f5a9bb3",
     "showTitle": false,
     "tableResultSettingsMap": {},
     "title": ""
    }
   },
   "outputs": [
    {
     "output_type": "execute_result",
     "data": {
      "text/plain": [
       "<pyspark.sql.connect.session.SparkSession at 0x7f91b6c1ba50>"
      ]
     },
     "execution_count": 2,
     "metadata": {},
     "output_type": "execute_result"
    }
   ],
   "source": [
    "spark"
   ]
  },
  {
   "cell_type": "code",
   "execution_count": 0,
   "metadata": {
    "application/vnd.databricks.v1+cell": {
     "cellMetadata": {
      "byteLimit": 2048000,
      "rowLimit": 10000
     },
     "inputWidgets": {},
     "nuid": "58009b80-470c-45af-b115-df12efb897b2",
     "showTitle": false,
     "tableResultSettingsMap": {},
     "title": ""
    }
   },
   "outputs": [],
   "source": [
    "df = spark.read.format(\"csv\")\\\n",
    "          .option(\"header\",True)\\\n",
    "          .option(\"inferSchema\",True)\\\n",
    "          .load(\"abfss://bronze@storageaccolympic.dfs.core.windows.net/nocs\")        "
   ]
  },
  {
   "cell_type": "code",
   "execution_count": 0,
   "metadata": {
    "application/vnd.databricks.v1+cell": {
     "cellMetadata": {
      "byteLimit": 2048000,
      "rowLimit": 10000
     },
     "inputWidgets": {},
     "nuid": "ed8f7d73-1114-4117-bf8b-2bec2eb221f7",
     "showTitle": false,
     "tableResultSettingsMap": {},
     "title": ""
    }
   },
   "outputs": [
    {
     "output_type": "display_data",
     "data": {
      "text/html": [
       "<style scoped>\n",
       "  .table-result-container {\n",
       "    max-height: 300px;\n",
       "    overflow: auto;\n",
       "  }\n",
       "  table, th, td {\n",
       "    border: 1px solid black;\n",
       "    border-collapse: collapse;\n",
       "  }\n",
       "  th, td {\n",
       "    padding: 5px;\n",
       "  }\n",
       "  th {\n",
       "    text-align: left;\n",
       "  }\n",
       "</style><div class='table-result-container'><table class='table-result'><thead style='background-color: white'><tr><th>code</th><th>country</th><th>country_long</th><th>tag</th><th>note</th></tr></thead><tbody><tr><td>AFG</td><td>Afghanistan</td><td>Afghanistan</td><td>afghanistan</td><td>P</td></tr><tr><td>AHO</td><td>Netherlands Antilles</td><td>Netherlands Antilles</td><td>netherlands-antilles</td><td>H</td></tr><tr><td>AIN</td><td>AIN</td><td>AIN</td><td>ain</td><td>P</td></tr><tr><td>ALB</td><td>Albania</td><td>Albania</td><td>albania</td><td>P</td></tr><tr><td>ALG</td><td>Algeria</td><td>Algeria</td><td>algeria</td><td>P</td></tr><tr><td>AND</td><td>Andorra</td><td>Andorra</td><td>andorra</td><td>P</td></tr><tr><td>ANG</td><td>Angola</td><td>Angola</td><td>angola</td><td>P</td></tr><tr><td>ANT</td><td>Antigua and Barbuda</td><td>Antigua and Barbuda</td><td>antigua-and-barbuda</td><td>P</td></tr><tr><td>ARG</td><td>Argentina</td><td>Argentina</td><td>argentina</td><td>P</td></tr><tr><td>ARM</td><td>Armenia</td><td>Armenia</td><td>armenia</td><td>P</td></tr><tr><td>ARU</td><td>Aruba</td><td>Aruba</td><td>aruba</td><td>P</td></tr><tr><td>ASA</td><td>American Samoa</td><td>American Samoa</td><td>american-samoa</td><td>P</td></tr><tr><td>AUS</td><td>Australia</td><td>Australia</td><td>australia</td><td>P</td></tr><tr><td>AUT</td><td>Austria</td><td>Austria</td><td>austria</td><td>P</td></tr><tr><td>AZE</td><td>Azerbaijan</td><td>Azerbaijan</td><td>azerbaijan</td><td>P</td></tr><tr><td>BAH</td><td>Bahamas</td><td>Bahamas</td><td>bahamas</td><td>P</td></tr><tr><td>BAN</td><td>Bangladesh</td><td>Bangladesh</td><td>bangladesh</td><td>P</td></tr><tr><td>BAR</td><td>Barbados</td><td>Barbados</td><td>barbados</td><td>P</td></tr><tr><td>BDI</td><td>Burundi</td><td>Burundi</td><td>burundi</td><td>P</td></tr><tr><td>BEL</td><td>Belgium</td><td>Belgium</td><td>belgium</td><td>P</td></tr><tr><td>BEN</td><td>Benin</td><td>Benin</td><td>benin</td><td>P</td></tr><tr><td>BER</td><td>Bermuda</td><td>Bermuda</td><td>bermuda</td><td>P</td></tr><tr><td>BHU</td><td>Bhutan</td><td>Bhutan</td><td>bhutan</td><td>P</td></tr><tr><td>BIH</td><td>Bosnia & Herzegovina</td><td>Bosnia and Herzegovina</td><td>bosnia-and-herzegovina</td><td>P</td></tr><tr><td>BIZ</td><td>Belize</td><td>Belize</td><td>belize</td><td>P</td></tr><tr><td>BLR</td><td>Belarus</td><td>Belarus</td><td>belarus</td><td>NP</td></tr><tr><td>BOC</td><td>BOC</td><td>BOC</td><td>boc</td><td>H</td></tr><tr><td>BOL</td><td>Bolivia</td><td>Bolivia</td><td>bolivia</td><td>P</td></tr><tr><td>BOT</td><td>Botswana</td><td>Botswana</td><td>botswana</td><td>P</td></tr><tr><td>BRA</td><td>Brazil</td><td>Brazil</td><td>brazil</td><td>P</td></tr><tr><td>BRN</td><td>Bahrain</td><td>Bahrain</td><td>bahrain</td><td>P</td></tr><tr><td>BRU</td><td>Brunei Darussalam</td><td>Brunei Darussalam</td><td>brunei-darussalam</td><td>P</td></tr><tr><td>BUL</td><td>Bulgaria</td><td>Bulgaria</td><td>bulgaria</td><td>P</td></tr><tr><td>BUR</td><td>Burkina Faso</td><td>Burkina Faso</td><td>burkina-faso</td><td>P</td></tr><tr><td>CAF</td><td>Centr Afric Rep</td><td>Central African Republic</td><td>centr-afric-rep</td><td>P</td></tr><tr><td>CAM</td><td>Cambodia</td><td>Cambodia</td><td>cambodia</td><td>P</td></tr><tr><td>CAN</td><td>Canada</td><td>Canada</td><td>canada</td><td>P</td></tr><tr><td>CAY</td><td>Cayman Islands</td><td>Cayman Islands</td><td>cayman-islands</td><td>P</td></tr><tr><td>CGO</td><td>Congo</td><td>Congo</td><td>congo</td><td>P</td></tr><tr><td>CHA</td><td>Chad</td><td>Chad</td><td>chad</td><td>P</td></tr><tr><td>CHI</td><td>Chile</td><td>Chile</td><td>chile</td><td>P</td></tr><tr><td>CHN</td><td>China</td><td>People's Republic of China</td><td>china</td><td>P</td></tr><tr><td>CIS</td><td>CIS</td><td>Commonwealth of Independent States</td><td>cis</td><td>H</td></tr><tr><td>CIV</td><td>Côte d'Ivoire</td><td>Côte d'Ivoire</td><td>cote-d-ivoire</td><td>P</td></tr><tr><td>CMR</td><td>Cameroon</td><td>Cameroon</td><td>cameroon</td><td>P</td></tr><tr><td>COD</td><td>DR Congo</td><td>Democratic Republic of the Congo</td><td>dr-congo</td><td>P</td></tr><tr><td>COK</td><td>Cook Islands</td><td>Cook Islands</td><td>cook-islands</td><td>P</td></tr><tr><td>COL</td><td>Colombia</td><td>Colombia</td><td>colombia</td><td>P</td></tr><tr><td>COM</td><td>Comoros</td><td>Comoros</td><td>comoros</td><td>P</td></tr><tr><td>COR</td><td>Korea</td><td>Korea</td><td>korea</td><td>H</td></tr><tr><td>CPV</td><td>Cabo Verde</td><td>Cabo Verde</td><td>cabo-verde</td><td>P</td></tr><tr><td>CRC</td><td>Costa Rica</td><td>Costa Rica</td><td>costa-rica</td><td>P</td></tr><tr><td>CRO</td><td>Croatia</td><td>Croatia</td><td>croatia</td><td>P</td></tr><tr><td>CUB</td><td>Cuba</td><td>Cuba</td><td>cuba</td><td>P</td></tr><tr><td>CYP</td><td>Cyprus</td><td>Cyprus</td><td>cyprus</td><td>P</td></tr><tr><td>CZE</td><td>Czechia</td><td>Czechia</td><td>czechia</td><td>P</td></tr><tr><td>DEN</td><td>Denmark</td><td>Denmark</td><td>denmark</td><td>P</td></tr><tr><td>DJI</td><td>Djibouti</td><td>Djibouti</td><td>djibouti</td><td>P</td></tr><tr><td>DMA</td><td>Dominica</td><td>Dominica</td><td>dominica</td><td>P</td></tr><tr><td>DOM</td><td>Dominican Republic</td><td>Dominican Republic</td><td>dominican-republic</td><td>P</td></tr><tr><td>ECU</td><td>Ecuador</td><td>Ecuador</td><td>ecuador</td><td>P</td></tr><tr><td>EGY</td><td>Egypt</td><td>Egypt</td><td>egypt</td><td>P</td></tr><tr><td>EOR</td><td>EOR</td><td>Refugee Olympic Team</td><td>eor</td><td>P</td></tr><tr><td>ERI</td><td>Eritrea</td><td>Eritrea</td><td>eritrea</td><td>P</td></tr><tr><td>ESA</td><td>El Salvador</td><td>El Salvador</td><td>el-salvador</td><td>P</td></tr><tr><td>ESP</td><td>Spain</td><td>Spain</td><td>spain</td><td>P</td></tr><tr><td>EST</td><td>Estonia</td><td>Estonia</td><td>estonia</td><td>P</td></tr><tr><td>ETH</td><td>Ethiopia</td><td>Ethiopia</td><td>ethiopia</td><td>P</td></tr><tr><td>EUN</td><td>Unified Team</td><td>Unified Team</td><td>unified-team</td><td>H</td></tr><tr><td>FIJ</td><td>Fiji</td><td>Fiji</td><td>fiji</td><td>P</td></tr><tr><td>FIN</td><td>Finland</td><td>Finland</td><td>finland</td><td>P</td></tr><tr><td>FRA</td><td>France</td><td>France</td><td>france</td><td>P</td></tr><tr><td>FRG</td><td>FRG</td><td>Federal Republic of Germany</td><td>frg</td><td>H</td></tr><tr><td>FSM</td><td>Micronesia</td><td>Federated States of Micronesia</td><td>micronesia</td><td>P</td></tr><tr><td>GAB</td><td>Gabon</td><td>Gabon</td><td>gabon</td><td>P</td></tr><tr><td>GAM</td><td>Gambia</td><td>Gambia</td><td>gambia</td><td>P</td></tr><tr><td>GBR</td><td>Great Britain</td><td>Great Britain</td><td>great-britain</td><td>P</td></tr><tr><td>GBS</td><td>Guinea-Bissau</td><td>Guinea-Bissau</td><td>guinea-bissau</td><td>P</td></tr><tr><td>GDR</td><td>German Dem. Republic</td><td>German Democratic Republic</td><td>german-dem--republic</td><td>H</td></tr><tr><td>GEO</td><td>Georgia</td><td>Georgia</td><td>georgia</td><td>P</td></tr><tr><td>GEQ</td><td>Equatorial Guinea</td><td>Equatorial Guinea</td><td>equatorial-guinea</td><td>P</td></tr><tr><td>GER</td><td>Germany</td><td>Germany</td><td>germany</td><td>P</td></tr><tr><td>GHA</td><td>Ghana</td><td>Ghana</td><td>ghana</td><td>P</td></tr><tr><td>GRE</td><td>Greece</td><td>Greece</td><td>greece</td><td>P</td></tr><tr><td>GRN</td><td>Grenada</td><td>Grenada</td><td>grenada</td><td>P</td></tr><tr><td>GUA</td><td>Guatemala</td><td>Guatemala</td><td>guatemala</td><td>P</td></tr><tr><td>GUI</td><td>Guinea</td><td>Guinea</td><td>guinea</td><td>P</td></tr><tr><td>GUM</td><td>Guam</td><td>Guam</td><td>guam</td><td>P</td></tr><tr><td>GUY</td><td>Guyana</td><td>Guyana</td><td>guyana</td><td>P</td></tr><tr><td>HAI</td><td>Haiti</td><td>Haiti</td><td>haiti</td><td>P</td></tr><tr><td>HKG</td><td>Hong Kong, China</td><td>Hong Kong, China</td><td>hong-kong--china</td><td>P</td></tr><tr><td>HON</td><td>Honduras</td><td>Honduras</td><td>honduras</td><td>P</td></tr><tr><td>HUN</td><td>Hungary</td><td>Hungary</td><td>hungary</td><td>P</td></tr><tr><td>INA</td><td>Indonesia</td><td>Indonesia</td><td>indonesia</td><td>P</td></tr><tr><td>IND</td><td>India</td><td>India</td><td>india</td><td>P</td></tr><tr><td>IOA</td><td>IOA</td><td>Independent Olympic Athletes</td><td>ioa</td><td>NP</td></tr><tr><td>IOP</td><td>IOP</td><td>Independent Olympic Participants</td><td>iop</td><td>H</td></tr><tr><td>IRI</td><td>IR Iran</td><td>Islamic Republic of Iran</td><td>ir-iran</td><td>P</td></tr><tr><td>IRL</td><td>Ireland</td><td>Ireland</td><td>ireland</td><td>P</td></tr><tr><td>IRQ</td><td>Iraq</td><td>Iraq</td><td>iraq</td><td>P</td></tr><tr><td>ISL</td><td>Iceland</td><td>Iceland</td><td>iceland</td><td>P</td></tr><tr><td>ISR</td><td>Israel</td><td>Israel</td><td>israel</td><td>P</td></tr><tr><td>ISV</td><td>Virgin Islands, US</td><td>Virgin Islands, US</td><td>virgin-islands--us</td><td>P</td></tr><tr><td>ITA</td><td>Italy</td><td>Italy</td><td>italy</td><td>P</td></tr><tr><td>IVB</td><td>Virgin Islands, B</td><td>Virgin Islands, British</td><td>virgin-islands--b</td><td>P</td></tr><tr><td>JAM</td><td>Jamaica</td><td>Jamaica</td><td>jamaica</td><td>P</td></tr><tr><td>JOR</td><td>Jordan</td><td>Jordan</td><td>jordan</td><td>P</td></tr><tr><td>JPN</td><td>Japan</td><td>Japan</td><td>japan</td><td>P</td></tr><tr><td>KAZ</td><td>Kazakhstan</td><td>Kazakhstan</td><td>kazakhstan</td><td>P</td></tr><tr><td>KEN</td><td>Kenya</td><td>Kenya</td><td>kenya</td><td>P</td></tr><tr><td>KGZ</td><td>Kyrgyzstan</td><td>Kyrgyzstan</td><td>kyrgyzstan</td><td>P</td></tr><tr><td>KIR</td><td>Kiribati</td><td>Kiribati</td><td>kiribati</td><td>P</td></tr><tr><td>KOR</td><td>Korea</td><td>Republic of Korea</td><td>korea</td><td>P</td></tr><tr><td>KOS</td><td>Kosovo</td><td>Kosovo</td><td>kosovo</td><td>P</td></tr><tr><td>KSA</td><td>Saudi Arabia</td><td>Saudi Arabia</td><td>saudi-arabia</td><td>P</td></tr><tr><td>KUW</td><td>Kuwait</td><td>Kuwait</td><td>kuwait</td><td>P</td></tr><tr><td>LAO</td><td>Lao PDR</td><td>Lao People's Democratic Republic</td><td>lao-pdr</td><td>P</td></tr><tr><td>LAT</td><td>Latvia</td><td>Latvia</td><td>latvia</td><td>P</td></tr><tr><td>LBA</td><td>Libya</td><td>Libya</td><td>libya</td><td>P</td></tr><tr><td>LBN</td><td>Lebanon</td><td>Lebanon</td><td>lebanon</td><td>P</td></tr><tr><td>LBR</td><td>Liberia</td><td>Liberia</td><td>liberia</td><td>P</td></tr><tr><td>LCA</td><td>Saint Lucia</td><td>Saint Lucia</td><td>saint-lucia</td><td>P</td></tr><tr><td>LES</td><td>Lesotho</td><td>Lesotho</td><td>lesotho</td><td>P</td></tr><tr><td>LIE</td><td>Liechtenstein</td><td>Liechtenstein</td><td>liechtenstein</td><td>P</td></tr><tr><td>LTU</td><td>Lithuania</td><td>Lithuania</td><td>lithuania</td><td>P</td></tr><tr><td>LUX</td><td>Luxembourg</td><td>Luxembourg</td><td>luxembourg</td><td>P</td></tr><tr><td>MAD</td><td>Madagascar</td><td>Madagascar</td><td>madagascar</td><td>P</td></tr><tr><td>MAR</td><td>Morocco</td><td>Morocco</td><td>morocco</td><td>P</td></tr><tr><td>MAS</td><td>Malaysia</td><td>Malaysia</td><td>malaysia</td><td>P</td></tr><tr><td>MAW</td><td>Malawi</td><td>Malawi</td><td>malawi</td><td>P</td></tr><tr><td>MDA</td><td>Republic of Moldova</td><td>Republic of Moldova</td><td>republic-of-moldova</td><td>P</td></tr><tr><td>MDV</td><td>Maldives</td><td>Maldives</td><td>maldives</td><td>P</td></tr><tr><td>MEX</td><td>Mexico</td><td>Mexico</td><td>mexico</td><td>P</td></tr><tr><td>MGL</td><td>Mongolia</td><td>Mongolia</td><td>mongolia</td><td>P</td></tr><tr><td>MHL</td><td>Marshall Islands</td><td>Marshall Islands</td><td>marshall-islands</td><td>P</td></tr><tr><td>MKD</td><td>North Macedonia</td><td>North Macedonia</td><td>north-macedonia</td><td>P</td></tr><tr><td>MLI</td><td>Mali</td><td>Mali</td><td>mali</td><td>P</td></tr><tr><td>MLT</td><td>Malta</td><td>Malta</td><td>malta</td><td>P</td></tr><tr><td>MNE</td><td>Montenegro</td><td>Montenegro</td><td>montenegro</td><td>P</td></tr><tr><td>MON</td><td>Monaco</td><td>Monaco</td><td>monaco</td><td>P</td></tr><tr><td>MOZ</td><td>Mozambique</td><td>Mozambique</td><td>mozambique</td><td>P</td></tr><tr><td>MRI</td><td>Mauritius</td><td>Mauritius</td><td>mauritius</td><td>P</td></tr><tr><td>MTN</td><td>Mauritania</td><td>Mauritania</td><td>mauritania</td><td>P</td></tr><tr><td>MYA</td><td>Myanmar</td><td>Myanmar</td><td>myanmar</td><td>P</td></tr><tr><td>NAM</td><td>Namibia</td><td>Namibia</td><td>namibia</td><td>P</td></tr><tr><td>NCA</td><td>Nicaragua</td><td>Nicaragua</td><td>nicaragua</td><td>P</td></tr><tr><td>NED</td><td>Netherlands</td><td>Netherlands</td><td>netherlands</td><td>P</td></tr><tr><td>NEP</td><td>Nepal</td><td>Nepal</td><td>nepal</td><td>P</td></tr><tr><td>NGR</td><td>Nigeria</td><td>Nigeria</td><td>nigeria</td><td>P</td></tr><tr><td>NIG</td><td>Niger</td><td>Niger</td><td>niger</td><td>P</td></tr><tr><td>NOR</td><td>Norway</td><td>Norway</td><td>norway</td><td>P</td></tr><tr><td>NRU</td><td>Nauru</td><td>Nauru</td><td>nauru</td><td>P</td></tr><tr><td>NZL</td><td>New Zealand</td><td>New Zealand</td><td>new-zealand</td><td>P</td></tr><tr><td>OAR</td><td>OAR</td><td>Olympic Athlete from Russia</td><td>oar</td><td>H</td></tr><tr><td>OMA</td><td>Oman</td><td>Oman</td><td>oman</td><td>P</td></tr><tr><td>PAK</td><td>Pakistan</td><td>Pakistan</td><td>pakistan</td><td>P</td></tr><tr><td>PAN</td><td>Panama</td><td>Panama</td><td>panama</td><td>P</td></tr><tr><td>PAR</td><td>Paraguay</td><td>Paraguay</td><td>paraguay</td><td>P</td></tr><tr><td>PER</td><td>Peru</td><td>Peru</td><td>peru</td><td>P</td></tr><tr><td>PHI</td><td>Philippines</td><td>Philippines</td><td>philippines</td><td>P</td></tr><tr><td>PLE</td><td>Palestine</td><td>Palestine</td><td>palestine</td><td>P</td></tr><tr><td>PLW</td><td>Palau</td><td>Palau</td><td>palau</td><td>P</td></tr><tr><td>PNG</td><td>Papua New Guinea</td><td>Papua New Guinea</td><td>papua-new-guinea</td><td>P</td></tr><tr><td>POL</td><td>Poland</td><td>Poland</td><td>poland</td><td>P</td></tr><tr><td>POR</td><td>Portugal</td><td>Portugal</td><td>portugal</td><td>P</td></tr><tr><td>PRK</td><td>DPR Korea</td><td>Democratic People's Republic of Korea</td><td>dpr-korea</td><td>P</td></tr><tr><td>PUR</td><td>Puerto Rico</td><td>Puerto Rico</td><td>puerto-rico</td><td>P</td></tr><tr><td>QAT</td><td>Qatar</td><td>Qatar</td><td>qatar</td><td>P</td></tr><tr><td>ROC</td><td>ROC</td><td>ROC</td><td>roc</td><td>H</td></tr><tr><td>ROT</td><td>ROT</td><td>Refugee Olympic Team</td><td>rot</td><td>H</td></tr><tr><td>ROU</td><td>Romania</td><td>Romania</td><td>romania</td><td>P</td></tr><tr><td>RSA</td><td>South Africa</td><td>South Africa</td><td>south-africa</td><td>P</td></tr><tr><td>RUS</td><td>Russian Federation</td><td>Russian Federation</td><td>russian-federation</td><td>NP</td></tr><tr><td>RWA</td><td>Rwanda</td><td>Rwanda</td><td>rwanda</td><td>P</td></tr><tr><td>SAM</td><td>Samoa</td><td>Samoa</td><td>samoa</td><td>P</td></tr><tr><td>SCG</td><td>Serbia & Montenegro</td><td>Serbia and Montenegro</td><td>serbia-and-montenegro</td><td>H</td></tr><tr><td>SEN</td><td>Senegal</td><td>Senegal</td><td>senegal</td><td>P</td></tr><tr><td>SEY</td><td>Seychelles</td><td>Seychelles</td><td>seychelles</td><td>P</td></tr><tr><td>SGP</td><td>Singapore</td><td>Singapore</td><td>singapore</td><td>P</td></tr><tr><td>SKN</td><td>St Kitts and Nevis</td><td>Saint Kitts and Nevis</td><td>st-kitts-and-nevis</td><td>P</td></tr><tr><td>SLE</td><td>Sierra Leone</td><td>Sierra Leone</td><td>sierra-leone</td><td>P</td></tr><tr><td>SLO</td><td>Slovenia</td><td>Slovenia</td><td>slovenia</td><td>P</td></tr><tr><td>SMR</td><td>San Marino</td><td>San Marino</td><td>san-marino</td><td>P</td></tr><tr><td>SOL</td><td>Solomon Islands</td><td>Solomon Islands</td><td>solomon-islands</td><td>P</td></tr><tr><td>SOM</td><td>Somalia</td><td>Somalia</td><td>somalia</td><td>P</td></tr><tr><td>SRB</td><td>Serbia</td><td>Serbia</td><td>serbia</td><td>P</td></tr><tr><td>SRI</td><td>Sri Lanka</td><td>Sri Lanka</td><td>sri-lanka</td><td>P</td></tr><tr><td>SSD</td><td>South Sudan</td><td>South Sudan</td><td>south-sudan</td><td>P</td></tr><tr><td>STP</td><td>Sao Tome & Principe</td><td>Sao Tome and Principe</td><td>sao-tome-and-principe</td><td>P</td></tr><tr><td>SUD</td><td>Sudan</td><td>Sudan</td><td>sudan</td><td>P</td></tr><tr><td>SUI</td><td>Switzerland</td><td>Switzerland</td><td>switzerland</td><td>P</td></tr><tr><td>SUR</td><td>Suriname</td><td>Suriname</td><td>suriname</td><td>P</td></tr><tr><td>SVK</td><td>Slovakia</td><td>Slovakia</td><td>slovakia</td><td>P</td></tr><tr><td>SWE</td><td>Sweden</td><td>Sweden</td><td>sweden</td><td>P</td></tr><tr><td>SWZ</td><td>Eswatini</td><td>Eswatini</td><td>eswatini</td><td>P</td></tr><tr><td>SYR</td><td>Syria</td><td>Syrian Arab Republic</td><td>syria</td><td>P</td></tr><tr><td>TAN</td><td>Tanzania</td><td>United Republic of Tanzania</td><td>tanzania</td><td>P</td></tr><tr><td>TCH</td><td>Czechoslovakia</td><td>Czechoslovakia</td><td>czechoslovakia</td><td>H</td></tr><tr><td>TGA</td><td>Tonga</td><td>Tonga</td><td>tonga</td><td>P</td></tr><tr><td>THA</td><td>Thailand</td><td>Thailand</td><td>thailand</td><td>P</td></tr><tr><td>TJK</td><td>Tajikistan</td><td>Tajikistan</td><td>tajikistan</td><td>P</td></tr><tr><td>TKM</td><td>Turkmenistan</td><td>Turkmenistan</td><td>turkmenistan</td><td>P</td></tr><tr><td>TLS</td><td>Timor-Leste</td><td>Democratic Republic of Timor-Leste</td><td>timor-leste</td><td>P</td></tr><tr><td>TOG</td><td>Togo</td><td>Togo</td><td>togo</td><td>P</td></tr><tr><td>TPE</td><td>Chinese Taipei</td><td>Chinese Taipei</td><td>chinese-taipei</td><td>P</td></tr><tr><td>TTO</td><td>Trinidad and Tobago</td><td>Trinidad and Tobago</td><td>trinidad-and-tobago</td><td>P</td></tr><tr><td>TUN</td><td>Tunisia</td><td>Tunisia</td><td>tunisia</td><td>P</td></tr><tr><td>TUR</td><td>Türkiye</td><td>Türkiye</td><td>turkiye</td><td>P</td></tr><tr><td>TUV</td><td>Tuvalu</td><td>Tuvalu</td><td>tuvalu</td><td>P</td></tr><tr><td>UAE</td><td>UA Emirates</td><td>United Arab Emirates</td><td>ua-emirates</td><td>P</td></tr><tr><td>UGA</td><td>Uganda</td><td>Uganda</td><td>uganda</td><td>P</td></tr><tr><td>UKR</td><td>Ukraine</td><td>Ukraine</td><td>ukraine</td><td>P</td></tr><tr><td>URS</td><td>USSR</td><td>USSR</td><td>ussr</td><td>H</td></tr><tr><td>URU</td><td>Uruguay</td><td>Uruguay</td><td>uruguay</td><td>P</td></tr><tr><td>USA</td><td>United States</td><td>United States of America</td><td>united-states</td><td>P</td></tr><tr><td>UZB</td><td>Uzbekistan</td><td>Uzbekistan</td><td>uzbekistan</td><td>P</td></tr><tr><td>VAN</td><td>Vanuatu</td><td>Vanuatu</td><td>vanuatu</td><td>P</td></tr><tr><td>VEN</td><td>Venezuela</td><td>Venezuela</td><td>venezuela</td><td>P</td></tr><tr><td>VIE</td><td>Vietnam</td><td>Vietnam</td><td>vietnam</td><td>P</td></tr><tr><td>VIN</td><td>StVincent&Grenadines</td><td>St Vincent and the Grenadines</td><td>stvincentandgrenadines</td><td>P</td></tr><tr><td>YEM</td><td>Yemen</td><td>Yemen</td><td>yemen</td><td>P</td></tr><tr><td>YUG</td><td>Yugoslavia</td><td>The Federal Republic of Yugoslavia</td><td>yugoslavia</td><td>H</td></tr><tr><td>ZAM</td><td>Zambia</td><td>Zambia</td><td>zambia</td><td>P</td></tr><tr><td>ZIM</td><td>Zimbabwe</td><td>Zimbabwe</td><td>zimbabwe</td><td>P</td></tr></tbody></table></div>"
      ]
     },
     "metadata": {
      "application/vnd.databricks.v1+output": {
       "addedWidgets": {},
       "aggData": [],
       "aggError": "",
       "aggOverflow": false,
       "aggSchema": [],
       "aggSeriesLimitReached": false,
       "aggType": "",
       "arguments": {},
       "columnCustomDisplayInfos": {},
       "data": [
        [
         "AFG",
         "Afghanistan",
         "Afghanistan",
         "afghanistan",
         "P"
        ],
        [
         "AHO",
         "Netherlands Antilles",
         "Netherlands Antilles",
         "netherlands-antilles",
         "H"
        ],
        [
         "AIN",
         "AIN",
         "AIN",
         "ain",
         "P"
        ],
        [
         "ALB",
         "Albania",
         "Albania",
         "albania",
         "P"
        ],
        [
         "ALG",
         "Algeria",
         "Algeria",
         "algeria",
         "P"
        ],
        [
         "AND",
         "Andorra",
         "Andorra",
         "andorra",
         "P"
        ],
        [
         "ANG",
         "Angola",
         "Angola",
         "angola",
         "P"
        ],
        [
         "ANT",
         "Antigua and Barbuda",
         "Antigua and Barbuda",
         "antigua-and-barbuda",
         "P"
        ],
        [
         "ARG",
         "Argentina",
         "Argentina",
         "argentina",
         "P"
        ],
        [
         "ARM",
         "Armenia",
         "Armenia",
         "armenia",
         "P"
        ],
        [
         "ARU",
         "Aruba",
         "Aruba",
         "aruba",
         "P"
        ],
        [
         "ASA",
         "American Samoa",
         "American Samoa",
         "american-samoa",
         "P"
        ],
        [
         "AUS",
         "Australia",
         "Australia",
         "australia",
         "P"
        ],
        [
         "AUT",
         "Austria",
         "Austria",
         "austria",
         "P"
        ],
        [
         "AZE",
         "Azerbaijan",
         "Azerbaijan",
         "azerbaijan",
         "P"
        ],
        [
         "BAH",
         "Bahamas",
         "Bahamas",
         "bahamas",
         "P"
        ],
        [
         "BAN",
         "Bangladesh",
         "Bangladesh",
         "bangladesh",
         "P"
        ],
        [
         "BAR",
         "Barbados",
         "Barbados",
         "barbados",
         "P"
        ],
        [
         "BDI",
         "Burundi",
         "Burundi",
         "burundi",
         "P"
        ],
        [
         "BEL",
         "Belgium",
         "Belgium",
         "belgium",
         "P"
        ],
        [
         "BEN",
         "Benin",
         "Benin",
         "benin",
         "P"
        ],
        [
         "BER",
         "Bermuda",
         "Bermuda",
         "bermuda",
         "P"
        ],
        [
         "BHU",
         "Bhutan",
         "Bhutan",
         "bhutan",
         "P"
        ],
        [
         "BIH",
         "Bosnia & Herzegovina",
         "Bosnia and Herzegovina",
         "bosnia-and-herzegovina",
         "P"
        ],
        [
         "BIZ",
         "Belize",
         "Belize",
         "belize",
         "P"
        ],
        [
         "BLR",
         "Belarus",
         "Belarus",
         "belarus",
         "NP"
        ],
        [
         "BOC",
         "BOC",
         "BOC",
         "boc",
         "H"
        ],
        [
         "BOL",
         "Bolivia",
         "Bolivia",
         "bolivia",
         "P"
        ],
        [
         "BOT",
         "Botswana",
         "Botswana",
         "botswana",
         "P"
        ],
        [
         "BRA",
         "Brazil",
         "Brazil",
         "brazil",
         "P"
        ],
        [
         "BRN",
         "Bahrain",
         "Bahrain",
         "bahrain",
         "P"
        ],
        [
         "BRU",
         "Brunei Darussalam",
         "Brunei Darussalam",
         "brunei-darussalam",
         "P"
        ],
        [
         "BUL",
         "Bulgaria",
         "Bulgaria",
         "bulgaria",
         "P"
        ],
        [
         "BUR",
         "Burkina Faso",
         "Burkina Faso",
         "burkina-faso",
         "P"
        ],
        [
         "CAF",
         "Centr Afric Rep",
         "Central African Republic",
         "centr-afric-rep",
         "P"
        ],
        [
         "CAM",
         "Cambodia",
         "Cambodia",
         "cambodia",
         "P"
        ],
        [
         "CAN",
         "Canada",
         "Canada",
         "canada",
         "P"
        ],
        [
         "CAY",
         "Cayman Islands",
         "Cayman Islands",
         "cayman-islands",
         "P"
        ],
        [
         "CGO",
         "Congo",
         "Congo",
         "congo",
         "P"
        ],
        [
         "CHA",
         "Chad",
         "Chad",
         "chad",
         "P"
        ],
        [
         "CHI",
         "Chile",
         "Chile",
         "chile",
         "P"
        ],
        [
         "CHN",
         "China",
         "People's Republic of China",
         "china",
         "P"
        ],
        [
         "CIS",
         "CIS",
         "Commonwealth of Independent States",
         "cis",
         "H"
        ],
        [
         "CIV",
         "Côte d'Ivoire",
         "Côte d'Ivoire",
         "cote-d-ivoire",
         "P"
        ],
        [
         "CMR",
         "Cameroon",
         "Cameroon",
         "cameroon",
         "P"
        ],
        [
         "COD",
         "DR Congo",
         "Democratic Republic of the Congo",
         "dr-congo",
         "P"
        ],
        [
         "COK",
         "Cook Islands",
         "Cook Islands",
         "cook-islands",
         "P"
        ],
        [
         "COL",
         "Colombia",
         "Colombia",
         "colombia",
         "P"
        ],
        [
         "COM",
         "Comoros",
         "Comoros",
         "comoros",
         "P"
        ],
        [
         "COR",
         "Korea",
         "Korea",
         "korea",
         "H"
        ],
        [
         "CPV",
         "Cabo Verde",
         "Cabo Verde",
         "cabo-verde",
         "P"
        ],
        [
         "CRC",
         "Costa Rica",
         "Costa Rica",
         "costa-rica",
         "P"
        ],
        [
         "CRO",
         "Croatia",
         "Croatia",
         "croatia",
         "P"
        ],
        [
         "CUB",
         "Cuba",
         "Cuba",
         "cuba",
         "P"
        ],
        [
         "CYP",
         "Cyprus",
         "Cyprus",
         "cyprus",
         "P"
        ],
        [
         "CZE",
         "Czechia",
         "Czechia",
         "czechia",
         "P"
        ],
        [
         "DEN",
         "Denmark",
         "Denmark",
         "denmark",
         "P"
        ],
        [
         "DJI",
         "Djibouti",
         "Djibouti",
         "djibouti",
         "P"
        ],
        [
         "DMA",
         "Dominica",
         "Dominica",
         "dominica",
         "P"
        ],
        [
         "DOM",
         "Dominican Republic",
         "Dominican Republic",
         "dominican-republic",
         "P"
        ],
        [
         "ECU",
         "Ecuador",
         "Ecuador",
         "ecuador",
         "P"
        ],
        [
         "EGY",
         "Egypt",
         "Egypt",
         "egypt",
         "P"
        ],
        [
         "EOR",
         "EOR",
         "Refugee Olympic Team",
         "eor",
         "P"
        ],
        [
         "ERI",
         "Eritrea",
         "Eritrea",
         "eritrea",
         "P"
        ],
        [
         "ESA",
         "El Salvador",
         "El Salvador",
         "el-salvador",
         "P"
        ],
        [
         "ESP",
         "Spain",
         "Spain",
         "spain",
         "P"
        ],
        [
         "EST",
         "Estonia",
         "Estonia",
         "estonia",
         "P"
        ],
        [
         "ETH",
         "Ethiopia",
         "Ethiopia",
         "ethiopia",
         "P"
        ],
        [
         "EUN",
         "Unified Team",
         "Unified Team",
         "unified-team",
         "H"
        ],
        [
         "FIJ",
         "Fiji",
         "Fiji",
         "fiji",
         "P"
        ],
        [
         "FIN",
         "Finland",
         "Finland",
         "finland",
         "P"
        ],
        [
         "FRA",
         "France",
         "France",
         "france",
         "P"
        ],
        [
         "FRG",
         "FRG",
         "Federal Republic of Germany",
         "frg",
         "H"
        ],
        [
         "FSM",
         "Micronesia",
         "Federated States of Micronesia",
         "micronesia",
         "P"
        ],
        [
         "GAB",
         "Gabon",
         "Gabon",
         "gabon",
         "P"
        ],
        [
         "GAM",
         "Gambia",
         "Gambia",
         "gambia",
         "P"
        ],
        [
         "GBR",
         "Great Britain",
         "Great Britain",
         "great-britain",
         "P"
        ],
        [
         "GBS",
         "Guinea-Bissau",
         "Guinea-Bissau",
         "guinea-bissau",
         "P"
        ],
        [
         "GDR",
         "German Dem. Republic",
         "German Democratic Republic",
         "german-dem--republic",
         "H"
        ],
        [
         "GEO",
         "Georgia",
         "Georgia",
         "georgia",
         "P"
        ],
        [
         "GEQ",
         "Equatorial Guinea",
         "Equatorial Guinea",
         "equatorial-guinea",
         "P"
        ],
        [
         "GER",
         "Germany",
         "Germany",
         "germany",
         "P"
        ],
        [
         "GHA",
         "Ghana",
         "Ghana",
         "ghana",
         "P"
        ],
        [
         "GRE",
         "Greece",
         "Greece",
         "greece",
         "P"
        ],
        [
         "GRN",
         "Grenada",
         "Grenada",
         "grenada",
         "P"
        ],
        [
         "GUA",
         "Guatemala",
         "Guatemala",
         "guatemala",
         "P"
        ],
        [
         "GUI",
         "Guinea",
         "Guinea",
         "guinea",
         "P"
        ],
        [
         "GUM",
         "Guam",
         "Guam",
         "guam",
         "P"
        ],
        [
         "GUY",
         "Guyana",
         "Guyana",
         "guyana",
         "P"
        ],
        [
         "HAI",
         "Haiti",
         "Haiti",
         "haiti",
         "P"
        ],
        [
         "HKG",
         "Hong Kong, China",
         "Hong Kong, China",
         "hong-kong--china",
         "P"
        ],
        [
         "HON",
         "Honduras",
         "Honduras",
         "honduras",
         "P"
        ],
        [
         "HUN",
         "Hungary",
         "Hungary",
         "hungary",
         "P"
        ],
        [
         "INA",
         "Indonesia",
         "Indonesia",
         "indonesia",
         "P"
        ],
        [
         "IND",
         "India",
         "India",
         "india",
         "P"
        ],
        [
         "IOA",
         "IOA",
         "Independent Olympic Athletes",
         "ioa",
         "NP"
        ],
        [
         "IOP",
         "IOP",
         "Independent Olympic Participants",
         "iop",
         "H"
        ],
        [
         "IRI",
         "IR Iran",
         "Islamic Republic of Iran",
         "ir-iran",
         "P"
        ],
        [
         "IRL",
         "Ireland",
         "Ireland",
         "ireland",
         "P"
        ],
        [
         "IRQ",
         "Iraq",
         "Iraq",
         "iraq",
         "P"
        ],
        [
         "ISL",
         "Iceland",
         "Iceland",
         "iceland",
         "P"
        ],
        [
         "ISR",
         "Israel",
         "Israel",
         "israel",
         "P"
        ],
        [
         "ISV",
         "Virgin Islands, US",
         "Virgin Islands, US",
         "virgin-islands--us",
         "P"
        ],
        [
         "ITA",
         "Italy",
         "Italy",
         "italy",
         "P"
        ],
        [
         "IVB",
         "Virgin Islands, B",
         "Virgin Islands, British",
         "virgin-islands--b",
         "P"
        ],
        [
         "JAM",
         "Jamaica",
         "Jamaica",
         "jamaica",
         "P"
        ],
        [
         "JOR",
         "Jordan",
         "Jordan",
         "jordan",
         "P"
        ],
        [
         "JPN",
         "Japan",
         "Japan",
         "japan",
         "P"
        ],
        [
         "KAZ",
         "Kazakhstan",
         "Kazakhstan",
         "kazakhstan",
         "P"
        ],
        [
         "KEN",
         "Kenya",
         "Kenya",
         "kenya",
         "P"
        ],
        [
         "KGZ",
         "Kyrgyzstan",
         "Kyrgyzstan",
         "kyrgyzstan",
         "P"
        ],
        [
         "KIR",
         "Kiribati",
         "Kiribati",
         "kiribati",
         "P"
        ],
        [
         "KOR",
         "Korea",
         "Republic of Korea",
         "korea",
         "P"
        ],
        [
         "KOS",
         "Kosovo",
         "Kosovo",
         "kosovo",
         "P"
        ],
        [
         "KSA",
         "Saudi Arabia",
         "Saudi Arabia",
         "saudi-arabia",
         "P"
        ],
        [
         "KUW",
         "Kuwait",
         "Kuwait",
         "kuwait",
         "P"
        ],
        [
         "LAO",
         "Lao PDR",
         "Lao People's Democratic Republic",
         "lao-pdr",
         "P"
        ],
        [
         "LAT",
         "Latvia",
         "Latvia",
         "latvia",
         "P"
        ],
        [
         "LBA",
         "Libya",
         "Libya",
         "libya",
         "P"
        ],
        [
         "LBN",
         "Lebanon",
         "Lebanon",
         "lebanon",
         "P"
        ],
        [
         "LBR",
         "Liberia",
         "Liberia",
         "liberia",
         "P"
        ],
        [
         "LCA",
         "Saint Lucia",
         "Saint Lucia",
         "saint-lucia",
         "P"
        ],
        [
         "LES",
         "Lesotho",
         "Lesotho",
         "lesotho",
         "P"
        ],
        [
         "LIE",
         "Liechtenstein",
         "Liechtenstein",
         "liechtenstein",
         "P"
        ],
        [
         "LTU",
         "Lithuania",
         "Lithuania",
         "lithuania",
         "P"
        ],
        [
         "LUX",
         "Luxembourg",
         "Luxembourg",
         "luxembourg",
         "P"
        ],
        [
         "MAD",
         "Madagascar",
         "Madagascar",
         "madagascar",
         "P"
        ],
        [
         "MAR",
         "Morocco",
         "Morocco",
         "morocco",
         "P"
        ],
        [
         "MAS",
         "Malaysia",
         "Malaysia",
         "malaysia",
         "P"
        ],
        [
         "MAW",
         "Malawi",
         "Malawi",
         "malawi",
         "P"
        ],
        [
         "MDA",
         "Republic of Moldova",
         "Republic of Moldova",
         "republic-of-moldova",
         "P"
        ],
        [
         "MDV",
         "Maldives",
         "Maldives",
         "maldives",
         "P"
        ],
        [
         "MEX",
         "Mexico",
         "Mexico",
         "mexico",
         "P"
        ],
        [
         "MGL",
         "Mongolia",
         "Mongolia",
         "mongolia",
         "P"
        ],
        [
         "MHL",
         "Marshall Islands",
         "Marshall Islands",
         "marshall-islands",
         "P"
        ],
        [
         "MKD",
         "North Macedonia",
         "North Macedonia",
         "north-macedonia",
         "P"
        ],
        [
         "MLI",
         "Mali",
         "Mali",
         "mali",
         "P"
        ],
        [
         "MLT",
         "Malta",
         "Malta",
         "malta",
         "P"
        ],
        [
         "MNE",
         "Montenegro",
         "Montenegro",
         "montenegro",
         "P"
        ],
        [
         "MON",
         "Monaco",
         "Monaco",
         "monaco",
         "P"
        ],
        [
         "MOZ",
         "Mozambique",
         "Mozambique",
         "mozambique",
         "P"
        ],
        [
         "MRI",
         "Mauritius",
         "Mauritius",
         "mauritius",
         "P"
        ],
        [
         "MTN",
         "Mauritania",
         "Mauritania",
         "mauritania",
         "P"
        ],
        [
         "MYA",
         "Myanmar",
         "Myanmar",
         "myanmar",
         "P"
        ],
        [
         "NAM",
         "Namibia",
         "Namibia",
         "namibia",
         "P"
        ],
        [
         "NCA",
         "Nicaragua",
         "Nicaragua",
         "nicaragua",
         "P"
        ],
        [
         "NED",
         "Netherlands",
         "Netherlands",
         "netherlands",
         "P"
        ],
        [
         "NEP",
         "Nepal",
         "Nepal",
         "nepal",
         "P"
        ],
        [
         "NGR",
         "Nigeria",
         "Nigeria",
         "nigeria",
         "P"
        ],
        [
         "NIG",
         "Niger",
         "Niger",
         "niger",
         "P"
        ],
        [
         "NOR",
         "Norway",
         "Norway",
         "norway",
         "P"
        ],
        [
         "NRU",
         "Nauru",
         "Nauru",
         "nauru",
         "P"
        ],
        [
         "NZL",
         "New Zealand",
         "New Zealand",
         "new-zealand",
         "P"
        ],
        [
         "OAR",
         "OAR",
         "Olympic Athlete from Russia",
         "oar",
         "H"
        ],
        [
         "OMA",
         "Oman",
         "Oman",
         "oman",
         "P"
        ],
        [
         "PAK",
         "Pakistan",
         "Pakistan",
         "pakistan",
         "P"
        ],
        [
         "PAN",
         "Panama",
         "Panama",
         "panama",
         "P"
        ],
        [
         "PAR",
         "Paraguay",
         "Paraguay",
         "paraguay",
         "P"
        ],
        [
         "PER",
         "Peru",
         "Peru",
         "peru",
         "P"
        ],
        [
         "PHI",
         "Philippines",
         "Philippines",
         "philippines",
         "P"
        ],
        [
         "PLE",
         "Palestine",
         "Palestine",
         "palestine",
         "P"
        ],
        [
         "PLW",
         "Palau",
         "Palau",
         "palau",
         "P"
        ],
        [
         "PNG",
         "Papua New Guinea",
         "Papua New Guinea",
         "papua-new-guinea",
         "P"
        ],
        [
         "POL",
         "Poland",
         "Poland",
         "poland",
         "P"
        ],
        [
         "POR",
         "Portugal",
         "Portugal",
         "portugal",
         "P"
        ],
        [
         "PRK",
         "DPR Korea",
         "Democratic People's Republic of Korea",
         "dpr-korea",
         "P"
        ],
        [
         "PUR",
         "Puerto Rico",
         "Puerto Rico",
         "puerto-rico",
         "P"
        ],
        [
         "QAT",
         "Qatar",
         "Qatar",
         "qatar",
         "P"
        ],
        [
         "ROC",
         "ROC",
         "ROC",
         "roc",
         "H"
        ],
        [
         "ROT",
         "ROT",
         "Refugee Olympic Team",
         "rot",
         "H"
        ],
        [
         "ROU",
         "Romania",
         "Romania",
         "romania",
         "P"
        ],
        [
         "RSA",
         "South Africa",
         "South Africa",
         "south-africa",
         "P"
        ],
        [
         "RUS",
         "Russian Federation",
         "Russian Federation",
         "russian-federation",
         "NP"
        ],
        [
         "RWA",
         "Rwanda",
         "Rwanda",
         "rwanda",
         "P"
        ],
        [
         "SAM",
         "Samoa",
         "Samoa",
         "samoa",
         "P"
        ],
        [
         "SCG",
         "Serbia & Montenegro",
         "Serbia and Montenegro",
         "serbia-and-montenegro",
         "H"
        ],
        [
         "SEN",
         "Senegal",
         "Senegal",
         "senegal",
         "P"
        ],
        [
         "SEY",
         "Seychelles",
         "Seychelles",
         "seychelles",
         "P"
        ],
        [
         "SGP",
         "Singapore",
         "Singapore",
         "singapore",
         "P"
        ],
        [
         "SKN",
         "St Kitts and Nevis",
         "Saint Kitts and Nevis",
         "st-kitts-and-nevis",
         "P"
        ],
        [
         "SLE",
         "Sierra Leone",
         "Sierra Leone",
         "sierra-leone",
         "P"
        ],
        [
         "SLO",
         "Slovenia",
         "Slovenia",
         "slovenia",
         "P"
        ],
        [
         "SMR",
         "San Marino",
         "San Marino",
         "san-marino",
         "P"
        ],
        [
         "SOL",
         "Solomon Islands",
         "Solomon Islands",
         "solomon-islands",
         "P"
        ],
        [
         "SOM",
         "Somalia",
         "Somalia",
         "somalia",
         "P"
        ],
        [
         "SRB",
         "Serbia",
         "Serbia",
         "serbia",
         "P"
        ],
        [
         "SRI",
         "Sri Lanka",
         "Sri Lanka",
         "sri-lanka",
         "P"
        ],
        [
         "SSD",
         "South Sudan",
         "South Sudan",
         "south-sudan",
         "P"
        ],
        [
         "STP",
         "Sao Tome & Principe",
         "Sao Tome and Principe",
         "sao-tome-and-principe",
         "P"
        ],
        [
         "SUD",
         "Sudan",
         "Sudan",
         "sudan",
         "P"
        ],
        [
         "SUI",
         "Switzerland",
         "Switzerland",
         "switzerland",
         "P"
        ],
        [
         "SUR",
         "Suriname",
         "Suriname",
         "suriname",
         "P"
        ],
        [
         "SVK",
         "Slovakia",
         "Slovakia",
         "slovakia",
         "P"
        ],
        [
         "SWE",
         "Sweden",
         "Sweden",
         "sweden",
         "P"
        ],
        [
         "SWZ",
         "Eswatini",
         "Eswatini",
         "eswatini",
         "P"
        ],
        [
         "SYR",
         "Syria",
         "Syrian Arab Republic",
         "syria",
         "P"
        ],
        [
         "TAN",
         "Tanzania",
         "United Republic of Tanzania",
         "tanzania",
         "P"
        ],
        [
         "TCH",
         "Czechoslovakia",
         "Czechoslovakia",
         "czechoslovakia",
         "H"
        ],
        [
         "TGA",
         "Tonga",
         "Tonga",
         "tonga",
         "P"
        ],
        [
         "THA",
         "Thailand",
         "Thailand",
         "thailand",
         "P"
        ],
        [
         "TJK",
         "Tajikistan",
         "Tajikistan",
         "tajikistan",
         "P"
        ],
        [
         "TKM",
         "Turkmenistan",
         "Turkmenistan",
         "turkmenistan",
         "P"
        ],
        [
         "TLS",
         "Timor-Leste",
         "Democratic Republic of Timor-Leste",
         "timor-leste",
         "P"
        ],
        [
         "TOG",
         "Togo",
         "Togo",
         "togo",
         "P"
        ],
        [
         "TPE",
         "Chinese Taipei",
         "Chinese Taipei",
         "chinese-taipei",
         "P"
        ],
        [
         "TTO",
         "Trinidad and Tobago",
         "Trinidad and Tobago",
         "trinidad-and-tobago",
         "P"
        ],
        [
         "TUN",
         "Tunisia",
         "Tunisia",
         "tunisia",
         "P"
        ],
        [
         "TUR",
         "Türkiye",
         "Türkiye",
         "turkiye",
         "P"
        ],
        [
         "TUV",
         "Tuvalu",
         "Tuvalu",
         "tuvalu",
         "P"
        ],
        [
         "UAE",
         "UA Emirates",
         "United Arab Emirates",
         "ua-emirates",
         "P"
        ],
        [
         "UGA",
         "Uganda",
         "Uganda",
         "uganda",
         "P"
        ],
        [
         "UKR",
         "Ukraine",
         "Ukraine",
         "ukraine",
         "P"
        ],
        [
         "URS",
         "USSR",
         "USSR",
         "ussr",
         "H"
        ],
        [
         "URU",
         "Uruguay",
         "Uruguay",
         "uruguay",
         "P"
        ],
        [
         "USA",
         "United States",
         "United States of America",
         "united-states",
         "P"
        ],
        [
         "UZB",
         "Uzbekistan",
         "Uzbekistan",
         "uzbekistan",
         "P"
        ],
        [
         "VAN",
         "Vanuatu",
         "Vanuatu",
         "vanuatu",
         "P"
        ],
        [
         "VEN",
         "Venezuela",
         "Venezuela",
         "venezuela",
         "P"
        ],
        [
         "VIE",
         "Vietnam",
         "Vietnam",
         "vietnam",
         "P"
        ],
        [
         "VIN",
         "StVincent&Grenadines",
         "St Vincent and the Grenadines",
         "stvincentandgrenadines",
         "P"
        ],
        [
         "YEM",
         "Yemen",
         "Yemen",
         "yemen",
         "P"
        ],
        [
         "YUG",
         "Yugoslavia",
         "The Federal Republic of Yugoslavia",
         "yugoslavia",
         "H"
        ],
        [
         "ZAM",
         "Zambia",
         "Zambia",
         "zambia",
         "P"
        ],
        [
         "ZIM",
         "Zimbabwe",
         "Zimbabwe",
         "zimbabwe",
         "P"
        ]
       ],
       "datasetInfos": [],
       "dbfsResultPath": null,
       "isJsonSchema": true,
       "metadata": {},
       "overflow": false,
       "plotOptions": {
        "customPlotOptions": {},
        "displayType": "table",
        "pivotAggregation": null,
        "pivotColumns": null,
        "xColumns": null,
        "yColumns": null
       },
       "removedWidgets": [],
       "schema": [
        {
         "metadata": "{}",
         "name": "code",
         "type": "\"string\""
        },
        {
         "metadata": "{}",
         "name": "country",
         "type": "\"string\""
        },
        {
         "metadata": "{}",
         "name": "country_long",
         "type": "\"string\""
        },
        {
         "metadata": "{}",
         "name": "tag",
         "type": "\"string\""
        },
        {
         "metadata": "{}",
         "name": "note",
         "type": "\"string\""
        }
       ],
       "type": "table"
      }
     },
     "output_type": "display_data"
    }
   ],
   "source": [
    "display(df)"
   ]
  },
  {
   "cell_type": "markdown",
   "metadata": {
    "application/vnd.databricks.v1+cell": {
     "cellMetadata": {},
     "inputWidgets": {},
     "nuid": "15785402-d2b5-46fc-96d3-9606b2ef6f8e",
     "showTitle": false,
     "tableResultSettingsMap": {},
     "title": ""
    }
   },
   "source": [
    "## Dropping country column"
   ]
  },
  {
   "cell_type": "code",
   "execution_count": 0,
   "metadata": {
    "application/vnd.databricks.v1+cell": {
     "cellMetadata": {
      "byteLimit": 2048000,
      "rowLimit": 10000
     },
     "inputWidgets": {},
     "nuid": "495f3b54-8e68-4de7-8e1b-518a62ad956f",
     "showTitle": false,
     "tableResultSettingsMap": {},
     "title": ""
    }
   },
   "outputs": [],
   "source": [
    "df = df.drop(\"country\")"
   ]
  },
  {
   "cell_type": "code",
   "execution_count": 0,
   "metadata": {
    "application/vnd.databricks.v1+cell": {
     "cellMetadata": {
      "byteLimit": 2048000,
      "rowLimit": 10000
     },
     "inputWidgets": {},
     "nuid": "8e20d31c-6ff5-467a-aeec-a7a056467743",
     "showTitle": false,
     "tableResultSettingsMap": {},
     "title": ""
    }
   },
   "outputs": [
    {
     "output_type": "display_data",
     "data": {
      "text/html": [
       "<style scoped>\n",
       "  .table-result-container {\n",
       "    max-height: 300px;\n",
       "    overflow: auto;\n",
       "  }\n",
       "  table, th, td {\n",
       "    border: 1px solid black;\n",
       "    border-collapse: collapse;\n",
       "  }\n",
       "  th, td {\n",
       "    padding: 5px;\n",
       "  }\n",
       "  th {\n",
       "    text-align: left;\n",
       "  }\n",
       "</style><div class='table-result-container'><table class='table-result'><thead style='background-color: white'><tr><th>code</th><th>country_long</th><th>tag</th><th>note</th></tr></thead><tbody><tr><td>AFG</td><td>Afghanistan</td><td>afghanistan</td><td>P</td></tr><tr><td>AHO</td><td>Netherlands Antilles</td><td>netherlands-antilles</td><td>H</td></tr><tr><td>AIN</td><td>AIN</td><td>ain</td><td>P</td></tr><tr><td>ALB</td><td>Albania</td><td>albania</td><td>P</td></tr><tr><td>ALG</td><td>Algeria</td><td>algeria</td><td>P</td></tr><tr><td>AND</td><td>Andorra</td><td>andorra</td><td>P</td></tr><tr><td>ANG</td><td>Angola</td><td>angola</td><td>P</td></tr><tr><td>ANT</td><td>Antigua and Barbuda</td><td>antigua-and-barbuda</td><td>P</td></tr><tr><td>ARG</td><td>Argentina</td><td>argentina</td><td>P</td></tr><tr><td>ARM</td><td>Armenia</td><td>armenia</td><td>P</td></tr><tr><td>ARU</td><td>Aruba</td><td>aruba</td><td>P</td></tr><tr><td>ASA</td><td>American Samoa</td><td>american-samoa</td><td>P</td></tr><tr><td>AUS</td><td>Australia</td><td>australia</td><td>P</td></tr><tr><td>AUT</td><td>Austria</td><td>austria</td><td>P</td></tr><tr><td>AZE</td><td>Azerbaijan</td><td>azerbaijan</td><td>P</td></tr><tr><td>BAH</td><td>Bahamas</td><td>bahamas</td><td>P</td></tr><tr><td>BAN</td><td>Bangladesh</td><td>bangladesh</td><td>P</td></tr><tr><td>BAR</td><td>Barbados</td><td>barbados</td><td>P</td></tr><tr><td>BDI</td><td>Burundi</td><td>burundi</td><td>P</td></tr><tr><td>BEL</td><td>Belgium</td><td>belgium</td><td>P</td></tr><tr><td>BEN</td><td>Benin</td><td>benin</td><td>P</td></tr><tr><td>BER</td><td>Bermuda</td><td>bermuda</td><td>P</td></tr><tr><td>BHU</td><td>Bhutan</td><td>bhutan</td><td>P</td></tr><tr><td>BIH</td><td>Bosnia and Herzegovina</td><td>bosnia-and-herzegovina</td><td>P</td></tr><tr><td>BIZ</td><td>Belize</td><td>belize</td><td>P</td></tr><tr><td>BLR</td><td>Belarus</td><td>belarus</td><td>NP</td></tr><tr><td>BOC</td><td>BOC</td><td>boc</td><td>H</td></tr><tr><td>BOL</td><td>Bolivia</td><td>bolivia</td><td>P</td></tr><tr><td>BOT</td><td>Botswana</td><td>botswana</td><td>P</td></tr><tr><td>BRA</td><td>Brazil</td><td>brazil</td><td>P</td></tr><tr><td>BRN</td><td>Bahrain</td><td>bahrain</td><td>P</td></tr><tr><td>BRU</td><td>Brunei Darussalam</td><td>brunei-darussalam</td><td>P</td></tr><tr><td>BUL</td><td>Bulgaria</td><td>bulgaria</td><td>P</td></tr><tr><td>BUR</td><td>Burkina Faso</td><td>burkina-faso</td><td>P</td></tr><tr><td>CAF</td><td>Central African Republic</td><td>centr-afric-rep</td><td>P</td></tr><tr><td>CAM</td><td>Cambodia</td><td>cambodia</td><td>P</td></tr><tr><td>CAN</td><td>Canada</td><td>canada</td><td>P</td></tr><tr><td>CAY</td><td>Cayman Islands</td><td>cayman-islands</td><td>P</td></tr><tr><td>CGO</td><td>Congo</td><td>congo</td><td>P</td></tr><tr><td>CHA</td><td>Chad</td><td>chad</td><td>P</td></tr><tr><td>CHI</td><td>Chile</td><td>chile</td><td>P</td></tr><tr><td>CHN</td><td>People's Republic of China</td><td>china</td><td>P</td></tr><tr><td>CIS</td><td>Commonwealth of Independent States</td><td>cis</td><td>H</td></tr><tr><td>CIV</td><td>Côte d'Ivoire</td><td>cote-d-ivoire</td><td>P</td></tr><tr><td>CMR</td><td>Cameroon</td><td>cameroon</td><td>P</td></tr><tr><td>COD</td><td>Democratic Republic of the Congo</td><td>dr-congo</td><td>P</td></tr><tr><td>COK</td><td>Cook Islands</td><td>cook-islands</td><td>P</td></tr><tr><td>COL</td><td>Colombia</td><td>colombia</td><td>P</td></tr><tr><td>COM</td><td>Comoros</td><td>comoros</td><td>P</td></tr><tr><td>COR</td><td>Korea</td><td>korea</td><td>H</td></tr><tr><td>CPV</td><td>Cabo Verde</td><td>cabo-verde</td><td>P</td></tr><tr><td>CRC</td><td>Costa Rica</td><td>costa-rica</td><td>P</td></tr><tr><td>CRO</td><td>Croatia</td><td>croatia</td><td>P</td></tr><tr><td>CUB</td><td>Cuba</td><td>cuba</td><td>P</td></tr><tr><td>CYP</td><td>Cyprus</td><td>cyprus</td><td>P</td></tr><tr><td>CZE</td><td>Czechia</td><td>czechia</td><td>P</td></tr><tr><td>DEN</td><td>Denmark</td><td>denmark</td><td>P</td></tr><tr><td>DJI</td><td>Djibouti</td><td>djibouti</td><td>P</td></tr><tr><td>DMA</td><td>Dominica</td><td>dominica</td><td>P</td></tr><tr><td>DOM</td><td>Dominican Republic</td><td>dominican-republic</td><td>P</td></tr><tr><td>ECU</td><td>Ecuador</td><td>ecuador</td><td>P</td></tr><tr><td>EGY</td><td>Egypt</td><td>egypt</td><td>P</td></tr><tr><td>EOR</td><td>Refugee Olympic Team</td><td>eor</td><td>P</td></tr><tr><td>ERI</td><td>Eritrea</td><td>eritrea</td><td>P</td></tr><tr><td>ESA</td><td>El Salvador</td><td>el-salvador</td><td>P</td></tr><tr><td>ESP</td><td>Spain</td><td>spain</td><td>P</td></tr><tr><td>EST</td><td>Estonia</td><td>estonia</td><td>P</td></tr><tr><td>ETH</td><td>Ethiopia</td><td>ethiopia</td><td>P</td></tr><tr><td>EUN</td><td>Unified Team</td><td>unified-team</td><td>H</td></tr><tr><td>FIJ</td><td>Fiji</td><td>fiji</td><td>P</td></tr><tr><td>FIN</td><td>Finland</td><td>finland</td><td>P</td></tr><tr><td>FRA</td><td>France</td><td>france</td><td>P</td></tr><tr><td>FRG</td><td>Federal Republic of Germany</td><td>frg</td><td>H</td></tr><tr><td>FSM</td><td>Federated States of Micronesia</td><td>micronesia</td><td>P</td></tr><tr><td>GAB</td><td>Gabon</td><td>gabon</td><td>P</td></tr><tr><td>GAM</td><td>Gambia</td><td>gambia</td><td>P</td></tr><tr><td>GBR</td><td>Great Britain</td><td>great-britain</td><td>P</td></tr><tr><td>GBS</td><td>Guinea-Bissau</td><td>guinea-bissau</td><td>P</td></tr><tr><td>GDR</td><td>German Democratic Republic</td><td>german-dem--republic</td><td>H</td></tr><tr><td>GEO</td><td>Georgia</td><td>georgia</td><td>P</td></tr><tr><td>GEQ</td><td>Equatorial Guinea</td><td>equatorial-guinea</td><td>P</td></tr><tr><td>GER</td><td>Germany</td><td>germany</td><td>P</td></tr><tr><td>GHA</td><td>Ghana</td><td>ghana</td><td>P</td></tr><tr><td>GRE</td><td>Greece</td><td>greece</td><td>P</td></tr><tr><td>GRN</td><td>Grenada</td><td>grenada</td><td>P</td></tr><tr><td>GUA</td><td>Guatemala</td><td>guatemala</td><td>P</td></tr><tr><td>GUI</td><td>Guinea</td><td>guinea</td><td>P</td></tr><tr><td>GUM</td><td>Guam</td><td>guam</td><td>P</td></tr><tr><td>GUY</td><td>Guyana</td><td>guyana</td><td>P</td></tr><tr><td>HAI</td><td>Haiti</td><td>haiti</td><td>P</td></tr><tr><td>HKG</td><td>Hong Kong, China</td><td>hong-kong--china</td><td>P</td></tr><tr><td>HON</td><td>Honduras</td><td>honduras</td><td>P</td></tr><tr><td>HUN</td><td>Hungary</td><td>hungary</td><td>P</td></tr><tr><td>INA</td><td>Indonesia</td><td>indonesia</td><td>P</td></tr><tr><td>IND</td><td>India</td><td>india</td><td>P</td></tr><tr><td>IOA</td><td>Independent Olympic Athletes</td><td>ioa</td><td>NP</td></tr><tr><td>IOP</td><td>Independent Olympic Participants</td><td>iop</td><td>H</td></tr><tr><td>IRI</td><td>Islamic Republic of Iran</td><td>ir-iran</td><td>P</td></tr><tr><td>IRL</td><td>Ireland</td><td>ireland</td><td>P</td></tr><tr><td>IRQ</td><td>Iraq</td><td>iraq</td><td>P</td></tr><tr><td>ISL</td><td>Iceland</td><td>iceland</td><td>P</td></tr><tr><td>ISR</td><td>Israel</td><td>israel</td><td>P</td></tr><tr><td>ISV</td><td>Virgin Islands, US</td><td>virgin-islands--us</td><td>P</td></tr><tr><td>ITA</td><td>Italy</td><td>italy</td><td>P</td></tr><tr><td>IVB</td><td>Virgin Islands, British</td><td>virgin-islands--b</td><td>P</td></tr><tr><td>JAM</td><td>Jamaica</td><td>jamaica</td><td>P</td></tr><tr><td>JOR</td><td>Jordan</td><td>jordan</td><td>P</td></tr><tr><td>JPN</td><td>Japan</td><td>japan</td><td>P</td></tr><tr><td>KAZ</td><td>Kazakhstan</td><td>kazakhstan</td><td>P</td></tr><tr><td>KEN</td><td>Kenya</td><td>kenya</td><td>P</td></tr><tr><td>KGZ</td><td>Kyrgyzstan</td><td>kyrgyzstan</td><td>P</td></tr><tr><td>KIR</td><td>Kiribati</td><td>kiribati</td><td>P</td></tr><tr><td>KOR</td><td>Republic of Korea</td><td>korea</td><td>P</td></tr><tr><td>KOS</td><td>Kosovo</td><td>kosovo</td><td>P</td></tr><tr><td>KSA</td><td>Saudi Arabia</td><td>saudi-arabia</td><td>P</td></tr><tr><td>KUW</td><td>Kuwait</td><td>kuwait</td><td>P</td></tr><tr><td>LAO</td><td>Lao People's Democratic Republic</td><td>lao-pdr</td><td>P</td></tr><tr><td>LAT</td><td>Latvia</td><td>latvia</td><td>P</td></tr><tr><td>LBA</td><td>Libya</td><td>libya</td><td>P</td></tr><tr><td>LBN</td><td>Lebanon</td><td>lebanon</td><td>P</td></tr><tr><td>LBR</td><td>Liberia</td><td>liberia</td><td>P</td></tr><tr><td>LCA</td><td>Saint Lucia</td><td>saint-lucia</td><td>P</td></tr><tr><td>LES</td><td>Lesotho</td><td>lesotho</td><td>P</td></tr><tr><td>LIE</td><td>Liechtenstein</td><td>liechtenstein</td><td>P</td></tr><tr><td>LTU</td><td>Lithuania</td><td>lithuania</td><td>P</td></tr><tr><td>LUX</td><td>Luxembourg</td><td>luxembourg</td><td>P</td></tr><tr><td>MAD</td><td>Madagascar</td><td>madagascar</td><td>P</td></tr><tr><td>MAR</td><td>Morocco</td><td>morocco</td><td>P</td></tr><tr><td>MAS</td><td>Malaysia</td><td>malaysia</td><td>P</td></tr><tr><td>MAW</td><td>Malawi</td><td>malawi</td><td>P</td></tr><tr><td>MDA</td><td>Republic of Moldova</td><td>republic-of-moldova</td><td>P</td></tr><tr><td>MDV</td><td>Maldives</td><td>maldives</td><td>P</td></tr><tr><td>MEX</td><td>Mexico</td><td>mexico</td><td>P</td></tr><tr><td>MGL</td><td>Mongolia</td><td>mongolia</td><td>P</td></tr><tr><td>MHL</td><td>Marshall Islands</td><td>marshall-islands</td><td>P</td></tr><tr><td>MKD</td><td>North Macedonia</td><td>north-macedonia</td><td>P</td></tr><tr><td>MLI</td><td>Mali</td><td>mali</td><td>P</td></tr><tr><td>MLT</td><td>Malta</td><td>malta</td><td>P</td></tr><tr><td>MNE</td><td>Montenegro</td><td>montenegro</td><td>P</td></tr><tr><td>MON</td><td>Monaco</td><td>monaco</td><td>P</td></tr><tr><td>MOZ</td><td>Mozambique</td><td>mozambique</td><td>P</td></tr><tr><td>MRI</td><td>Mauritius</td><td>mauritius</td><td>P</td></tr><tr><td>MTN</td><td>Mauritania</td><td>mauritania</td><td>P</td></tr><tr><td>MYA</td><td>Myanmar</td><td>myanmar</td><td>P</td></tr><tr><td>NAM</td><td>Namibia</td><td>namibia</td><td>P</td></tr><tr><td>NCA</td><td>Nicaragua</td><td>nicaragua</td><td>P</td></tr><tr><td>NED</td><td>Netherlands</td><td>netherlands</td><td>P</td></tr><tr><td>NEP</td><td>Nepal</td><td>nepal</td><td>P</td></tr><tr><td>NGR</td><td>Nigeria</td><td>nigeria</td><td>P</td></tr><tr><td>NIG</td><td>Niger</td><td>niger</td><td>P</td></tr><tr><td>NOR</td><td>Norway</td><td>norway</td><td>P</td></tr><tr><td>NRU</td><td>Nauru</td><td>nauru</td><td>P</td></tr><tr><td>NZL</td><td>New Zealand</td><td>new-zealand</td><td>P</td></tr><tr><td>OAR</td><td>Olympic Athlete from Russia</td><td>oar</td><td>H</td></tr><tr><td>OMA</td><td>Oman</td><td>oman</td><td>P</td></tr><tr><td>PAK</td><td>Pakistan</td><td>pakistan</td><td>P</td></tr><tr><td>PAN</td><td>Panama</td><td>panama</td><td>P</td></tr><tr><td>PAR</td><td>Paraguay</td><td>paraguay</td><td>P</td></tr><tr><td>PER</td><td>Peru</td><td>peru</td><td>P</td></tr><tr><td>PHI</td><td>Philippines</td><td>philippines</td><td>P</td></tr><tr><td>PLE</td><td>Palestine</td><td>palestine</td><td>P</td></tr><tr><td>PLW</td><td>Palau</td><td>palau</td><td>P</td></tr><tr><td>PNG</td><td>Papua New Guinea</td><td>papua-new-guinea</td><td>P</td></tr><tr><td>POL</td><td>Poland</td><td>poland</td><td>P</td></tr><tr><td>POR</td><td>Portugal</td><td>portugal</td><td>P</td></tr><tr><td>PRK</td><td>Democratic People's Republic of Korea</td><td>dpr-korea</td><td>P</td></tr><tr><td>PUR</td><td>Puerto Rico</td><td>puerto-rico</td><td>P</td></tr><tr><td>QAT</td><td>Qatar</td><td>qatar</td><td>P</td></tr><tr><td>ROC</td><td>ROC</td><td>roc</td><td>H</td></tr><tr><td>ROT</td><td>Refugee Olympic Team</td><td>rot</td><td>H</td></tr><tr><td>ROU</td><td>Romania</td><td>romania</td><td>P</td></tr><tr><td>RSA</td><td>South Africa</td><td>south-africa</td><td>P</td></tr><tr><td>RUS</td><td>Russian Federation</td><td>russian-federation</td><td>NP</td></tr><tr><td>RWA</td><td>Rwanda</td><td>rwanda</td><td>P</td></tr><tr><td>SAM</td><td>Samoa</td><td>samoa</td><td>P</td></tr><tr><td>SCG</td><td>Serbia and Montenegro</td><td>serbia-and-montenegro</td><td>H</td></tr><tr><td>SEN</td><td>Senegal</td><td>senegal</td><td>P</td></tr><tr><td>SEY</td><td>Seychelles</td><td>seychelles</td><td>P</td></tr><tr><td>SGP</td><td>Singapore</td><td>singapore</td><td>P</td></tr><tr><td>SKN</td><td>Saint Kitts and Nevis</td><td>st-kitts-and-nevis</td><td>P</td></tr><tr><td>SLE</td><td>Sierra Leone</td><td>sierra-leone</td><td>P</td></tr><tr><td>SLO</td><td>Slovenia</td><td>slovenia</td><td>P</td></tr><tr><td>SMR</td><td>San Marino</td><td>san-marino</td><td>P</td></tr><tr><td>SOL</td><td>Solomon Islands</td><td>solomon-islands</td><td>P</td></tr><tr><td>SOM</td><td>Somalia</td><td>somalia</td><td>P</td></tr><tr><td>SRB</td><td>Serbia</td><td>serbia</td><td>P</td></tr><tr><td>SRI</td><td>Sri Lanka</td><td>sri-lanka</td><td>P</td></tr><tr><td>SSD</td><td>South Sudan</td><td>south-sudan</td><td>P</td></tr><tr><td>STP</td><td>Sao Tome and Principe</td><td>sao-tome-and-principe</td><td>P</td></tr><tr><td>SUD</td><td>Sudan</td><td>sudan</td><td>P</td></tr><tr><td>SUI</td><td>Switzerland</td><td>switzerland</td><td>P</td></tr><tr><td>SUR</td><td>Suriname</td><td>suriname</td><td>P</td></tr><tr><td>SVK</td><td>Slovakia</td><td>slovakia</td><td>P</td></tr><tr><td>SWE</td><td>Sweden</td><td>sweden</td><td>P</td></tr><tr><td>SWZ</td><td>Eswatini</td><td>eswatini</td><td>P</td></tr><tr><td>SYR</td><td>Syrian Arab Republic</td><td>syria</td><td>P</td></tr><tr><td>TAN</td><td>United Republic of Tanzania</td><td>tanzania</td><td>P</td></tr><tr><td>TCH</td><td>Czechoslovakia</td><td>czechoslovakia</td><td>H</td></tr><tr><td>TGA</td><td>Tonga</td><td>tonga</td><td>P</td></tr><tr><td>THA</td><td>Thailand</td><td>thailand</td><td>P</td></tr><tr><td>TJK</td><td>Tajikistan</td><td>tajikistan</td><td>P</td></tr><tr><td>TKM</td><td>Turkmenistan</td><td>turkmenistan</td><td>P</td></tr><tr><td>TLS</td><td>Democratic Republic of Timor-Leste</td><td>timor-leste</td><td>P</td></tr><tr><td>TOG</td><td>Togo</td><td>togo</td><td>P</td></tr><tr><td>TPE</td><td>Chinese Taipei</td><td>chinese-taipei</td><td>P</td></tr><tr><td>TTO</td><td>Trinidad and Tobago</td><td>trinidad-and-tobago</td><td>P</td></tr><tr><td>TUN</td><td>Tunisia</td><td>tunisia</td><td>P</td></tr><tr><td>TUR</td><td>Türkiye</td><td>turkiye</td><td>P</td></tr><tr><td>TUV</td><td>Tuvalu</td><td>tuvalu</td><td>P</td></tr><tr><td>UAE</td><td>United Arab Emirates</td><td>ua-emirates</td><td>P</td></tr><tr><td>UGA</td><td>Uganda</td><td>uganda</td><td>P</td></tr><tr><td>UKR</td><td>Ukraine</td><td>ukraine</td><td>P</td></tr><tr><td>URS</td><td>USSR</td><td>ussr</td><td>H</td></tr><tr><td>URU</td><td>Uruguay</td><td>uruguay</td><td>P</td></tr><tr><td>USA</td><td>United States of America</td><td>united-states</td><td>P</td></tr><tr><td>UZB</td><td>Uzbekistan</td><td>uzbekistan</td><td>P</td></tr><tr><td>VAN</td><td>Vanuatu</td><td>vanuatu</td><td>P</td></tr><tr><td>VEN</td><td>Venezuela</td><td>venezuela</td><td>P</td></tr><tr><td>VIE</td><td>Vietnam</td><td>vietnam</td><td>P</td></tr><tr><td>VIN</td><td>St Vincent and the Grenadines</td><td>stvincentandgrenadines</td><td>P</td></tr><tr><td>YEM</td><td>Yemen</td><td>yemen</td><td>P</td></tr><tr><td>YUG</td><td>The Federal Republic of Yugoslavia</td><td>yugoslavia</td><td>H</td></tr><tr><td>ZAM</td><td>Zambia</td><td>zambia</td><td>P</td></tr><tr><td>ZIM</td><td>Zimbabwe</td><td>zimbabwe</td><td>P</td></tr></tbody></table></div>"
      ]
     },
     "metadata": {
      "application/vnd.databricks.v1+output": {
       "addedWidgets": {},
       "aggData": [],
       "aggError": "",
       "aggOverflow": false,
       "aggSchema": [],
       "aggSeriesLimitReached": false,
       "aggType": "",
       "arguments": {},
       "columnCustomDisplayInfos": {},
       "data": [
        [
         "AFG",
         "Afghanistan",
         "afghanistan",
         "P"
        ],
        [
         "AHO",
         "Netherlands Antilles",
         "netherlands-antilles",
         "H"
        ],
        [
         "AIN",
         "AIN",
         "ain",
         "P"
        ],
        [
         "ALB",
         "Albania",
         "albania",
         "P"
        ],
        [
         "ALG",
         "Algeria",
         "algeria",
         "P"
        ],
        [
         "AND",
         "Andorra",
         "andorra",
         "P"
        ],
        [
         "ANG",
         "Angola",
         "angola",
         "P"
        ],
        [
         "ANT",
         "Antigua and Barbuda",
         "antigua-and-barbuda",
         "P"
        ],
        [
         "ARG",
         "Argentina",
         "argentina",
         "P"
        ],
        [
         "ARM",
         "Armenia",
         "armenia",
         "P"
        ],
        [
         "ARU",
         "Aruba",
         "aruba",
         "P"
        ],
        [
         "ASA",
         "American Samoa",
         "american-samoa",
         "P"
        ],
        [
         "AUS",
         "Australia",
         "australia",
         "P"
        ],
        [
         "AUT",
         "Austria",
         "austria",
         "P"
        ],
        [
         "AZE",
         "Azerbaijan",
         "azerbaijan",
         "P"
        ],
        [
         "BAH",
         "Bahamas",
         "bahamas",
         "P"
        ],
        [
         "BAN",
         "Bangladesh",
         "bangladesh",
         "P"
        ],
        [
         "BAR",
         "Barbados",
         "barbados",
         "P"
        ],
        [
         "BDI",
         "Burundi",
         "burundi",
         "P"
        ],
        [
         "BEL",
         "Belgium",
         "belgium",
         "P"
        ],
        [
         "BEN",
         "Benin",
         "benin",
         "P"
        ],
        [
         "BER",
         "Bermuda",
         "bermuda",
         "P"
        ],
        [
         "BHU",
         "Bhutan",
         "bhutan",
         "P"
        ],
        [
         "BIH",
         "Bosnia and Herzegovina",
         "bosnia-and-herzegovina",
         "P"
        ],
        [
         "BIZ",
         "Belize",
         "belize",
         "P"
        ],
        [
         "BLR",
         "Belarus",
         "belarus",
         "NP"
        ],
        [
         "BOC",
         "BOC",
         "boc",
         "H"
        ],
        [
         "BOL",
         "Bolivia",
         "bolivia",
         "P"
        ],
        [
         "BOT",
         "Botswana",
         "botswana",
         "P"
        ],
        [
         "BRA",
         "Brazil",
         "brazil",
         "P"
        ],
        [
         "BRN",
         "Bahrain",
         "bahrain",
         "P"
        ],
        [
         "BRU",
         "Brunei Darussalam",
         "brunei-darussalam",
         "P"
        ],
        [
         "BUL",
         "Bulgaria",
         "bulgaria",
         "P"
        ],
        [
         "BUR",
         "Burkina Faso",
         "burkina-faso",
         "P"
        ],
        [
         "CAF",
         "Central African Republic",
         "centr-afric-rep",
         "P"
        ],
        [
         "CAM",
         "Cambodia",
         "cambodia",
         "P"
        ],
        [
         "CAN",
         "Canada",
         "canada",
         "P"
        ],
        [
         "CAY",
         "Cayman Islands",
         "cayman-islands",
         "P"
        ],
        [
         "CGO",
         "Congo",
         "congo",
         "P"
        ],
        [
         "CHA",
         "Chad",
         "chad",
         "P"
        ],
        [
         "CHI",
         "Chile",
         "chile",
         "P"
        ],
        [
         "CHN",
         "People's Republic of China",
         "china",
         "P"
        ],
        [
         "CIS",
         "Commonwealth of Independent States",
         "cis",
         "H"
        ],
        [
         "CIV",
         "Côte d'Ivoire",
         "cote-d-ivoire",
         "P"
        ],
        [
         "CMR",
         "Cameroon",
         "cameroon",
         "P"
        ],
        [
         "COD",
         "Democratic Republic of the Congo",
         "dr-congo",
         "P"
        ],
        [
         "COK",
         "Cook Islands",
         "cook-islands",
         "P"
        ],
        [
         "COL",
         "Colombia",
         "colombia",
         "P"
        ],
        [
         "COM",
         "Comoros",
         "comoros",
         "P"
        ],
        [
         "COR",
         "Korea",
         "korea",
         "H"
        ],
        [
         "CPV",
         "Cabo Verde",
         "cabo-verde",
         "P"
        ],
        [
         "CRC",
         "Costa Rica",
         "costa-rica",
         "P"
        ],
        [
         "CRO",
         "Croatia",
         "croatia",
         "P"
        ],
        [
         "CUB",
         "Cuba",
         "cuba",
         "P"
        ],
        [
         "CYP",
         "Cyprus",
         "cyprus",
         "P"
        ],
        [
         "CZE",
         "Czechia",
         "czechia",
         "P"
        ],
        [
         "DEN",
         "Denmark",
         "denmark",
         "P"
        ],
        [
         "DJI",
         "Djibouti",
         "djibouti",
         "P"
        ],
        [
         "DMA",
         "Dominica",
         "dominica",
         "P"
        ],
        [
         "DOM",
         "Dominican Republic",
         "dominican-republic",
         "P"
        ],
        [
         "ECU",
         "Ecuador",
         "ecuador",
         "P"
        ],
        [
         "EGY",
         "Egypt",
         "egypt",
         "P"
        ],
        [
         "EOR",
         "Refugee Olympic Team",
         "eor",
         "P"
        ],
        [
         "ERI",
         "Eritrea",
         "eritrea",
         "P"
        ],
        [
         "ESA",
         "El Salvador",
         "el-salvador",
         "P"
        ],
        [
         "ESP",
         "Spain",
         "spain",
         "P"
        ],
        [
         "EST",
         "Estonia",
         "estonia",
         "P"
        ],
        [
         "ETH",
         "Ethiopia",
         "ethiopia",
         "P"
        ],
        [
         "EUN",
         "Unified Team",
         "unified-team",
         "H"
        ],
        [
         "FIJ",
         "Fiji",
         "fiji",
         "P"
        ],
        [
         "FIN",
         "Finland",
         "finland",
         "P"
        ],
        [
         "FRA",
         "France",
         "france",
         "P"
        ],
        [
         "FRG",
         "Federal Republic of Germany",
         "frg",
         "H"
        ],
        [
         "FSM",
         "Federated States of Micronesia",
         "micronesia",
         "P"
        ],
        [
         "GAB",
         "Gabon",
         "gabon",
         "P"
        ],
        [
         "GAM",
         "Gambia",
         "gambia",
         "P"
        ],
        [
         "GBR",
         "Great Britain",
         "great-britain",
         "P"
        ],
        [
         "GBS",
         "Guinea-Bissau",
         "guinea-bissau",
         "P"
        ],
        [
         "GDR",
         "German Democratic Republic",
         "german-dem--republic",
         "H"
        ],
        [
         "GEO",
         "Georgia",
         "georgia",
         "P"
        ],
        [
         "GEQ",
         "Equatorial Guinea",
         "equatorial-guinea",
         "P"
        ],
        [
         "GER",
         "Germany",
         "germany",
         "P"
        ],
        [
         "GHA",
         "Ghana",
         "ghana",
         "P"
        ],
        [
         "GRE",
         "Greece",
         "greece",
         "P"
        ],
        [
         "GRN",
         "Grenada",
         "grenada",
         "P"
        ],
        [
         "GUA",
         "Guatemala",
         "guatemala",
         "P"
        ],
        [
         "GUI",
         "Guinea",
         "guinea",
         "P"
        ],
        [
         "GUM",
         "Guam",
         "guam",
         "P"
        ],
        [
         "GUY",
         "Guyana",
         "guyana",
         "P"
        ],
        [
         "HAI",
         "Haiti",
         "haiti",
         "P"
        ],
        [
         "HKG",
         "Hong Kong, China",
         "hong-kong--china",
         "P"
        ],
        [
         "HON",
         "Honduras",
         "honduras",
         "P"
        ],
        [
         "HUN",
         "Hungary",
         "hungary",
         "P"
        ],
        [
         "INA",
         "Indonesia",
         "indonesia",
         "P"
        ],
        [
         "IND",
         "India",
         "india",
         "P"
        ],
        [
         "IOA",
         "Independent Olympic Athletes",
         "ioa",
         "NP"
        ],
        [
         "IOP",
         "Independent Olympic Participants",
         "iop",
         "H"
        ],
        [
         "IRI",
         "Islamic Republic of Iran",
         "ir-iran",
         "P"
        ],
        [
         "IRL",
         "Ireland",
         "ireland",
         "P"
        ],
        [
         "IRQ",
         "Iraq",
         "iraq",
         "P"
        ],
        [
         "ISL",
         "Iceland",
         "iceland",
         "P"
        ],
        [
         "ISR",
         "Israel",
         "israel",
         "P"
        ],
        [
         "ISV",
         "Virgin Islands, US",
         "virgin-islands--us",
         "P"
        ],
        [
         "ITA",
         "Italy",
         "italy",
         "P"
        ],
        [
         "IVB",
         "Virgin Islands, British",
         "virgin-islands--b",
         "P"
        ],
        [
         "JAM",
         "Jamaica",
         "jamaica",
         "P"
        ],
        [
         "JOR",
         "Jordan",
         "jordan",
         "P"
        ],
        [
         "JPN",
         "Japan",
         "japan",
         "P"
        ],
        [
         "KAZ",
         "Kazakhstan",
         "kazakhstan",
         "P"
        ],
        [
         "KEN",
         "Kenya",
         "kenya",
         "P"
        ],
        [
         "KGZ",
         "Kyrgyzstan",
         "kyrgyzstan",
         "P"
        ],
        [
         "KIR",
         "Kiribati",
         "kiribati",
         "P"
        ],
        [
         "KOR",
         "Republic of Korea",
         "korea",
         "P"
        ],
        [
         "KOS",
         "Kosovo",
         "kosovo",
         "P"
        ],
        [
         "KSA",
         "Saudi Arabia",
         "saudi-arabia",
         "P"
        ],
        [
         "KUW",
         "Kuwait",
         "kuwait",
         "P"
        ],
        [
         "LAO",
         "Lao People's Democratic Republic",
         "lao-pdr",
         "P"
        ],
        [
         "LAT",
         "Latvia",
         "latvia",
         "P"
        ],
        [
         "LBA",
         "Libya",
         "libya",
         "P"
        ],
        [
         "LBN",
         "Lebanon",
         "lebanon",
         "P"
        ],
        [
         "LBR",
         "Liberia",
         "liberia",
         "P"
        ],
        [
         "LCA",
         "Saint Lucia",
         "saint-lucia",
         "P"
        ],
        [
         "LES",
         "Lesotho",
         "lesotho",
         "P"
        ],
        [
         "LIE",
         "Liechtenstein",
         "liechtenstein",
         "P"
        ],
        [
         "LTU",
         "Lithuania",
         "lithuania",
         "P"
        ],
        [
         "LUX",
         "Luxembourg",
         "luxembourg",
         "P"
        ],
        [
         "MAD",
         "Madagascar",
         "madagascar",
         "P"
        ],
        [
         "MAR",
         "Morocco",
         "morocco",
         "P"
        ],
        [
         "MAS",
         "Malaysia",
         "malaysia",
         "P"
        ],
        [
         "MAW",
         "Malawi",
         "malawi",
         "P"
        ],
        [
         "MDA",
         "Republic of Moldova",
         "republic-of-moldova",
         "P"
        ],
        [
         "MDV",
         "Maldives",
         "maldives",
         "P"
        ],
        [
         "MEX",
         "Mexico",
         "mexico",
         "P"
        ],
        [
         "MGL",
         "Mongolia",
         "mongolia",
         "P"
        ],
        [
         "MHL",
         "Marshall Islands",
         "marshall-islands",
         "P"
        ],
        [
         "MKD",
         "North Macedonia",
         "north-macedonia",
         "P"
        ],
        [
         "MLI",
         "Mali",
         "mali",
         "P"
        ],
        [
         "MLT",
         "Malta",
         "malta",
         "P"
        ],
        [
         "MNE",
         "Montenegro",
         "montenegro",
         "P"
        ],
        [
         "MON",
         "Monaco",
         "monaco",
         "P"
        ],
        [
         "MOZ",
         "Mozambique",
         "mozambique",
         "P"
        ],
        [
         "MRI",
         "Mauritius",
         "mauritius",
         "P"
        ],
        [
         "MTN",
         "Mauritania",
         "mauritania",
         "P"
        ],
        [
         "MYA",
         "Myanmar",
         "myanmar",
         "P"
        ],
        [
         "NAM",
         "Namibia",
         "namibia",
         "P"
        ],
        [
         "NCA",
         "Nicaragua",
         "nicaragua",
         "P"
        ],
        [
         "NED",
         "Netherlands",
         "netherlands",
         "P"
        ],
        [
         "NEP",
         "Nepal",
         "nepal",
         "P"
        ],
        [
         "NGR",
         "Nigeria",
         "nigeria",
         "P"
        ],
        [
         "NIG",
         "Niger",
         "niger",
         "P"
        ],
        [
         "NOR",
         "Norway",
         "norway",
         "P"
        ],
        [
         "NRU",
         "Nauru",
         "nauru",
         "P"
        ],
        [
         "NZL",
         "New Zealand",
         "new-zealand",
         "P"
        ],
        [
         "OAR",
         "Olympic Athlete from Russia",
         "oar",
         "H"
        ],
        [
         "OMA",
         "Oman",
         "oman",
         "P"
        ],
        [
         "PAK",
         "Pakistan",
         "pakistan",
         "P"
        ],
        [
         "PAN",
         "Panama",
         "panama",
         "P"
        ],
        [
         "PAR",
         "Paraguay",
         "paraguay",
         "P"
        ],
        [
         "PER",
         "Peru",
         "peru",
         "P"
        ],
        [
         "PHI",
         "Philippines",
         "philippines",
         "P"
        ],
        [
         "PLE",
         "Palestine",
         "palestine",
         "P"
        ],
        [
         "PLW",
         "Palau",
         "palau",
         "P"
        ],
        [
         "PNG",
         "Papua New Guinea",
         "papua-new-guinea",
         "P"
        ],
        [
         "POL",
         "Poland",
         "poland",
         "P"
        ],
        [
         "POR",
         "Portugal",
         "portugal",
         "P"
        ],
        [
         "PRK",
         "Democratic People's Republic of Korea",
         "dpr-korea",
         "P"
        ],
        [
         "PUR",
         "Puerto Rico",
         "puerto-rico",
         "P"
        ],
        [
         "QAT",
         "Qatar",
         "qatar",
         "P"
        ],
        [
         "ROC",
         "ROC",
         "roc",
         "H"
        ],
        [
         "ROT",
         "Refugee Olympic Team",
         "rot",
         "H"
        ],
        [
         "ROU",
         "Romania",
         "romania",
         "P"
        ],
        [
         "RSA",
         "South Africa",
         "south-africa",
         "P"
        ],
        [
         "RUS",
         "Russian Federation",
         "russian-federation",
         "NP"
        ],
        [
         "RWA",
         "Rwanda",
         "rwanda",
         "P"
        ],
        [
         "SAM",
         "Samoa",
         "samoa",
         "P"
        ],
        [
         "SCG",
         "Serbia and Montenegro",
         "serbia-and-montenegro",
         "H"
        ],
        [
         "SEN",
         "Senegal",
         "senegal",
         "P"
        ],
        [
         "SEY",
         "Seychelles",
         "seychelles",
         "P"
        ],
        [
         "SGP",
         "Singapore",
         "singapore",
         "P"
        ],
        [
         "SKN",
         "Saint Kitts and Nevis",
         "st-kitts-and-nevis",
         "P"
        ],
        [
         "SLE",
         "Sierra Leone",
         "sierra-leone",
         "P"
        ],
        [
         "SLO",
         "Slovenia",
         "slovenia",
         "P"
        ],
        [
         "SMR",
         "San Marino",
         "san-marino",
         "P"
        ],
        [
         "SOL",
         "Solomon Islands",
         "solomon-islands",
         "P"
        ],
        [
         "SOM",
         "Somalia",
         "somalia",
         "P"
        ],
        [
         "SRB",
         "Serbia",
         "serbia",
         "P"
        ],
        [
         "SRI",
         "Sri Lanka",
         "sri-lanka",
         "P"
        ],
        [
         "SSD",
         "South Sudan",
         "south-sudan",
         "P"
        ],
        [
         "STP",
         "Sao Tome and Principe",
         "sao-tome-and-principe",
         "P"
        ],
        [
         "SUD",
         "Sudan",
         "sudan",
         "P"
        ],
        [
         "SUI",
         "Switzerland",
         "switzerland",
         "P"
        ],
        [
         "SUR",
         "Suriname",
         "suriname",
         "P"
        ],
        [
         "SVK",
         "Slovakia",
         "slovakia",
         "P"
        ],
        [
         "SWE",
         "Sweden",
         "sweden",
         "P"
        ],
        [
         "SWZ",
         "Eswatini",
         "eswatini",
         "P"
        ],
        [
         "SYR",
         "Syrian Arab Republic",
         "syria",
         "P"
        ],
        [
         "TAN",
         "United Republic of Tanzania",
         "tanzania",
         "P"
        ],
        [
         "TCH",
         "Czechoslovakia",
         "czechoslovakia",
         "H"
        ],
        [
         "TGA",
         "Tonga",
         "tonga",
         "P"
        ],
        [
         "THA",
         "Thailand",
         "thailand",
         "P"
        ],
        [
         "TJK",
         "Tajikistan",
         "tajikistan",
         "P"
        ],
        [
         "TKM",
         "Turkmenistan",
         "turkmenistan",
         "P"
        ],
        [
         "TLS",
         "Democratic Republic of Timor-Leste",
         "timor-leste",
         "P"
        ],
        [
         "TOG",
         "Togo",
         "togo",
         "P"
        ],
        [
         "TPE",
         "Chinese Taipei",
         "chinese-taipei",
         "P"
        ],
        [
         "TTO",
         "Trinidad and Tobago",
         "trinidad-and-tobago",
         "P"
        ],
        [
         "TUN",
         "Tunisia",
         "tunisia",
         "P"
        ],
        [
         "TUR",
         "Türkiye",
         "turkiye",
         "P"
        ],
        [
         "TUV",
         "Tuvalu",
         "tuvalu",
         "P"
        ],
        [
         "UAE",
         "United Arab Emirates",
         "ua-emirates",
         "P"
        ],
        [
         "UGA",
         "Uganda",
         "uganda",
         "P"
        ],
        [
         "UKR",
         "Ukraine",
         "ukraine",
         "P"
        ],
        [
         "URS",
         "USSR",
         "ussr",
         "H"
        ],
        [
         "URU",
         "Uruguay",
         "uruguay",
         "P"
        ],
        [
         "USA",
         "United States of America",
         "united-states",
         "P"
        ],
        [
         "UZB",
         "Uzbekistan",
         "uzbekistan",
         "P"
        ],
        [
         "VAN",
         "Vanuatu",
         "vanuatu",
         "P"
        ],
        [
         "VEN",
         "Venezuela",
         "venezuela",
         "P"
        ],
        [
         "VIE",
         "Vietnam",
         "vietnam",
         "P"
        ],
        [
         "VIN",
         "St Vincent and the Grenadines",
         "stvincentandgrenadines",
         "P"
        ],
        [
         "YEM",
         "Yemen",
         "yemen",
         "P"
        ],
        [
         "YUG",
         "The Federal Republic of Yugoslavia",
         "yugoslavia",
         "H"
        ],
        [
         "ZAM",
         "Zambia",
         "zambia",
         "P"
        ],
        [
         "ZIM",
         "Zimbabwe",
         "zimbabwe",
         "P"
        ]
       ],
       "datasetInfos": [],
       "dbfsResultPath": null,
       "isJsonSchema": true,
       "metadata": {},
       "overflow": false,
       "plotOptions": {
        "customPlotOptions": {},
        "displayType": "table",
        "pivotAggregation": null,
        "pivotColumns": null,
        "xColumns": null,
        "yColumns": null
       },
       "removedWidgets": [],
       "schema": [
        {
         "metadata": "{}",
         "name": "code",
         "type": "\"string\""
        },
        {
         "metadata": "{}",
         "name": "country_long",
         "type": "\"string\""
        },
        {
         "metadata": "{}",
         "name": "tag",
         "type": "\"string\""
        },
        {
         "metadata": "{}",
         "name": "note",
         "type": "\"string\""
        }
       ],
       "type": "table"
      }
     },
     "output_type": "display_data"
    }
   ],
   "source": [
    "display(df)"
   ]
  },
  {
   "cell_type": "code",
   "execution_count": 0,
   "metadata": {
    "application/vnd.databricks.v1+cell": {
     "cellMetadata": {
      "byteLimit": 2048000,
      "rowLimit": 10000
     },
     "inputWidgets": {},
     "nuid": "ab9cc2e1-35de-4f62-91c2-0e7fa40d755f",
     "showTitle": false,
     "tableResultSettingsMap": {},
     "title": ""
    }
   },
   "outputs": [],
   "source": [
    "df = df.withColumn(\"tag\",split(col(\"tag\"),'-')[0])"
   ]
  },
  {
   "cell_type": "code",
   "execution_count": 0,
   "metadata": {
    "application/vnd.databricks.v1+cell": {
     "cellMetadata": {
      "byteLimit": 2048000,
      "rowLimit": 10000
     },
     "inputWidgets": {},
     "nuid": "864f6825-6f30-4524-8b36-04b3ac9a78d1",
     "showTitle": false,
     "tableResultSettingsMap": {},
     "title": ""
    }
   },
   "outputs": [
    {
     "output_type": "display_data",
     "data": {
      "text/html": [
       "<style scoped>\n",
       "  .table-result-container {\n",
       "    max-height: 300px;\n",
       "    overflow: auto;\n",
       "  }\n",
       "  table, th, td {\n",
       "    border: 1px solid black;\n",
       "    border-collapse: collapse;\n",
       "  }\n",
       "  th, td {\n",
       "    padding: 5px;\n",
       "  }\n",
       "  th {\n",
       "    text-align: left;\n",
       "  }\n",
       "</style><div class='table-result-container'><table class='table-result'><thead style='background-color: white'><tr><th>code</th><th>country_long</th><th>tag</th><th>note</th></tr></thead><tbody><tr><td>AFG</td><td>Afghanistan</td><td>afghanistan</td><td>P</td></tr><tr><td>AHO</td><td>Netherlands Antilles</td><td>netherlands</td><td>H</td></tr><tr><td>AIN</td><td>AIN</td><td>ain</td><td>P</td></tr><tr><td>ALB</td><td>Albania</td><td>albania</td><td>P</td></tr><tr><td>ALG</td><td>Algeria</td><td>algeria</td><td>P</td></tr><tr><td>AND</td><td>Andorra</td><td>andorra</td><td>P</td></tr><tr><td>ANG</td><td>Angola</td><td>angola</td><td>P</td></tr><tr><td>ANT</td><td>Antigua and Barbuda</td><td>antigua</td><td>P</td></tr><tr><td>ARG</td><td>Argentina</td><td>argentina</td><td>P</td></tr><tr><td>ARM</td><td>Armenia</td><td>armenia</td><td>P</td></tr><tr><td>ARU</td><td>Aruba</td><td>aruba</td><td>P</td></tr><tr><td>ASA</td><td>American Samoa</td><td>american</td><td>P</td></tr><tr><td>AUS</td><td>Australia</td><td>australia</td><td>P</td></tr><tr><td>AUT</td><td>Austria</td><td>austria</td><td>P</td></tr><tr><td>AZE</td><td>Azerbaijan</td><td>azerbaijan</td><td>P</td></tr><tr><td>BAH</td><td>Bahamas</td><td>bahamas</td><td>P</td></tr><tr><td>BAN</td><td>Bangladesh</td><td>bangladesh</td><td>P</td></tr><tr><td>BAR</td><td>Barbados</td><td>barbados</td><td>P</td></tr><tr><td>BDI</td><td>Burundi</td><td>burundi</td><td>P</td></tr><tr><td>BEL</td><td>Belgium</td><td>belgium</td><td>P</td></tr><tr><td>BEN</td><td>Benin</td><td>benin</td><td>P</td></tr><tr><td>BER</td><td>Bermuda</td><td>bermuda</td><td>P</td></tr><tr><td>BHU</td><td>Bhutan</td><td>bhutan</td><td>P</td></tr><tr><td>BIH</td><td>Bosnia and Herzegovina</td><td>bosnia</td><td>P</td></tr><tr><td>BIZ</td><td>Belize</td><td>belize</td><td>P</td></tr><tr><td>BLR</td><td>Belarus</td><td>belarus</td><td>NP</td></tr><tr><td>BOC</td><td>BOC</td><td>boc</td><td>H</td></tr><tr><td>BOL</td><td>Bolivia</td><td>bolivia</td><td>P</td></tr><tr><td>BOT</td><td>Botswana</td><td>botswana</td><td>P</td></tr><tr><td>BRA</td><td>Brazil</td><td>brazil</td><td>P</td></tr><tr><td>BRN</td><td>Bahrain</td><td>bahrain</td><td>P</td></tr><tr><td>BRU</td><td>Brunei Darussalam</td><td>brunei</td><td>P</td></tr><tr><td>BUL</td><td>Bulgaria</td><td>bulgaria</td><td>P</td></tr><tr><td>BUR</td><td>Burkina Faso</td><td>burkina</td><td>P</td></tr><tr><td>CAF</td><td>Central African Republic</td><td>centr</td><td>P</td></tr><tr><td>CAM</td><td>Cambodia</td><td>cambodia</td><td>P</td></tr><tr><td>CAN</td><td>Canada</td><td>canada</td><td>P</td></tr><tr><td>CAY</td><td>Cayman Islands</td><td>cayman</td><td>P</td></tr><tr><td>CGO</td><td>Congo</td><td>congo</td><td>P</td></tr><tr><td>CHA</td><td>Chad</td><td>chad</td><td>P</td></tr><tr><td>CHI</td><td>Chile</td><td>chile</td><td>P</td></tr><tr><td>CHN</td><td>People's Republic of China</td><td>china</td><td>P</td></tr><tr><td>CIS</td><td>Commonwealth of Independent States</td><td>cis</td><td>H</td></tr><tr><td>CIV</td><td>Côte d'Ivoire</td><td>cote</td><td>P</td></tr><tr><td>CMR</td><td>Cameroon</td><td>cameroon</td><td>P</td></tr><tr><td>COD</td><td>Democratic Republic of the Congo</td><td>dr</td><td>P</td></tr><tr><td>COK</td><td>Cook Islands</td><td>cook</td><td>P</td></tr><tr><td>COL</td><td>Colombia</td><td>colombia</td><td>P</td></tr><tr><td>COM</td><td>Comoros</td><td>comoros</td><td>P</td></tr><tr><td>COR</td><td>Korea</td><td>korea</td><td>H</td></tr><tr><td>CPV</td><td>Cabo Verde</td><td>cabo</td><td>P</td></tr><tr><td>CRC</td><td>Costa Rica</td><td>costa</td><td>P</td></tr><tr><td>CRO</td><td>Croatia</td><td>croatia</td><td>P</td></tr><tr><td>CUB</td><td>Cuba</td><td>cuba</td><td>P</td></tr><tr><td>CYP</td><td>Cyprus</td><td>cyprus</td><td>P</td></tr><tr><td>CZE</td><td>Czechia</td><td>czechia</td><td>P</td></tr><tr><td>DEN</td><td>Denmark</td><td>denmark</td><td>P</td></tr><tr><td>DJI</td><td>Djibouti</td><td>djibouti</td><td>P</td></tr><tr><td>DMA</td><td>Dominica</td><td>dominica</td><td>P</td></tr><tr><td>DOM</td><td>Dominican Republic</td><td>dominican</td><td>P</td></tr><tr><td>ECU</td><td>Ecuador</td><td>ecuador</td><td>P</td></tr><tr><td>EGY</td><td>Egypt</td><td>egypt</td><td>P</td></tr><tr><td>EOR</td><td>Refugee Olympic Team</td><td>eor</td><td>P</td></tr><tr><td>ERI</td><td>Eritrea</td><td>eritrea</td><td>P</td></tr><tr><td>ESA</td><td>El Salvador</td><td>el</td><td>P</td></tr><tr><td>ESP</td><td>Spain</td><td>spain</td><td>P</td></tr><tr><td>EST</td><td>Estonia</td><td>estonia</td><td>P</td></tr><tr><td>ETH</td><td>Ethiopia</td><td>ethiopia</td><td>P</td></tr><tr><td>EUN</td><td>Unified Team</td><td>unified</td><td>H</td></tr><tr><td>FIJ</td><td>Fiji</td><td>fiji</td><td>P</td></tr><tr><td>FIN</td><td>Finland</td><td>finland</td><td>P</td></tr><tr><td>FRA</td><td>France</td><td>france</td><td>P</td></tr><tr><td>FRG</td><td>Federal Republic of Germany</td><td>frg</td><td>H</td></tr><tr><td>FSM</td><td>Federated States of Micronesia</td><td>micronesia</td><td>P</td></tr><tr><td>GAB</td><td>Gabon</td><td>gabon</td><td>P</td></tr><tr><td>GAM</td><td>Gambia</td><td>gambia</td><td>P</td></tr><tr><td>GBR</td><td>Great Britain</td><td>great</td><td>P</td></tr><tr><td>GBS</td><td>Guinea-Bissau</td><td>guinea</td><td>P</td></tr><tr><td>GDR</td><td>German Democratic Republic</td><td>german</td><td>H</td></tr><tr><td>GEO</td><td>Georgia</td><td>georgia</td><td>P</td></tr><tr><td>GEQ</td><td>Equatorial Guinea</td><td>equatorial</td><td>P</td></tr><tr><td>GER</td><td>Germany</td><td>germany</td><td>P</td></tr><tr><td>GHA</td><td>Ghana</td><td>ghana</td><td>P</td></tr><tr><td>GRE</td><td>Greece</td><td>greece</td><td>P</td></tr><tr><td>GRN</td><td>Grenada</td><td>grenada</td><td>P</td></tr><tr><td>GUA</td><td>Guatemala</td><td>guatemala</td><td>P</td></tr><tr><td>GUI</td><td>Guinea</td><td>guinea</td><td>P</td></tr><tr><td>GUM</td><td>Guam</td><td>guam</td><td>P</td></tr><tr><td>GUY</td><td>Guyana</td><td>guyana</td><td>P</td></tr><tr><td>HAI</td><td>Haiti</td><td>haiti</td><td>P</td></tr><tr><td>HKG</td><td>Hong Kong, China</td><td>hong</td><td>P</td></tr><tr><td>HON</td><td>Honduras</td><td>honduras</td><td>P</td></tr><tr><td>HUN</td><td>Hungary</td><td>hungary</td><td>P</td></tr><tr><td>INA</td><td>Indonesia</td><td>indonesia</td><td>P</td></tr><tr><td>IND</td><td>India</td><td>india</td><td>P</td></tr><tr><td>IOA</td><td>Independent Olympic Athletes</td><td>ioa</td><td>NP</td></tr><tr><td>IOP</td><td>Independent Olympic Participants</td><td>iop</td><td>H</td></tr><tr><td>IRI</td><td>Islamic Republic of Iran</td><td>ir</td><td>P</td></tr><tr><td>IRL</td><td>Ireland</td><td>ireland</td><td>P</td></tr><tr><td>IRQ</td><td>Iraq</td><td>iraq</td><td>P</td></tr><tr><td>ISL</td><td>Iceland</td><td>iceland</td><td>P</td></tr><tr><td>ISR</td><td>Israel</td><td>israel</td><td>P</td></tr><tr><td>ISV</td><td>Virgin Islands, US</td><td>virgin</td><td>P</td></tr><tr><td>ITA</td><td>Italy</td><td>italy</td><td>P</td></tr><tr><td>IVB</td><td>Virgin Islands, British</td><td>virgin</td><td>P</td></tr><tr><td>JAM</td><td>Jamaica</td><td>jamaica</td><td>P</td></tr><tr><td>JOR</td><td>Jordan</td><td>jordan</td><td>P</td></tr><tr><td>JPN</td><td>Japan</td><td>japan</td><td>P</td></tr><tr><td>KAZ</td><td>Kazakhstan</td><td>kazakhstan</td><td>P</td></tr><tr><td>KEN</td><td>Kenya</td><td>kenya</td><td>P</td></tr><tr><td>KGZ</td><td>Kyrgyzstan</td><td>kyrgyzstan</td><td>P</td></tr><tr><td>KIR</td><td>Kiribati</td><td>kiribati</td><td>P</td></tr><tr><td>KOR</td><td>Republic of Korea</td><td>korea</td><td>P</td></tr><tr><td>KOS</td><td>Kosovo</td><td>kosovo</td><td>P</td></tr><tr><td>KSA</td><td>Saudi Arabia</td><td>saudi</td><td>P</td></tr><tr><td>KUW</td><td>Kuwait</td><td>kuwait</td><td>P</td></tr><tr><td>LAO</td><td>Lao People's Democratic Republic</td><td>lao</td><td>P</td></tr><tr><td>LAT</td><td>Latvia</td><td>latvia</td><td>P</td></tr><tr><td>LBA</td><td>Libya</td><td>libya</td><td>P</td></tr><tr><td>LBN</td><td>Lebanon</td><td>lebanon</td><td>P</td></tr><tr><td>LBR</td><td>Liberia</td><td>liberia</td><td>P</td></tr><tr><td>LCA</td><td>Saint Lucia</td><td>saint</td><td>P</td></tr><tr><td>LES</td><td>Lesotho</td><td>lesotho</td><td>P</td></tr><tr><td>LIE</td><td>Liechtenstein</td><td>liechtenstein</td><td>P</td></tr><tr><td>LTU</td><td>Lithuania</td><td>lithuania</td><td>P</td></tr><tr><td>LUX</td><td>Luxembourg</td><td>luxembourg</td><td>P</td></tr><tr><td>MAD</td><td>Madagascar</td><td>madagascar</td><td>P</td></tr><tr><td>MAR</td><td>Morocco</td><td>morocco</td><td>P</td></tr><tr><td>MAS</td><td>Malaysia</td><td>malaysia</td><td>P</td></tr><tr><td>MAW</td><td>Malawi</td><td>malawi</td><td>P</td></tr><tr><td>MDA</td><td>Republic of Moldova</td><td>republic</td><td>P</td></tr><tr><td>MDV</td><td>Maldives</td><td>maldives</td><td>P</td></tr><tr><td>MEX</td><td>Mexico</td><td>mexico</td><td>P</td></tr><tr><td>MGL</td><td>Mongolia</td><td>mongolia</td><td>P</td></tr><tr><td>MHL</td><td>Marshall Islands</td><td>marshall</td><td>P</td></tr><tr><td>MKD</td><td>North Macedonia</td><td>north</td><td>P</td></tr><tr><td>MLI</td><td>Mali</td><td>mali</td><td>P</td></tr><tr><td>MLT</td><td>Malta</td><td>malta</td><td>P</td></tr><tr><td>MNE</td><td>Montenegro</td><td>montenegro</td><td>P</td></tr><tr><td>MON</td><td>Monaco</td><td>monaco</td><td>P</td></tr><tr><td>MOZ</td><td>Mozambique</td><td>mozambique</td><td>P</td></tr><tr><td>MRI</td><td>Mauritius</td><td>mauritius</td><td>P</td></tr><tr><td>MTN</td><td>Mauritania</td><td>mauritania</td><td>P</td></tr><tr><td>MYA</td><td>Myanmar</td><td>myanmar</td><td>P</td></tr><tr><td>NAM</td><td>Namibia</td><td>namibia</td><td>P</td></tr><tr><td>NCA</td><td>Nicaragua</td><td>nicaragua</td><td>P</td></tr><tr><td>NED</td><td>Netherlands</td><td>netherlands</td><td>P</td></tr><tr><td>NEP</td><td>Nepal</td><td>nepal</td><td>P</td></tr><tr><td>NGR</td><td>Nigeria</td><td>nigeria</td><td>P</td></tr><tr><td>NIG</td><td>Niger</td><td>niger</td><td>P</td></tr><tr><td>NOR</td><td>Norway</td><td>norway</td><td>P</td></tr><tr><td>NRU</td><td>Nauru</td><td>nauru</td><td>P</td></tr><tr><td>NZL</td><td>New Zealand</td><td>new</td><td>P</td></tr><tr><td>OAR</td><td>Olympic Athlete from Russia</td><td>oar</td><td>H</td></tr><tr><td>OMA</td><td>Oman</td><td>oman</td><td>P</td></tr><tr><td>PAK</td><td>Pakistan</td><td>pakistan</td><td>P</td></tr><tr><td>PAN</td><td>Panama</td><td>panama</td><td>P</td></tr><tr><td>PAR</td><td>Paraguay</td><td>paraguay</td><td>P</td></tr><tr><td>PER</td><td>Peru</td><td>peru</td><td>P</td></tr><tr><td>PHI</td><td>Philippines</td><td>philippines</td><td>P</td></tr><tr><td>PLE</td><td>Palestine</td><td>palestine</td><td>P</td></tr><tr><td>PLW</td><td>Palau</td><td>palau</td><td>P</td></tr><tr><td>PNG</td><td>Papua New Guinea</td><td>papua</td><td>P</td></tr><tr><td>POL</td><td>Poland</td><td>poland</td><td>P</td></tr><tr><td>POR</td><td>Portugal</td><td>portugal</td><td>P</td></tr><tr><td>PRK</td><td>Democratic People's Republic of Korea</td><td>dpr</td><td>P</td></tr><tr><td>PUR</td><td>Puerto Rico</td><td>puerto</td><td>P</td></tr><tr><td>QAT</td><td>Qatar</td><td>qatar</td><td>P</td></tr><tr><td>ROC</td><td>ROC</td><td>roc</td><td>H</td></tr><tr><td>ROT</td><td>Refugee Olympic Team</td><td>rot</td><td>H</td></tr><tr><td>ROU</td><td>Romania</td><td>romania</td><td>P</td></tr><tr><td>RSA</td><td>South Africa</td><td>south</td><td>P</td></tr><tr><td>RUS</td><td>Russian Federation</td><td>russian</td><td>NP</td></tr><tr><td>RWA</td><td>Rwanda</td><td>rwanda</td><td>P</td></tr><tr><td>SAM</td><td>Samoa</td><td>samoa</td><td>P</td></tr><tr><td>SCG</td><td>Serbia and Montenegro</td><td>serbia</td><td>H</td></tr><tr><td>SEN</td><td>Senegal</td><td>senegal</td><td>P</td></tr><tr><td>SEY</td><td>Seychelles</td><td>seychelles</td><td>P</td></tr><tr><td>SGP</td><td>Singapore</td><td>singapore</td><td>P</td></tr><tr><td>SKN</td><td>Saint Kitts and Nevis</td><td>st</td><td>P</td></tr><tr><td>SLE</td><td>Sierra Leone</td><td>sierra</td><td>P</td></tr><tr><td>SLO</td><td>Slovenia</td><td>slovenia</td><td>P</td></tr><tr><td>SMR</td><td>San Marino</td><td>san</td><td>P</td></tr><tr><td>SOL</td><td>Solomon Islands</td><td>solomon</td><td>P</td></tr><tr><td>SOM</td><td>Somalia</td><td>somalia</td><td>P</td></tr><tr><td>SRB</td><td>Serbia</td><td>serbia</td><td>P</td></tr><tr><td>SRI</td><td>Sri Lanka</td><td>sri</td><td>P</td></tr><tr><td>SSD</td><td>South Sudan</td><td>south</td><td>P</td></tr><tr><td>STP</td><td>Sao Tome and Principe</td><td>sao</td><td>P</td></tr><tr><td>SUD</td><td>Sudan</td><td>sudan</td><td>P</td></tr><tr><td>SUI</td><td>Switzerland</td><td>switzerland</td><td>P</td></tr><tr><td>SUR</td><td>Suriname</td><td>suriname</td><td>P</td></tr><tr><td>SVK</td><td>Slovakia</td><td>slovakia</td><td>P</td></tr><tr><td>SWE</td><td>Sweden</td><td>sweden</td><td>P</td></tr><tr><td>SWZ</td><td>Eswatini</td><td>eswatini</td><td>P</td></tr><tr><td>SYR</td><td>Syrian Arab Republic</td><td>syria</td><td>P</td></tr><tr><td>TAN</td><td>United Republic of Tanzania</td><td>tanzania</td><td>P</td></tr><tr><td>TCH</td><td>Czechoslovakia</td><td>czechoslovakia</td><td>H</td></tr><tr><td>TGA</td><td>Tonga</td><td>tonga</td><td>P</td></tr><tr><td>THA</td><td>Thailand</td><td>thailand</td><td>P</td></tr><tr><td>TJK</td><td>Tajikistan</td><td>tajikistan</td><td>P</td></tr><tr><td>TKM</td><td>Turkmenistan</td><td>turkmenistan</td><td>P</td></tr><tr><td>TLS</td><td>Democratic Republic of Timor-Leste</td><td>timor</td><td>P</td></tr><tr><td>TOG</td><td>Togo</td><td>togo</td><td>P</td></tr><tr><td>TPE</td><td>Chinese Taipei</td><td>chinese</td><td>P</td></tr><tr><td>TTO</td><td>Trinidad and Tobago</td><td>trinidad</td><td>P</td></tr><tr><td>TUN</td><td>Tunisia</td><td>tunisia</td><td>P</td></tr><tr><td>TUR</td><td>Türkiye</td><td>turkiye</td><td>P</td></tr><tr><td>TUV</td><td>Tuvalu</td><td>tuvalu</td><td>P</td></tr><tr><td>UAE</td><td>United Arab Emirates</td><td>ua</td><td>P</td></tr><tr><td>UGA</td><td>Uganda</td><td>uganda</td><td>P</td></tr><tr><td>UKR</td><td>Ukraine</td><td>ukraine</td><td>P</td></tr><tr><td>URS</td><td>USSR</td><td>ussr</td><td>H</td></tr><tr><td>URU</td><td>Uruguay</td><td>uruguay</td><td>P</td></tr><tr><td>USA</td><td>United States of America</td><td>united</td><td>P</td></tr><tr><td>UZB</td><td>Uzbekistan</td><td>uzbekistan</td><td>P</td></tr><tr><td>VAN</td><td>Vanuatu</td><td>vanuatu</td><td>P</td></tr><tr><td>VEN</td><td>Venezuela</td><td>venezuela</td><td>P</td></tr><tr><td>VIE</td><td>Vietnam</td><td>vietnam</td><td>P</td></tr><tr><td>VIN</td><td>St Vincent and the Grenadines</td><td>stvincentandgrenadines</td><td>P</td></tr><tr><td>YEM</td><td>Yemen</td><td>yemen</td><td>P</td></tr><tr><td>YUG</td><td>The Federal Republic of Yugoslavia</td><td>yugoslavia</td><td>H</td></tr><tr><td>ZAM</td><td>Zambia</td><td>zambia</td><td>P</td></tr><tr><td>ZIM</td><td>Zimbabwe</td><td>zimbabwe</td><td>P</td></tr></tbody></table></div>"
      ]
     },
     "metadata": {
      "application/vnd.databricks.v1+output": {
       "addedWidgets": {},
       "aggData": [],
       "aggError": "",
       "aggOverflow": false,
       "aggSchema": [],
       "aggSeriesLimitReached": false,
       "aggType": "",
       "arguments": {},
       "columnCustomDisplayInfos": {},
       "data": [
        [
         "AFG",
         "Afghanistan",
         "afghanistan",
         "P"
        ],
        [
         "AHO",
         "Netherlands Antilles",
         "netherlands",
         "H"
        ],
        [
         "AIN",
         "AIN",
         "ain",
         "P"
        ],
        [
         "ALB",
         "Albania",
         "albania",
         "P"
        ],
        [
         "ALG",
         "Algeria",
         "algeria",
         "P"
        ],
        [
         "AND",
         "Andorra",
         "andorra",
         "P"
        ],
        [
         "ANG",
         "Angola",
         "angola",
         "P"
        ],
        [
         "ANT",
         "Antigua and Barbuda",
         "antigua",
         "P"
        ],
        [
         "ARG",
         "Argentina",
         "argentina",
         "P"
        ],
        [
         "ARM",
         "Armenia",
         "armenia",
         "P"
        ],
        [
         "ARU",
         "Aruba",
         "aruba",
         "P"
        ],
        [
         "ASA",
         "American Samoa",
         "american",
         "P"
        ],
        [
         "AUS",
         "Australia",
         "australia",
         "P"
        ],
        [
         "AUT",
         "Austria",
         "austria",
         "P"
        ],
        [
         "AZE",
         "Azerbaijan",
         "azerbaijan",
         "P"
        ],
        [
         "BAH",
         "Bahamas",
         "bahamas",
         "P"
        ],
        [
         "BAN",
         "Bangladesh",
         "bangladesh",
         "P"
        ],
        [
         "BAR",
         "Barbados",
         "barbados",
         "P"
        ],
        [
         "BDI",
         "Burundi",
         "burundi",
         "P"
        ],
        [
         "BEL",
         "Belgium",
         "belgium",
         "P"
        ],
        [
         "BEN",
         "Benin",
         "benin",
         "P"
        ],
        [
         "BER",
         "Bermuda",
         "bermuda",
         "P"
        ],
        [
         "BHU",
         "Bhutan",
         "bhutan",
         "P"
        ],
        [
         "BIH",
         "Bosnia and Herzegovina",
         "bosnia",
         "P"
        ],
        [
         "BIZ",
         "Belize",
         "belize",
         "P"
        ],
        [
         "BLR",
         "Belarus",
         "belarus",
         "NP"
        ],
        [
         "BOC",
         "BOC",
         "boc",
         "H"
        ],
        [
         "BOL",
         "Bolivia",
         "bolivia",
         "P"
        ],
        [
         "BOT",
         "Botswana",
         "botswana",
         "P"
        ],
        [
         "BRA",
         "Brazil",
         "brazil",
         "P"
        ],
        [
         "BRN",
         "Bahrain",
         "bahrain",
         "P"
        ],
        [
         "BRU",
         "Brunei Darussalam",
         "brunei",
         "P"
        ],
        [
         "BUL",
         "Bulgaria",
         "bulgaria",
         "P"
        ],
        [
         "BUR",
         "Burkina Faso",
         "burkina",
         "P"
        ],
        [
         "CAF",
         "Central African Republic",
         "centr",
         "P"
        ],
        [
         "CAM",
         "Cambodia",
         "cambodia",
         "P"
        ],
        [
         "CAN",
         "Canada",
         "canada",
         "P"
        ],
        [
         "CAY",
         "Cayman Islands",
         "cayman",
         "P"
        ],
        [
         "CGO",
         "Congo",
         "congo",
         "P"
        ],
        [
         "CHA",
         "Chad",
         "chad",
         "P"
        ],
        [
         "CHI",
         "Chile",
         "chile",
         "P"
        ],
        [
         "CHN",
         "People's Republic of China",
         "china",
         "P"
        ],
        [
         "CIS",
         "Commonwealth of Independent States",
         "cis",
         "H"
        ],
        [
         "CIV",
         "Côte d'Ivoire",
         "cote",
         "P"
        ],
        [
         "CMR",
         "Cameroon",
         "cameroon",
         "P"
        ],
        [
         "COD",
         "Democratic Republic of the Congo",
         "dr",
         "P"
        ],
        [
         "COK",
         "Cook Islands",
         "cook",
         "P"
        ],
        [
         "COL",
         "Colombia",
         "colombia",
         "P"
        ],
        [
         "COM",
         "Comoros",
         "comoros",
         "P"
        ],
        [
         "COR",
         "Korea",
         "korea",
         "H"
        ],
        [
         "CPV",
         "Cabo Verde",
         "cabo",
         "P"
        ],
        [
         "CRC",
         "Costa Rica",
         "costa",
         "P"
        ],
        [
         "CRO",
         "Croatia",
         "croatia",
         "P"
        ],
        [
         "CUB",
         "Cuba",
         "cuba",
         "P"
        ],
        [
         "CYP",
         "Cyprus",
         "cyprus",
         "P"
        ],
        [
         "CZE",
         "Czechia",
         "czechia",
         "P"
        ],
        [
         "DEN",
         "Denmark",
         "denmark",
         "P"
        ],
        [
         "DJI",
         "Djibouti",
         "djibouti",
         "P"
        ],
        [
         "DMA",
         "Dominica",
         "dominica",
         "P"
        ],
        [
         "DOM",
         "Dominican Republic",
         "dominican",
         "P"
        ],
        [
         "ECU",
         "Ecuador",
         "ecuador",
         "P"
        ],
        [
         "EGY",
         "Egypt",
         "egypt",
         "P"
        ],
        [
         "EOR",
         "Refugee Olympic Team",
         "eor",
         "P"
        ],
        [
         "ERI",
         "Eritrea",
         "eritrea",
         "P"
        ],
        [
         "ESA",
         "El Salvador",
         "el",
         "P"
        ],
        [
         "ESP",
         "Spain",
         "spain",
         "P"
        ],
        [
         "EST",
         "Estonia",
         "estonia",
         "P"
        ],
        [
         "ETH",
         "Ethiopia",
         "ethiopia",
         "P"
        ],
        [
         "EUN",
         "Unified Team",
         "unified",
         "H"
        ],
        [
         "FIJ",
         "Fiji",
         "fiji",
         "P"
        ],
        [
         "FIN",
         "Finland",
         "finland",
         "P"
        ],
        [
         "FRA",
         "France",
         "france",
         "P"
        ],
        [
         "FRG",
         "Federal Republic of Germany",
         "frg",
         "H"
        ],
        [
         "FSM",
         "Federated States of Micronesia",
         "micronesia",
         "P"
        ],
        [
         "GAB",
         "Gabon",
         "gabon",
         "P"
        ],
        [
         "GAM",
         "Gambia",
         "gambia",
         "P"
        ],
        [
         "GBR",
         "Great Britain",
         "great",
         "P"
        ],
        [
         "GBS",
         "Guinea-Bissau",
         "guinea",
         "P"
        ],
        [
         "GDR",
         "German Democratic Republic",
         "german",
         "H"
        ],
        [
         "GEO",
         "Georgia",
         "georgia",
         "P"
        ],
        [
         "GEQ",
         "Equatorial Guinea",
         "equatorial",
         "P"
        ],
        [
         "GER",
         "Germany",
         "germany",
         "P"
        ],
        [
         "GHA",
         "Ghana",
         "ghana",
         "P"
        ],
        [
         "GRE",
         "Greece",
         "greece",
         "P"
        ],
        [
         "GRN",
         "Grenada",
         "grenada",
         "P"
        ],
        [
         "GUA",
         "Guatemala",
         "guatemala",
         "P"
        ],
        [
         "GUI",
         "Guinea",
         "guinea",
         "P"
        ],
        [
         "GUM",
         "Guam",
         "guam",
         "P"
        ],
        [
         "GUY",
         "Guyana",
         "guyana",
         "P"
        ],
        [
         "HAI",
         "Haiti",
         "haiti",
         "P"
        ],
        [
         "HKG",
         "Hong Kong, China",
         "hong",
         "P"
        ],
        [
         "HON",
         "Honduras",
         "honduras",
         "P"
        ],
        [
         "HUN",
         "Hungary",
         "hungary",
         "P"
        ],
        [
         "INA",
         "Indonesia",
         "indonesia",
         "P"
        ],
        [
         "IND",
         "India",
         "india",
         "P"
        ],
        [
         "IOA",
         "Independent Olympic Athletes",
         "ioa",
         "NP"
        ],
        [
         "IOP",
         "Independent Olympic Participants",
         "iop",
         "H"
        ],
        [
         "IRI",
         "Islamic Republic of Iran",
         "ir",
         "P"
        ],
        [
         "IRL",
         "Ireland",
         "ireland",
         "P"
        ],
        [
         "IRQ",
         "Iraq",
         "iraq",
         "P"
        ],
        [
         "ISL",
         "Iceland",
         "iceland",
         "P"
        ],
        [
         "ISR",
         "Israel",
         "israel",
         "P"
        ],
        [
         "ISV",
         "Virgin Islands, US",
         "virgin",
         "P"
        ],
        [
         "ITA",
         "Italy",
         "italy",
         "P"
        ],
        [
         "IVB",
         "Virgin Islands, British",
         "virgin",
         "P"
        ],
        [
         "JAM",
         "Jamaica",
         "jamaica",
         "P"
        ],
        [
         "JOR",
         "Jordan",
         "jordan",
         "P"
        ],
        [
         "JPN",
         "Japan",
         "japan",
         "P"
        ],
        [
         "KAZ",
         "Kazakhstan",
         "kazakhstan",
         "P"
        ],
        [
         "KEN",
         "Kenya",
         "kenya",
         "P"
        ],
        [
         "KGZ",
         "Kyrgyzstan",
         "kyrgyzstan",
         "P"
        ],
        [
         "KIR",
         "Kiribati",
         "kiribati",
         "P"
        ],
        [
         "KOR",
         "Republic of Korea",
         "korea",
         "P"
        ],
        [
         "KOS",
         "Kosovo",
         "kosovo",
         "P"
        ],
        [
         "KSA",
         "Saudi Arabia",
         "saudi",
         "P"
        ],
        [
         "KUW",
         "Kuwait",
         "kuwait",
         "P"
        ],
        [
         "LAO",
         "Lao People's Democratic Republic",
         "lao",
         "P"
        ],
        [
         "LAT",
         "Latvia",
         "latvia",
         "P"
        ],
        [
         "LBA",
         "Libya",
         "libya",
         "P"
        ],
        [
         "LBN",
         "Lebanon",
         "lebanon",
         "P"
        ],
        [
         "LBR",
         "Liberia",
         "liberia",
         "P"
        ],
        [
         "LCA",
         "Saint Lucia",
         "saint",
         "P"
        ],
        [
         "LES",
         "Lesotho",
         "lesotho",
         "P"
        ],
        [
         "LIE",
         "Liechtenstein",
         "liechtenstein",
         "P"
        ],
        [
         "LTU",
         "Lithuania",
         "lithuania",
         "P"
        ],
        [
         "LUX",
         "Luxembourg",
         "luxembourg",
         "P"
        ],
        [
         "MAD",
         "Madagascar",
         "madagascar",
         "P"
        ],
        [
         "MAR",
         "Morocco",
         "morocco",
         "P"
        ],
        [
         "MAS",
         "Malaysia",
         "malaysia",
         "P"
        ],
        [
         "MAW",
         "Malawi",
         "malawi",
         "P"
        ],
        [
         "MDA",
         "Republic of Moldova",
         "republic",
         "P"
        ],
        [
         "MDV",
         "Maldives",
         "maldives",
         "P"
        ],
        [
         "MEX",
         "Mexico",
         "mexico",
         "P"
        ],
        [
         "MGL",
         "Mongolia",
         "mongolia",
         "P"
        ],
        [
         "MHL",
         "Marshall Islands",
         "marshall",
         "P"
        ],
        [
         "MKD",
         "North Macedonia",
         "north",
         "P"
        ],
        [
         "MLI",
         "Mali",
         "mali",
         "P"
        ],
        [
         "MLT",
         "Malta",
         "malta",
         "P"
        ],
        [
         "MNE",
         "Montenegro",
         "montenegro",
         "P"
        ],
        [
         "MON",
         "Monaco",
         "monaco",
         "P"
        ],
        [
         "MOZ",
         "Mozambique",
         "mozambique",
         "P"
        ],
        [
         "MRI",
         "Mauritius",
         "mauritius",
         "P"
        ],
        [
         "MTN",
         "Mauritania",
         "mauritania",
         "P"
        ],
        [
         "MYA",
         "Myanmar",
         "myanmar",
         "P"
        ],
        [
         "NAM",
         "Namibia",
         "namibia",
         "P"
        ],
        [
         "NCA",
         "Nicaragua",
         "nicaragua",
         "P"
        ],
        [
         "NED",
         "Netherlands",
         "netherlands",
         "P"
        ],
        [
         "NEP",
         "Nepal",
         "nepal",
         "P"
        ],
        [
         "NGR",
         "Nigeria",
         "nigeria",
         "P"
        ],
        [
         "NIG",
         "Niger",
         "niger",
         "P"
        ],
        [
         "NOR",
         "Norway",
         "norway",
         "P"
        ],
        [
         "NRU",
         "Nauru",
         "nauru",
         "P"
        ],
        [
         "NZL",
         "New Zealand",
         "new",
         "P"
        ],
        [
         "OAR",
         "Olympic Athlete from Russia",
         "oar",
         "H"
        ],
        [
         "OMA",
         "Oman",
         "oman",
         "P"
        ],
        [
         "PAK",
         "Pakistan",
         "pakistan",
         "P"
        ],
        [
         "PAN",
         "Panama",
         "panama",
         "P"
        ],
        [
         "PAR",
         "Paraguay",
         "paraguay",
         "P"
        ],
        [
         "PER",
         "Peru",
         "peru",
         "P"
        ],
        [
         "PHI",
         "Philippines",
         "philippines",
         "P"
        ],
        [
         "PLE",
         "Palestine",
         "palestine",
         "P"
        ],
        [
         "PLW",
         "Palau",
         "palau",
         "P"
        ],
        [
         "PNG",
         "Papua New Guinea",
         "papua",
         "P"
        ],
        [
         "POL",
         "Poland",
         "poland",
         "P"
        ],
        [
         "POR",
         "Portugal",
         "portugal",
         "P"
        ],
        [
         "PRK",
         "Democratic People's Republic of Korea",
         "dpr",
         "P"
        ],
        [
         "PUR",
         "Puerto Rico",
         "puerto",
         "P"
        ],
        [
         "QAT",
         "Qatar",
         "qatar",
         "P"
        ],
        [
         "ROC",
         "ROC",
         "roc",
         "H"
        ],
        [
         "ROT",
         "Refugee Olympic Team",
         "rot",
         "H"
        ],
        [
         "ROU",
         "Romania",
         "romania",
         "P"
        ],
        [
         "RSA",
         "South Africa",
         "south",
         "P"
        ],
        [
         "RUS",
         "Russian Federation",
         "russian",
         "NP"
        ],
        [
         "RWA",
         "Rwanda",
         "rwanda",
         "P"
        ],
        [
         "SAM",
         "Samoa",
         "samoa",
         "P"
        ],
        [
         "SCG",
         "Serbia and Montenegro",
         "serbia",
         "H"
        ],
        [
         "SEN",
         "Senegal",
         "senegal",
         "P"
        ],
        [
         "SEY",
         "Seychelles",
         "seychelles",
         "P"
        ],
        [
         "SGP",
         "Singapore",
         "singapore",
         "P"
        ],
        [
         "SKN",
         "Saint Kitts and Nevis",
         "st",
         "P"
        ],
        [
         "SLE",
         "Sierra Leone",
         "sierra",
         "P"
        ],
        [
         "SLO",
         "Slovenia",
         "slovenia",
         "P"
        ],
        [
         "SMR",
         "San Marino",
         "san",
         "P"
        ],
        [
         "SOL",
         "Solomon Islands",
         "solomon",
         "P"
        ],
        [
         "SOM",
         "Somalia",
         "somalia",
         "P"
        ],
        [
         "SRB",
         "Serbia",
         "serbia",
         "P"
        ],
        [
         "SRI",
         "Sri Lanka",
         "sri",
         "P"
        ],
        [
         "SSD",
         "South Sudan",
         "south",
         "P"
        ],
        [
         "STP",
         "Sao Tome and Principe",
         "sao",
         "P"
        ],
        [
         "SUD",
         "Sudan",
         "sudan",
         "P"
        ],
        [
         "SUI",
         "Switzerland",
         "switzerland",
         "P"
        ],
        [
         "SUR",
         "Suriname",
         "suriname",
         "P"
        ],
        [
         "SVK",
         "Slovakia",
         "slovakia",
         "P"
        ],
        [
         "SWE",
         "Sweden",
         "sweden",
         "P"
        ],
        [
         "SWZ",
         "Eswatini",
         "eswatini",
         "P"
        ],
        [
         "SYR",
         "Syrian Arab Republic",
         "syria",
         "P"
        ],
        [
         "TAN",
         "United Republic of Tanzania",
         "tanzania",
         "P"
        ],
        [
         "TCH",
         "Czechoslovakia",
         "czechoslovakia",
         "H"
        ],
        [
         "TGA",
         "Tonga",
         "tonga",
         "P"
        ],
        [
         "THA",
         "Thailand",
         "thailand",
         "P"
        ],
        [
         "TJK",
         "Tajikistan",
         "tajikistan",
         "P"
        ],
        [
         "TKM",
         "Turkmenistan",
         "turkmenistan",
         "P"
        ],
        [
         "TLS",
         "Democratic Republic of Timor-Leste",
         "timor",
         "P"
        ],
        [
         "TOG",
         "Togo",
         "togo",
         "P"
        ],
        [
         "TPE",
         "Chinese Taipei",
         "chinese",
         "P"
        ],
        [
         "TTO",
         "Trinidad and Tobago",
         "trinidad",
         "P"
        ],
        [
         "TUN",
         "Tunisia",
         "tunisia",
         "P"
        ],
        [
         "TUR",
         "Türkiye",
         "turkiye",
         "P"
        ],
        [
         "TUV",
         "Tuvalu",
         "tuvalu",
         "P"
        ],
        [
         "UAE",
         "United Arab Emirates",
         "ua",
         "P"
        ],
        [
         "UGA",
         "Uganda",
         "uganda",
         "P"
        ],
        [
         "UKR",
         "Ukraine",
         "ukraine",
         "P"
        ],
        [
         "URS",
         "USSR",
         "ussr",
         "H"
        ],
        [
         "URU",
         "Uruguay",
         "uruguay",
         "P"
        ],
        [
         "USA",
         "United States of America",
         "united",
         "P"
        ],
        [
         "UZB",
         "Uzbekistan",
         "uzbekistan",
         "P"
        ],
        [
         "VAN",
         "Vanuatu",
         "vanuatu",
         "P"
        ],
        [
         "VEN",
         "Venezuela",
         "venezuela",
         "P"
        ],
        [
         "VIE",
         "Vietnam",
         "vietnam",
         "P"
        ],
        [
         "VIN",
         "St Vincent and the Grenadines",
         "stvincentandgrenadines",
         "P"
        ],
        [
         "YEM",
         "Yemen",
         "yemen",
         "P"
        ],
        [
         "YUG",
         "The Federal Republic of Yugoslavia",
         "yugoslavia",
         "H"
        ],
        [
         "ZAM",
         "Zambia",
         "zambia",
         "P"
        ],
        [
         "ZIM",
         "Zimbabwe",
         "zimbabwe",
         "P"
        ]
       ],
       "datasetInfos": [],
       "dbfsResultPath": null,
       "isJsonSchema": true,
       "metadata": {},
       "overflow": false,
       "plotOptions": {
        "customPlotOptions": {},
        "displayType": "table",
        "pivotAggregation": null,
        "pivotColumns": null,
        "xColumns": null,
        "yColumns": null
       },
       "removedWidgets": [],
       "schema": [
        {
         "metadata": "{}",
         "name": "code",
         "type": "\"string\""
        },
        {
         "metadata": "{}",
         "name": "country_long",
         "type": "\"string\""
        },
        {
         "metadata": "{}",
         "name": "tag",
         "type": "\"string\""
        },
        {
         "metadata": "{}",
         "name": "note",
         "type": "\"string\""
        }
       ],
       "type": "table"
      }
     },
     "output_type": "display_data"
    }
   ],
   "source": [
    "display(df)"
   ]
  },
  {
   "cell_type": "markdown",
   "metadata": {
    "application/vnd.databricks.v1+cell": {
     "cellMetadata": {},
     "inputWidgets": {},
     "nuid": "df193e6a-354e-4b42-a671-74287b1faf14",
     "showTitle": false,
     "tableResultSettingsMap": {},
     "title": ""
    }
   },
   "source": [
    "## Writing the data in an external location"
   ]
  },
  {
   "cell_type": "code",
   "execution_count": 0,
   "metadata": {
    "application/vnd.databricks.v1+cell": {
     "cellMetadata": {
      "byteLimit": 2048000,
      "rowLimit": 10000
     },
     "inputWidgets": {},
     "nuid": "a8b7bfe9-5dc9-4b58-a7ca-7381e6f1b82b",
     "showTitle": false,
     "tableResultSettingsMap": {},
     "title": ""
    }
   },
   "outputs": [],
   "source": [
    "df.write.format(\"delta\")\\\n",
    "    .mode(\"append\")\\\n",
    "    .option(\"path\",\"abfss://silver@storageaccolympic.dfs.core.windows.net/nocs\")\\\n",
    "    .save()        "
   ]
  }
 ],
 "metadata": {
  "application/vnd.databricks.v1+notebook": {
   "computePreferences": null,
   "dashboards": [],
   "environmentMetadata": {
    "base_environment": "",
    "environment_version": "2"
   },
   "inputWidgetPreferences": null,
   "language": "python",
   "notebookMetadata": {
    "pythonIndentUnit": 4
   },
   "notebookName": "Silver_NOCS",
   "widgets": {}
  },
  "language_info": {
   "name": "python"
  }
 },
 "nbformat": 4,
 "nbformat_minor": 0
}